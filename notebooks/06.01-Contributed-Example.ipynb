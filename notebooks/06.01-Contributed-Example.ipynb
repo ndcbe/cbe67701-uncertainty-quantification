{
 "cells": [
  {
   "cell_type": "markdown",
   "metadata": {
    "colab_type": "text",
    "id": "5F6q8D_2xysC"
   },
   "source": [
    "# **Nonlinear Diffusion-Reaction Equation**\n",
    "\n",
    "Created by Shanghui Huang (shuang7@nd.edu)\n",
    "\n",
    "This example was adapted from:\n",
    "\n",
    "McClarren, Ryan G (2018). Uncertainty Quantification and Predictive Computational Science: A Foundation for Physical Scientists and Engineers, Chapter 6: Adjoints-Based Local Sensitivity Analysis, Springer, https://doi.org/10.1007/978-3-319-99525-0_6\n",
    "\n",
    "And special acknowledgement to *Han Gao* for a fruitful discussion"
   ]
  },
  {
   "cell_type": "markdown",
   "metadata": {
    "colab_type": "text",
    "id": "nVkXoGG5MVjd"
   },
   "source": [
    "## An Overview\n",
    "This chapter introduces an adjoint-based method to compute the local sensitivity of a QoI against a parameter. In this method, adjoints gives information of perturbed quantity with only one solve of the forward system and one solve of the adjoint equations.\n",
    "\n",
    "Take the steady ADR equation for example: \n",
    "\\begin{equation}\n",
    "v\\frac{\\partial u}{\\partial x} - \\omega \\frac{\\partial ^2 u}{\\partial x^2} + \\kappa u = q\n",
    "\\end{equation}\n",
    "the operator $L$ is defined as:\n",
    "\\begin{equation}\n",
    "L = v\\frac{\\partial}{\\partial x} - \\omega \\frac{\\partial ^2}{\\partial x^2} + \\kappa\n",
    "\\end{equation}\n",
    "Then the adjoints satisfies:\n",
    "\\begin{equation}\n",
    "(Lu,u^{\\ast})=(u,L^{\\ast}u^{\\ast})\n",
    "\\end{equation}\n",
    "and\n",
    "\\begin{equation}\n",
    "L^{\\ast}u^{\\ast} = w\n",
    "\\end{equation}\n",
    "After a series of mathematical derivations, we can calculate the local sensitivities:\n",
    "\\begin{equation}\n",
    "\\frac{\\partial Q}{\\partial \\theta} = (\\frac{\\partial q}{\\partial \\theta},u^{\\ast}) + (u,\\frac{\\partial w}{\\partial \\theta}) - (\\frac{\\partial L}{\\partial \\theta}u,u^{\\ast})\n",
    "\\end{equation} "
   ]
  },
  {
   "cell_type": "markdown",
   "metadata": {
    "colab_type": "text",
    "id": "r0IDoJRGXT_-"
   },
   "source": [
    "## Example of nonlinear diffusion-reaction equation"
   ]
  },
  {
   "cell_type": "markdown",
   "metadata": {
    "colab_type": "text",
    "id": "8Eyf7kcNbGU9"
   },
   "source": [
    "Solving nonlinear diffusion-reaction equation:\n",
    "\\begin{equation}\n",
    "F(u,\\dot{u}) = \\rho\\dot{u}-\\omega\\frac{\\partial^2u^4}{\\partial x^2} + \\kappa u^4 - S\n",
    "\\end{equation}\n",
    "in which \n",
    "\\begin{equation}\n",
    "\\kappa (x) =\n",
    "\\begin{cases}\n",
    "\\kappa_h, & 1 \\le x \\lt 1.5 \\\\\n",
    "\\kappa_l, & otherwise\n",
    "\\end{cases}\n",
    "\\end{equation}\n",
    "\\begin{equation}\n",
    "\\S(x) = \n",
    "\\begin{cases}\n",
    "q, & 0.5 \\le x \\le 1.5 \\\\\n",
    "0, & otherwise\n",
    "\\end{cases}\n",
    "\\end{equation}\n",
    "with nominal values \n",
    "\\begin{equation}\n",
    "\\rho = 1, \\omega = 0.1, \\kappa _l = 0.1 \\kappa _h =2, q = 1\n",
    "\\end{equation}"
   ]
  },
  {
   "cell_type": "markdown",
   "metadata": {
    "colab_type": "text",
    "id": "OFnYIf6MX_bw"
   },
   "source": [
    "## Codes"
   ]
  },
  {
   "cell_type": "code",
   "execution_count": 6,
   "metadata": {
    "colab": {
     "base_uri": "https://localhost:8080/",
     "height": 228
    },
    "colab_type": "code",
    "executionInfo": {
     "elapsed": 5038,
     "status": "ok",
     "timestamp": 1593523486948,
     "user": {
      "displayName": "黄尚晖",
      "photoUrl": "",
      "userId": "16496223364462243774"
     },
     "user_tz": 240
    },
    "id": "L1kWRZFJ9M3n",
    "outputId": "2e20d19a-a99a-40f3-85e2-b6e7069e5221"
   },
   "outputs": [
    {
     "name": "stdout",
     "output_type": "stream",
     "text": [
      "Collecting pyDOE\n",
      "  Downloading https://files.pythonhosted.org/packages/bc/ac/91fe4c039e2744466621343d3b8af4a485193ed0aab53af5b1db03be0989/pyDOE-0.3.8.zip\n",
      "Requirement already satisfied, skipping upgrade: numpy in /usr/local/lib/python3.6/dist-packages (from pyDOE) (1.18.5)\n",
      "Requirement already satisfied, skipping upgrade: scipy in /usr/local/lib/python3.6/dist-packages (from pyDOE) (1.4.1)\n",
      "Building wheels for collected packages: pyDOE\n",
      "  Building wheel for pyDOE (setup.py) ... \u001b[?25l\u001b[?25hdone\n",
      "  Created wheel for pyDOE: filename=pyDOE-0.3.8-cp36-none-any.whl size=18178 sha256=eae884fee2b8e02ed0591f4026fbd6d99f8c3937a2ef7b62e330bfd5bc6672e9\n",
      "  Stored in directory: /root/.cache/pip/wheels/7c/c8/58/a6493bd415e8ba5735082b5e0c096d7c1f2933077a8ce34544\n",
      "Successfully built pyDOE\n",
      "Installing collected packages: pyDOE\n",
      "Successfully installed pyDOE-0.3.8\n"
     ]
    }
   ],
   "source": [
    "!pip install --upgrade pyDOE\n",
    "!pip install tabulate"
   ]
  },
  {
   "cell_type": "code",
   "execution_count": 7,
   "metadata": {
    "colab": {},
    "colab_type": "code",
    "executionInfo": {
     "elapsed": 498,
     "status": "ok",
     "timestamp": 1593523488826,
     "user": {
      "displayName": "黄尚晖",
      "photoUrl": "",
      "userId": "16496223364462243774"
     },
     "user_tz": 240
    },
    "id": "OKtmTiFh6I9k"
   },
   "outputs": [],
   "source": [
    "import matplotlib.pyplot as plt\n",
    "import numpy as np\n",
    "import scipy.sparse as sparse\n",
    "import scipy.sparse.linalg as linalg\n",
    "import scipy.integrate as integrate\n",
    "from scipy.stats import gamma\n",
    "import math\n",
    "from scipy.stats.distributions import norm\n",
    "from scipy import stats\n",
    "from pyDOE import *\n",
    "%matplotlib inline"
   ]
  },
  {
   "cell_type": "code",
   "execution_count": 8,
   "metadata": {
    "colab": {},
    "colab_type": "code",
    "executionInfo": {
     "elapsed": 342,
     "status": "ok",
     "timestamp": 1593523492495,
     "user": {
      "displayName": "黄尚晖",
      "photoUrl": "",
      "userId": "16496223364462243774"
     },
     "user_tz": 240
    },
    "id": "6H4HdAhJ6I9p"
   },
   "outputs": [],
   "source": [
    "def ADRSource(Lx, Nx, Source, omega, v, kappa):\n",
    "    #Solves the diffusion equation with Generalized Source\n",
    "    A = sparse.dia_matrix((Nx,Nx),dtype=\"complex\")\n",
    "    dx = Lx/Nx\n",
    "    i2dx2 = 1.0/(dx*dx)\n",
    "    #fill diagonal of A\n",
    "    A.setdiag(2*i2dx2*omega + np.sign(v)*v/dx)\n",
    "    #fill off diagonals of A\n",
    "    A.setdiag(-i2dx2*omega[1:Nx] + \n",
    "              0.5*(1-np.sign(v[1:Nx]))*v[1:Nx]/dx,1)\n",
    "    A.setdiag(-i2dx2*omega[0:(Nx-1)] - \n",
    "              0.5*(np.sign(v[0:(Nx-1)])+1)*v[0:(Nx-1)]/dx,-1)\n",
    "    #solve A x = Source\n",
    "    Solution = linalg.spsolve(A,Source)\n",
    "    Q = integrate.trapz(Solution*kappa,dx=dx)\n",
    "    return Solution, Q"
   ]
  },
  {
   "cell_type": "markdown",
   "metadata": {
    "colab_type": "text",
    "id": "h1lNWlMYZDQn"
   },
   "source": [
    "###A function calculating solution $u$"
   ]
  },
  {
   "cell_type": "code",
   "execution_count": 9,
   "metadata": {
    "colab": {},
    "colab_type": "code",
    "executionInfo": {
     "elapsed": 528,
     "status": "ok",
     "timestamp": 1593523515395,
     "user": {
      "displayName": "黄尚晖",
      "photoUrl": "",
      "userId": "16496223364462243774"
     },
     "user_tz": 240
    },
    "id": "07NSOk9t6I9t"
   },
   "outputs": [],
   "source": [
    "def run_calc(Lx, Nx, rho, Source, omega, v, \n",
    "             kappa, dt, steps,\n",
    "             tmin,tmax,xmin,xmax, IC):\n",
    "    dx = Lx/Nx\n",
    "    assert IC.size==Nx\n",
    "    irho = 1/rho\n",
    "    dt2 = dt/2\n",
    "    idx2 = 1/dx**2\n",
    "    solution = np.zeros((Nx+2,steps+1))\n",
    "    solution[1:Nx+1,0] = 1.0*IC #copy IC\n",
    "    xs = np.linspace(-dx/2,Lx+dx/2,Nx+2)\n",
    "    Q = 0\n",
    "    for step in range(steps):\n",
    "        #predictor\n",
    "        pred = solution[:,step]*1.0\n",
    "        \n",
    "        pred[1:Nx+1] = (pred[1:Nx+1]-irho*kappa*dt2*pred[1:Nx+1]**4 +\n",
    "                        irho*dt2*Source +\n",
    "                        irho*dt2*omega*idx2*(pred[2:Nx+2]**4 - 2*pred[1:Nx+1]**4 + pred[0:Nx]**4))\n",
    "        \n",
    "        #corrector\n",
    "        solution[1:Nx+1,step+1] = (solution[1:Nx+1,step]-irho*kappa*dt*pred[1:Nx+1]**4 + \n",
    "                                   irho*dt*Source +\n",
    "                                   irho*dt*omega*idx2 * (pred[2:Nx+2]**4 - 2*pred[1:Nx+1]**4 + pred[0:Nx]**4))\n",
    "        if ((step+1)*dt >= tmin) and ((step+1)*dt <= tmax):\n",
    "            Q += np.sum(dt*solution[1:Nx+1,step][(xs[1:Nx+1]>=xmin)*(xs[1:Nx+1]<=xmax)]*\n",
    "                        kappa[(xs[1:Nx+1]>=xmin)*(xs[1:Nx+1]<=xmax)]*dx)\n",
    "    return solution,Q,xs"
   ]
  },
  {
   "cell_type": "markdown",
   "metadata": {
    "colab_type": "text",
    "id": "mazDyC_6Yo14"
   },
   "source": [
    "### Setting up the nonlinear diffusion-reaction equation"
   ]
  },
  {
   "cell_type": "code",
   "execution_count": 10,
   "metadata": {
    "colab": {},
    "colab_type": "code",
    "executionInfo": {
     "elapsed": 3314,
     "status": "ok",
     "timestamp": 1593523526457,
     "user": {
      "displayName": "黄尚晖",
      "photoUrl": "",
      "userId": "16496223364462243774"
     },
     "user_tz": 240
    },
    "id": "kfi1jUS36I9y"
   },
   "outputs": [],
   "source": [
    "#set up simple advection problem\n",
    "Lx = 2\n",
    "Nx = 200\n",
    "dx = Lx/Nx\n",
    "dt = dx**2\n",
    "#print('Timestep = ',dt)\n",
    "tfinal = 2\n",
    "numsteps = math.ceil(tfinal/dt)\n",
    "xs = np.linspace(dx/2,Lx-dx/2,Nx)\n",
    "Source_func = lambda x, q:  (x>0.25*Lx)*(x<0.75*Lx)*q\n",
    "kappa_func = lambda x, kappal, kappah: kappah + (kappal-kappah)*(x>0.5*Lx)*(x<0.75*Lx)\n",
    "#print('Number of steps = ', numsteps)\n",
    "IC = np.zeros(Nx)\n",
    "IC[Nx//4:3*Nx//4] = 1*0\n",
    "source = IC*0\n",
    "source[Nx//4:3*Nx//4] = 10\n",
    "\n",
    "omega_nom = .1\n",
    "v_nom = 0.0\n",
    "kappal_nom = 0.1\n",
    "kappal_var = 8.511570e-6\n",
    "kappah_nom = 2\n",
    "kappah_var = 0.002778142\n",
    "q_nom = 1\n",
    "q_var = 7.062353e-4\n",
    "rho = 1.0\n",
    "\n",
    "sol,Q,xs2 = run_calc(Lx, Nx, rho, Source_func(xs,1), omega_nom, v_nom, \n",
    "                 kappa_func(xs,kappal_nom, kappah_nom), dt, numsteps, 1.8,tfinal,1.5,1.9,IC)\n",
    "#print(Q)\n",
    "xs3 = xs2\n",
    "#plt.plot(xs2,sol[:,numsteps])"
   ]
  },
  {
   "cell_type": "markdown",
   "metadata": {
    "colab_type": "text",
    "id": "I3y7UScJOOQV"
   },
   "source": [
    "### A function calculating adjoint solution $u^{\\ast}$"
   ]
  },
  {
   "cell_type": "code",
   "execution_count": 11,
   "metadata": {
    "colab": {},
    "colab_type": "code",
    "executionInfo": {
     "elapsed": 317,
     "status": "ok",
     "timestamp": 1593523531990,
     "user": {
      "displayName": "黄尚晖",
      "photoUrl": "",
      "userId": "16496223364462243774"
     },
     "user_tz": 240
    },
    "id": "sF1qggY56I93"
   },
   "outputs": [],
   "source": [
    "def run_adjoint_calc(Lx, Nx, rho, Source, omega, v, kappa, dt, steps,tmin,tmax,xmin,xmax, IC, forward):\n",
    "    dx = Lx/Nx\n",
    "    assert IC.size==Nx\n",
    "    dt2 = dt/2\n",
    "    irho = 1/rho\n",
    "    solution = np.zeros((Nx+2,steps+1))\n",
    "    solution[1:Nx+1,steps] = 1.0*IC #copy IC\n",
    "    xs = np.linspace(-dx/2,Lx+dx/2,Nx+2)\n",
    "    Q = 0\n",
    "    ks = kappa*(xs[1:Nx+1]>=xmin)*(xs[1:Nx+1]<=xmax)\n",
    "    for step in range(steps-1,-1,-1):\n",
    "        #predictor\n",
    "        pred = solution[:,step+1]*1.0\n",
    "        pred[1:Nx+1] = (pred[1:Nx+1]*(1- irho*4*kappa*dt2*forward[1:Nx+1,step]**3) + \n",
    "                        irho*dt2*ks*((step+1)*dt >= tmin)*((step+1)*dt <= tmax) +\n",
    "                        irho*4*dt2*omega/(dx**2)*forward[1:Nx+1,step]**3 * (pred[2:Nx+2]-2*pred[1:Nx+1] + pred[0:Nx]))  \n",
    "                        \n",
    "        \n",
    "        #corrector\n",
    "        solution[1:Nx+1,step] = (solution[1:Nx+1,step+1]-irho*4*kappa*dt*pred[1:Nx+1]*forward[1:Nx+1,step]**3 + \n",
    "                                 irho*dt*ks*((step+1)*dt >= tmin)*((step+1)*dt <= tmax)+\n",
    "                                 irho*4*dt*omega/(dx**2)*forward[1:Nx+1,step]**3 * (pred[2:Nx+2]-2*pred[1:Nx+1] + pred[0:Nx])) \n",
    "    return solution,xs"
   ]
  },
  {
   "cell_type": "code",
   "execution_count": 12,
   "metadata": {
    "colab": {},
    "colab_type": "code",
    "executionInfo": {
     "elapsed": 2359,
     "status": "ok",
     "timestamp": 1593523536988,
     "user": {
      "displayName": "黄尚晖",
      "photoUrl": "",
      "userId": "16496223364462243774"
     },
     "user_tz": 240
    },
    "id": "BD4mRrzr6I97"
   },
   "outputs": [],
   "source": [
    "sol_adj,xs2 = run_adjoint_calc(Lx, Nx,rho, Source_func(xs,1), omega_nom, v_nom, \n",
    "                 kappa_func(xs,kappal_nom, kappah_nom), dt, numsteps, 1.8,tfinal,1.5,1.9,IC*0, sol)\n",
    "\n",
    "output = np.vstack([xs2,sol[:,numsteps], sol_adj[:,round(1.8/dt)]]).transpose()\n",
    "np.savetxt('nonlindr_foradj.csv', output, delimiter=',')"
   ]
  },
  {
   "cell_type": "markdown",
   "metadata": {
    "colab_type": "text",
    "id": "_pLnbneDZTUX"
   },
   "source": [
    "### Results of foward and adjoint solutions"
   ]
  },
  {
   "cell_type": "code",
   "execution_count": 16,
   "metadata": {
    "colab": {
     "base_uri": "https://localhost:8080/",
     "height": 283
    },
    "colab_type": "code",
    "executionInfo": {
     "elapsed": 432,
     "status": "ok",
     "timestamp": 1593523575994,
     "user": {
      "displayName": "黄尚晖",
      "photoUrl": "",
      "userId": "16496223364462243774"
     },
     "user_tz": 240
    },
    "id": "vxYcVslCV0NR",
    "outputId": "f0daaca1-a26d-4875-c8c4-a0f6c696370a"
   },
   "outputs": [
    {
     "data": {
      "text/plain": [
       "<matplotlib.legend.Legend at 0x7f5c783d6ba8>"
      ]
     },
     "execution_count": 16,
     "metadata": {
      "tags": []
     },
     "output_type": "execute_result"
    },
    {
     "data": {
      "image/png": "[encoded data removed]",
      "text/plain": [
       "<Figure size 432x288 with 1 Axes>"
      ]
     },
     "metadata": {
      "needs_background": "light",
      "tags": []
     },
     "output_type": "display_data"
    }
   ],
   "source": [
    "plt.plot(xs3,sol[:,numsteps],label=r'$u(x)$')\n",
    "plt.plot(xs2,sol_adj[:,0],label=r'$u^{\\ast}(x)$')\n",
    "plt.legend()"
   ]
  },
  {
   "cell_type": "markdown",
   "metadata": {
    "colab_type": "text",
    "id": "igOTigTMeFBq"
   },
   "source": [
    "### Compare sensitivities to parameters resulted from finite differences and the adjoint methodology: $\\rho$, $\\omega$,$\\kappa_l$,$\\kappa_h$,$q$ respectively"
   ]
  },
  {
   "cell_type": "code",
   "execution_count": null,
   "metadata": {
    "colab": {
     "base_uri": "https://localhost:8080/",
     "height": 35
    },
    "colab_type": "code",
    "executionInfo": {
     "elapsed": 3333,
     "status": "ok",
     "timestamp": 1593494147396,
     "user": {
      "displayName": "黄尚晖",
      "photoUrl": "",
      "userId": "16496223364462243774"
     },
     "user_tz": 240
    },
    "id": "ggbDJFrh6I9-",
    "outputId": "400717a8-bffc-462f-9ffd-d9dd73760fc4"
   },
   "outputs": [
    {
     "name": "stdout",
     "output_type": "stream",
     "text": [
      "-0.09947973321489112 -0.09948429352239387\n"
     ]
    }
   ],
   "source": [
    "sens_adj = np.zeros(5)\n",
    "sens_for = np.zeros(5)\n",
    "#rho sens\n",
    "delta = 1.0e-6\n",
    "sol_pert,Q_v,xs2 = run_calc(Lx, Nx, rho+delta,Source_func(xs,1), omega_nom, v_nom, \n",
    "                 kappa_func(xs,kappal_nom, kappah_nom), dt, numsteps,1.8,tfinal,1.5,1.9,IC)\n",
    "sens_for[0] = (Q_v-Q)/delta\n",
    "\n",
    "dudx = np.zeros((Nx+2,numsteps+1))\n",
    "dudx[:,0:(numsteps)] = (sol[:,1:(numsteps+1)] - sol[:,0:(numsteps)])/(dt)\n",
    "#dudx[Nx-1] = (0-sol[Nx-2])/(2*dx)\n",
    "#dudx[0,:] = (sol[0,:]-0)/(dx)\n",
    "sens_adj[0] = np.sum(-dudx*sol_adj*dx*dt)\n",
    "print(sens_for[0],sens_adj[0])"
   ]
  },
  {
   "cell_type": "code",
   "execution_count": null,
   "metadata": {
    "colab": {
     "base_uri": "https://localhost:8080/",
     "height": 35
    },
    "colab_type": "code",
    "executionInfo": {
     "elapsed": 4014,
     "status": "ok",
     "timestamp": 1593494539024,
     "user": {
      "displayName": "黄尚晖",
      "photoUrl": "",
      "userId": "16496223364462243774"
     },
     "user_tz": 240
    },
    "id": "vK0MHKop6I-B",
    "outputId": "483944ee-a8ea-46d8-bbf6-70f962609667"
   },
   "outputs": [
    {
     "name": "stdout",
     "output_type": "stream",
     "text": [
      "0.28897547187101136 0.288993704223791\n"
     ]
    }
   ],
   "source": [
    "#omega sens\n",
    "delta = 1.0e-6\n",
    "sol_pert,Q_v,xs2 = run_calc(Lx, Nx,rho, Source_func(xs,1), omega_nom+delta, v_nom, \n",
    "                 kappa_func(xs,kappal_nom, kappah_nom), dt, numsteps, 1.8,tfinal,1.5,1.9,IC)\n",
    "sens_for[1] = (Q_v-Q)/delta\n",
    "\n",
    "dudx2 = np.zeros((Nx+2,numsteps+1))\n",
    "dx = Lx/Nx\n",
    "dudx2[1:(Nx+1),:] = (sol[0:Nx,:]**4 - 2*sol[1:(Nx+1),:]**4 + sol[2:(Nx+2),:]**4)/(dx**2)\n",
    "sens_adj[1] = np.sum(dudx2*sol_adj*dx*dt)\n",
    "print(sens_for[1],sens_adj[1])"
   ]
  },
  {
   "cell_type": "code",
   "execution_count": null,
   "metadata": {
    "colab": {
     "base_uri": "https://localhost:8080/",
     "height": 35
    },
    "colab_type": "code",
    "executionInfo": {
     "elapsed": 3386,
     "status": "ok",
     "timestamp": 1593495888556,
     "user": {
      "displayName": "黄尚晖",
      "photoUrl": "",
      "userId": "16496223364462243774"
     },
     "user_tz": 240
    },
    "id": "QPbNZ1RD6I-D",
    "outputId": "c5ba1397-1180-438b-9776-f1945666236d"
   },
   "outputs": [
    {
     "name": "stdout",
     "output_type": "stream",
     "text": [
      "-0.03022436832755826 -0.030226185976361303\n"
     ]
    }
   ],
   "source": [
    "low_area = lambda x: (x>0.5*Lx)*(x<0.75*Lx)\n",
    "low_area_abs = lambda x: (x>1.5)*(x<1.9)*(x>0.5*Lx)*(x<0.75*Lx)\n",
    "delta = 1e-6\n",
    "sens_adj[2] = np.sum(dx*(sol[low_area_abs(xs2),:])*dt)\n",
    "sens_adj[2] += np.sum(-sol[low_area(xs2),:]**4*sol_adj[low_area(xs2),:]*dt*dx)\n",
    "sol_pert,Q_v,xs2 = run_calc(Lx, Nx,rho, Source_func(xs,1), omega_nom, v_nom, \n",
    "                 kappa_func(xs,kappal_nom+delta, kappah_nom), dt, numsteps, 1.8,tfinal,1.5,1.9,IC)\n",
    "sens_for[2] = (Q_v-Q)/delta\n",
    "print(sens_for[2],sens_adj[2])"
   ]
  },
  {
   "cell_type": "code",
   "execution_count": null,
   "metadata": {
    "colab": {
     "base_uri": "https://localhost:8080/",
     "height": 35
    },
    "colab_type": "code",
    "executionInfo": {
     "elapsed": 3403,
     "status": "ok",
     "timestamp": 1593495893175,
     "user": {
      "displayName": "黄尚晖",
      "photoUrl": "",
      "userId": "16496223364462243774"
     },
     "user_tz": 240
    },
    "id": "PSCchuzT6I-G",
    "outputId": "dd8fcc29-1b80-4206-fce0-0f349ea27f96"
   },
   "outputs": [
    {
     "name": "stdout",
     "output_type": "stream",
     "text": [
      "0.03215599961303717 0.03215767861360508\n"
     ]
    }
   ],
   "source": [
    "delta = 1e-6\n",
    "high_area_abs = lambda x: (x>1.5)*(x<1.9)*(x>1.75*Lx)+(x>1.5)*(x<1.9)*(x<1.5*Lx)\n",
    "high_area = lambda x: (x<0.5*Lx)+(x>0.75*Lx)\n",
    "ts = np.linspace(0,tfinal,numsteps+1)\n",
    "intime = lambda t: (t>=1.8)*(t<=tfinal)*1+0\n",
    "sens_adj[3] = np.sum(dx*(sol[high_area_abs(xs2),:])*intime(ts)*dt)\n",
    "sens_adj[3] += np.sum(-sol[high_area(xs2),:]**4*sol_adj[high_area(xs2),:]*dt*dx)\n",
    "sol_pert,Q_v,xs2 = run_calc(Lx, Nx, rho, Source_func(xs,1), omega_nom, v_nom, \n",
    "                 kappa_func(xs,kappal_nom, kappah_nom+delta), dt, numsteps, 1.8,tfinal,1.5,1.9,IC)\n",
    "sens_for[3] = (Q_v-Q)/delta\n",
    "print(sens_for[3],sens_adj[3])"
   ]
  },
  {
   "cell_type": "code",
   "execution_count": null,
   "metadata": {
    "colab": {
     "base_uri": "https://localhost:8080/",
     "height": 35
    },
    "colab_type": "code",
    "executionInfo": {
     "elapsed": 3307,
     "status": "ok",
     "timestamp": 1593495897636,
     "user": {
      "displayName": "黄尚晖",
      "photoUrl": "",
      "userId": "16496223364462243774"
     },
     "user_tz": 240
    },
    "id": "qVvHnV1q6I-I",
    "outputId": "f9a2d5e9-4bbd-4a84-b589-142c7f8dcb3e"
   },
   "outputs": [
    {
     "name": "stdout",
     "output_type": "stream",
     "text": [
      "0.09638222440988553 0.09638749590621687\n"
     ]
    }
   ],
   "source": [
    "sens_adj[4] = np.sum(dx*sol_adj[(xs2>0.25*Lx)*(xs2<0.75*Lx),:]*dt)\n",
    "sol_pert,Q_v,xs2 = run_calc(Lx, Nx, rho,Source_func(xs,1+delta), omega_nom, v_nom, \n",
    "                 kappa_func(xs,kappal_nom, kappah_nom), dt, numsteps, 1.8,tfinal,1.5,1.9,IC)\n",
    "sens_for[4] = (Q_v-Q)/delta\n",
    "print(sens_for[4],sens_adj[4])"
   ]
  },
  {
   "cell_type": "code",
   "execution_count": null,
   "metadata": {
    "colab": {
     "base_uri": "https://localhost:8080/",
     "height": 156
    },
    "colab_type": "code",
    "executionInfo": {
     "elapsed": 556,
     "status": "ok",
     "timestamp": 1593495917592,
     "user": {
      "displayName": "黄尚晖",
      "photoUrl": "",
      "userId": "16496223364462243774"
     },
     "user_tz": 240
    },
    "id": "OTgiGJ_Y6I-L",
    "outputId": "b6640462-a0dd-4c1c-8d97-c60614b6f152"
   },
   "outputs": [
    {
     "name": "stdout",
     "output_type": "stream",
     "text": [
      "----------  --------------------  ---------------------  -----------------------\n",
      "Parameters  Finite Difference     Adjoint Estimate       Abs. Difference (10^-5)\n",
      "ρ           -0.09947973321489112  -0.09948429352239387   4.584157350819606\n",
      "ω           0.28897547187101136   0.288993704223791      6.309308074348965\n",
      "κₗ          -0.03022436832755826  -0.030226185976361303  6.013852079040496\n",
      "κₕ          0.03215599961303717   0.03215767861360508    5.221422403645427\n",
      "q           0.09638222440988553   0.09638749590621687    5.469365708888537\n",
      "----------  --------------------  ---------------------  -----------------------\n"
     ]
    }
   ],
   "source": [
    "output = np.vstack([sens_for,sens_adj,np.abs(sens_for-sens_adj)/np.abs(sens_for)/1e-5]).transpose()\n",
    "output1 = [[\"Parameters\" ,'Finite Difference','Adjoint Estimate','Abs. Difference (10^-5)'],['\\N{GREEK SMALL LETTER RHO}',output[0,0],output[0,1],output[0,2]],['\\N{GREEK SMALL LETTER omega}',output[1,0],output[1,1],output[1,2]],['\\N{GREEK SMALL LETTER kappa}\\u2097',output[2,0],output[2,1],output[2,2]],['\\N{GREEK SMALL LETTER kappa}\\u2095',output[3,0],output[3,1],output[3,2]],['q',output[4,0],output[4,1],output[4,2]]]\n",
    "import tabulate\n",
    "print(tabulate.tabulate(output1, tablefmt=\"Latex\", floatfmt=\".5f\"))\n",
    "\n"
   ]
  },
  {
   "cell_type": "markdown",
   "metadata": {
    "colab_type": "text",
    "collapsed": true,
    "id": "p_WUJZ0v6I-P"
   },
   "source": [
    "### Comparison for Reliability"
   ]
  },
  {
   "cell_type": "code",
   "execution_count": 17,
   "metadata": {
    "colab": {
     "base_uri": "https://localhost:8080/",
     "height": 1000
    },
    "colab_type": "code",
    "executionInfo": {
     "elapsed": 3861,
     "status": "ok",
     "timestamp": 1593523668753,
     "user": {
      "displayName": "黄尚晖",
      "photoUrl": "",
      "userId": "16496223364462243774"
     },
     "user_tz": 240
    },
    "id": "OpwOPqfq6I-P",
    "outputId": "5323499e-108c-456a-e6d6-98518be80bc2"
   },
   "outputs": [
    {
     "name": "stdout",
     "output_type": "stream",
     "text": [
      "[[0. 0. 0. 0. 0.]\n",
      " [0. 0. 0. 0. 0.]\n",
      " [0. 0. 0. 0. 0.]\n",
      " [0. 0. 0. 0. 0.]\n",
      " [0. 0. 0. 0. 0.]]\n",
      "[[ 1.    0.1  -0.05  0.    0.  ]\n",
      " [ 0.1   1.   -0.4   0.3   0.5 ]\n",
      " [-0.05 -0.4   1.    0.2   0.  ]\n",
      " [ 0.    0.3   0.2   1.   -0.1 ]\n",
      " [ 0.    0.5   0.   -0.1   1.  ]]\n",
      "0.9922977210635758 0.010566538975926807 0.10279367186712812\n",
      "0.05021961567550527 2.4905472687980364e-05 0.004990538316452481\n",
      "0.10022954616433 9.927306454631912e-05 0.009963586931738946\n",
      "2.015168892538771 0.04332608207069289 0.20814918224843665\n",
      "1.0005110913540498 0.010210495960569357 0.10104699877071736\n",
      "[[ 1.05771161e-02  5.54030481e-05 -3.96931120e-05  3.54289587e-04\n",
      "  -6.92092191e-05]\n",
      " [ 5.54030481e-05  2.49304031e-05 -2.20896335e-05  2.87449455e-04\n",
      "   2.44165203e-04]\n",
      " [-3.96931120e-05 -2.20896335e-05  9.93724370e-05  3.48562887e-04\n",
      "   7.25861375e-06]\n",
      " [ 3.54289587e-04  2.87449455e-04  3.48562887e-04  4.33694515e-02\n",
      "  -2.45241544e-03]\n",
      " [-6.92092191e-05  2.44165203e-04  7.25861375e-06 -2.45241544e-03\n",
      "   1.02207167e-02]] 0.00024568041409483445\n",
      "(array([[0., 0., 0., ..., 0., 0., 0.],\n",
      "       [0., 0., 0., ..., 0., 0., 0.],\n",
      "       [0., 0., 0., ..., 0., 0., 0.],\n",
      "       ...,\n",
      "       [0., 0., 0., ..., 0., 0., 0.],\n",
      "       [0., 0., 0., ..., 0., 0., 0.],\n",
      "       [0., 0., 0., ..., 0., 0., 0.]]), 0.06981831556455251, array([-0.005,  0.005,  0.015,  0.025,  0.035,  0.045,  0.055,  0.065,\n",
      "        0.075,  0.085,  0.095,  0.105,  0.115,  0.125,  0.135,  0.145,\n",
      "        0.155,  0.165,  0.175,  0.185,  0.195,  0.205,  0.215,  0.225,\n",
      "        0.235,  0.245,  0.255,  0.265,  0.275,  0.285,  0.295,  0.305,\n",
      "        0.315,  0.325,  0.335,  0.345,  0.355,  0.365,  0.375,  0.385,\n",
      "        0.395,  0.405,  0.415,  0.425,  0.435,  0.445,  0.455,  0.465,\n",
      "        0.475,  0.485,  0.495,  0.505,  0.515,  0.525,  0.535,  0.545,\n",
      "        0.555,  0.565,  0.575,  0.585,  0.595,  0.605,  0.615,  0.625,\n",
      "        0.635,  0.645,  0.655,  0.665,  0.675,  0.685,  0.695,  0.705,\n",
      "        0.715,  0.725,  0.735,  0.745,  0.755,  0.765,  0.775,  0.785,\n",
      "        0.795,  0.805,  0.815,  0.825,  0.835,  0.845,  0.855,  0.865,\n",
      "        0.875,  0.885,  0.895,  0.905,  0.915,  0.925,  0.935,  0.945,\n",
      "        0.955,  0.965,  0.975,  0.985,  0.995,  1.005,  1.015,  1.025,\n",
      "        1.035,  1.045,  1.055,  1.065,  1.075,  1.085,  1.095,  1.105,\n",
      "        1.115,  1.125,  1.135,  1.145,  1.155,  1.165,  1.175,  1.185,\n",
      "        1.195,  1.205,  1.215,  1.225,  1.235,  1.245,  1.255,  1.265,\n",
      "        1.275,  1.285,  1.295,  1.305,  1.315,  1.325,  1.335,  1.345,\n",
      "        1.355,  1.365,  1.375,  1.385,  1.395,  1.405,  1.415,  1.425,\n",
      "        1.435,  1.445,  1.455,  1.465,  1.475,  1.485,  1.495,  1.505,\n",
      "        1.515,  1.525,  1.535,  1.545,  1.555,  1.565,  1.575,  1.585,\n",
      "        1.595,  1.605,  1.615,  1.625,  1.635,  1.645,  1.655,  1.665,\n",
      "        1.675,  1.685,  1.695,  1.705,  1.715,  1.725,  1.735,  1.745,\n",
      "        1.755,  1.765,  1.775,  1.785,  1.795,  1.805,  1.815,  1.825,\n",
      "        1.835,  1.845,  1.855,  1.865,  1.875,  1.885,  1.895,  1.905,\n",
      "        1.915,  1.925,  1.935,  1.945,  1.955,  1.965,  1.975,  1.985,\n",
      "        1.995,  2.005]))\n"
     ]
    }
   ],
   "source": [
    "means = [rho, omega_nom, kappal_nom, kappah_nom, q_nom]\n",
    "varmat = np.zeros((5,5))\n",
    "#fill in diagonal\n",
    "corrmat = np.ones((5,5))\n",
    "corrmat[0,:] = (1,.1,-0.05,0,0)\n",
    "corrmat[1,:] = (.1,1,-.4,.3,.5)\n",
    "corrmat[2,:] = (-0.05,-.4,1,.2,0)\n",
    "corrmat[3,:] = (0,.3,0.2,1,-.1)\n",
    "corrmat[4,:] = (0,.5,0,-.1,1)\n",
    "print(corrmat-corrmat.transpose())\n",
    "print(corrmat)\n",
    "\n",
    "\n",
    "samps = 10**3\n",
    "test = norm.cdf(np.random.multivariate_normal(np.zeros(5), corrmat, samps))\n",
    "\n",
    "def gen_samps(samps,test):\n",
    "    #rho will have v_nom = 1 v_var = .1 which makes alpha = 10 beta = 10 or theta = 1/10\n",
    "    vsamps = gamma.ppf(test[:,0], a = 100, scale = 1/100)\n",
    "    print(np.mean(vsamps), np.var(vsamps), np.std(vsamps))\n",
    "    #plt.hist(vsamps)\n",
    "\n",
    "    #omega will have  omega_nom = .1, var = .1 which makes alpha = 100 beta = 5, theta = 1/5\n",
    "    omegasamps = gamma.ppf(test[:,1], a = 100, scale = 1/2000)\n",
    "    print(np.mean(omegasamps), np.var(omegasamps), np.std(omegasamps))\n",
    "    #plt.hist(omegasamps)\n",
    "\n",
    "    #kappa_l will have kappa_l = 0.1 var = (0.01)^2 this makes alpha = 100 and theta = 1/1000\n",
    "    kappalsamps = gamma.ppf(test[:,2], a = 100, scale = 1/1000)\n",
    "    print(np.mean(kappalsamps), np.var(kappalsamps), np.std(kappalsamps))\n",
    "    #plt.hist(kappalsamps)\n",
    "\n",
    "    #kappa_h will have kappa_h = 2 var = .04 this makes alpha = 100 and theta = 1/50\n",
    "    kappahsamps = gamma.ppf(test[:,3], a = 100, scale = 1/50)\n",
    "    print(np.mean(kappahsamps), np.var(kappahsamps), np.std(kappahsamps))\n",
    "    #plt.hist(kappahsamps)\n",
    "\n",
    "    #q will have q = 1 var = 0.01 this makes alpha = 100 and theta = 1/100\n",
    "    qsamps = gamma.ppf(test[:,4], a = 100, scale = 1/100)\n",
    "    print(np.mean(qsamps), np.var(qsamps),np.std(qsamps))\n",
    "    #plt.hist(qsamps)\n",
    "    \n",
    "    return vsamps,omegasamps,kappalsamps,kappahsamps,qsamps\n",
    "vsamps,omegasamps,kappalsamps,kappahsamps,qsamps = gen_samps(samps,test)\n",
    "\n",
    "var_list = [vsamps,omegasamps,kappalsamps,kappahsamps,qsamps]\n",
    "cormat_emp = np.zeros((5,5))\n",
    "tmp = np.vstack((var_list[0],var_list[1],var_list[2],var_list[3],var_list[4]))\n",
    "cormat_emp = np.cov(tmp)\n",
    "sens = np.array([-0.0994797332704,0.288975471816,-0.0302243683414,0.0321559995853,0.096382224285])\n",
    "print(cormat_emp, np.dot(sens,np.dot(cormat_emp,sens)))\n",
    "\n",
    "print(run_calc(Lx, Nx, np.mean(vsamps), Source_func(xs,np.mean(qsamps)), np.mean(omegasamps), v_nom, \n",
    "                 kappa_func(xs,np.mean(kappalsamps), np.mean(kappahsamps)), dt, numsteps, 1.8,tfinal,1.5,1.9,IC))"
   ]
  },
  {
   "cell_type": "code",
   "execution_count": 18,
   "metadata": {
    "colab": {},
    "colab_type": "code",
    "executionInfo": {
     "elapsed": 2896055,
     "status": "ok",
     "timestamp": 1593526573639,
     "user": {
      "displayName": "黄尚晖",
      "photoUrl": "",
      "userId": "16496223364462243774"
     },
     "user_tz": 240
    },
    "id": "jgdcjUIg6I-S"
   },
   "outputs": [],
   "source": [
    "outputs=np.zeros(samps)\n",
    "for i in range(samps):\n",
    "    sol,Q,xs2 = run_calc(Lx, Nx, vsamps[i], Source_func(xs,qsamps[i]), omegasamps[i], v_nom, \n",
    "                 kappa_func(xs,kappalsamps[i], kappahsamps[i]), dt, numsteps, 1.8,tfinal,1.5,1.9,IC)\n",
    "    outputs[i] = Q\n"
   ]
  },
  {
   "cell_type": "code",
   "execution_count": null,
   "metadata": {
    "colab": {},
    "colab_type": "code",
    "id": "i1irw8Sk6I-U"
   },
   "outputs": [],
   "source": [
    "print(np.var(outputs),outputs,vsamps)\n",
    "\n",
    "np.savetxt(\"nonlinear_ref_adr.csv\", outputs, delimiter=\",\")"
   ]
  },
  {
   "cell_type": "code",
   "execution_count": 20,
   "metadata": {
    "colab": {
     "base_uri": "https://localhost:8080/",
     "height": 352
    },
    "colab_type": "code",
    "executionInfo": {
     "elapsed": 541,
     "status": "ok",
     "timestamp": 1593527144314,
     "user": {
      "displayName": "黄尚晖",
      "photoUrl": "",
      "userId": "16496223364462243774"
     },
     "user_tz": 240
    },
    "id": "yNBINPK66I-W",
    "outputId": "8b75efbf-4620-46fb-c47a-300b24294701"
   },
   "outputs": [
    {
     "data": {
      "text/plain": [
       "(array([ 12.,  41., 121., 210., 245., 199., 108.,  49.,  13.,   2.]),\n",
       " array([0.03171055, 0.04013366, 0.04855677, 0.05697988, 0.06540299,\n",
       "        0.0738261 , 0.08224921, 0.09067232, 0.09909542, 0.10751853,\n",
       "        0.11594164]),\n",
       " <a list of 10 Patch objects>)"
      ]
     },
     "execution_count": 20,
     "metadata": {
      "tags": []
     },
     "output_type": "execute_result"
    },
    {
     "data": {
      "image/png": "[encoded data removed]",
      "text/plain": [
       "<Figure size 432x288 with 1 Axes>"
      ]
     },
     "metadata": {
      "needs_background": "light",
      "tags": []
     },
     "output_type": "display_data"
    }
   ],
   "source": [
    "plt.hist(outputs)"
   ]
  },
  {
   "cell_type": "code",
   "execution_count": null,
   "metadata": {
    "colab": {},
    "colab_type": "code",
    "id": "fVIu49VO6I-Z"
   },
   "outputs": [],
   "source": [
    "#lhd will have the values in 0 to 1\n",
    "samps =10**3\n",
    "lhd = lhs(5, samples=samps)\n",
    "#now i need to turn these into samples from N(0,Corrmat)\n",
    "#do cholesky fact\n",
    "chol = np.linalg.cholesky(corrmat)\n",
    "\n",
    "lhs_unif = np.zeros((samps,5))\n",
    "for i in range(samps):\n",
    "    lhs_unif[i,:] = np.dot(chol,norm.ppf(lhd[i,:]))\n",
    "test_lhs = norm.cdf(lhs_unif)\n",
    "\n",
    "vsamps,omegasamps,kappalsamps,kappahsamps,qsamps = gen_samps(samps,test_lhs)"
   ]
  },
  {
   "cell_type": "code",
   "execution_count": null,
   "metadata": {
    "colab": {
     "base_uri": "https://localhost:8080/",
     "height": 303
    },
    "colab_type": "code",
    "executionInfo": {
     "elapsed": 2830651,
     "status": "ok",
     "timestamp": 1593488077187,
     "user": {
      "displayName": "黄尚晖",
      "photoUrl": "",
      "userId": "16496223364462243774"
     },
     "user_tz": 240
    },
    "id": "vj98tkLP6I-c",
    "outputId": "8eab34ee-852f-4d4d-ff38-563c5b0238b1"
   },
   "outputs": [
    {
     "data": {
      "image/png": "[encoded data removed]",
      "text/plain": [
       "<Figure size 432x288 with 1 Axes>"
      ]
     },
     "metadata": {
      "needs_background": "light",
      "tags": []
     },
     "output_type": "display_data"
    },
    {
     "name": "stdout",
     "output_type": "stream",
     "text": [
      "0.06851216544161239 0.09131389762764693 0.046238313965240176 0.013419289882262094 -0.2772953252193724 0.07380452982344808\n"
     ]
    }
   ],
   "source": [
    "QLHS = np.zeros(samps)\n",
    "outputs_LHS=np.zeros(samps)\n",
    "for i in range(samps):\n",
    "    sol,QLHS[i],xs2 = run_calc(Lx, Nx, vsamps[i], Source_func(xs,qsamps[i]), omegasamps[i], v_nom, \n",
    "                 kappa_func(xs,kappalsamps[i], kappahsamps[i]), dt, numsteps, 1.8,tfinal,1.5,1.9,IC)\n",
    "    outputs_LHS[i] = QLHS[i]\n",
    "\n",
    "\n",
    "plt.hist(QLHS)\n",
    "plt.show()\n",
    "print(np.mean(QLHS),stats.scoreatpercentile(QLHS,95),stats.scoreatpercentile(QLHS,5),np.std(QLHS), \n",
    "      stats.kurtosis(QLHS), stats.skew(QLHS))\n",
    "#print(np.mean(Qs),stats.scoreatpercentile(Qs,95) ,stats.scoreatpercentile(Qs,5),np.std(Qs), stats.kurtosis(Qs), stats.skew(Qs))\n",
    "\n",
    "np.savetxt(\"nonlinear_ref_adr_LHS.csv\", outputs_LHS, delimiter=\",\")\n",
    "\n"
   ]
  }
 ],
 "metadata": {
  "colab": {
   "collapsed_sections": [
    "mazDyC_6Yo14",
    "I3y7UScJOOQV",
    "_pLnbneDZTUX",
    "igOTigTMeFBq"
   ],
   "name": "Nonlinear ADR.ipynb",
   "provenance": []
  },
  "kernelspec": {
   "display_name": "Python 3",
   "language": "python",
   "name": "python3"
  },
  "language_info": {
   "codemirror_mode": {
    "name": "ipython",
    "version": 3
   },
   "file_extension": ".py",
   "mimetype": "text/x-python",
   "name": "python",
   "nbconvert_exporter": "python",
   "pygments_lexer": "ipython3",
   "version": "3.7.3"
  }
 },
 "nbformat": 4,
 "nbformat_minor": 1
}
