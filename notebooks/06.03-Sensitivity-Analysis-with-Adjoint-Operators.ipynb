{
 "cells": [
  {
   "cell_type": "markdown",
   "metadata": {
    "colab_type": "text",
    "id": "BsHcQn4HT0sV"
   },
   "source": [
    "# Sensitivity Analysis with Adjoint Operators\n",
    "\n",
    "Following [McClarren (2018)](https://link-springer-com.proxy.library.nd.edu/book/10.1007%2F978-3-319-99525-0), let $Q(x, \\theta)$ be a quantity of interest where $\\theta$ is a parameter. We assume there are additional constraints $f(x, \\theta) = 0$ where the Jacobian $f_x(x, \\theta)$ is everywhere non-singular. We wish to compute the **parametric sensitivity** $Q_\\theta$ where $Q_\\theta$ is the total derivative of $Q$ with respect to $\\theta$. Parameteric sensitivity appears in a wide range of applications including optimization, error estimation, uncertainty quantification, and inverse problems in imaging and siesmology. \n",
    "\n",
    "The subject of the notebook is the particular case where $Q(x, \\theta)$ is an inner product of $x$ with a weighting function. In the case, the computation of $Q_\\theta$ can be organized into a two step procedure. The first step is to compute an adjoint $y$ which is then followed by computing an inner product of the adjoint with functions derived from the problem data.\n",
    "\n",
    "This notebook reviews properties of inner products, then demonstrates use of inner products to define and solve for the adjoints of several representative applications of parametric sensitivity.\n",
    "\n",
    "References\n",
    "\n",
    "* McClarren, Ryan G., McClarren, and Penrose. Uncertainty Quantification and Predictive Computational Science. Springer International Publishing, 2018. [https://link-springer-com.proxy.library.nd.edu/book/10.1007%2F978-3-319-99525-0](https://link-springer-com.proxy.library.nd.edu/book/10.1007%2F978-3-319-99525-0)\n",
    "\n",
    "* Bradley, Andrew. PDE-constrained optimization and the adjoint method. [https://cs.stanford.edu/~ambrad/adjoint_tutorial.pdf](https://cs.stanford.edu/~ambrad/adjoint_tutorial.pdf)\n",
    "\n"
   ]
  },
  {
   "cell_type": "code",
   "execution_count": 1,
   "metadata": {},
   "outputs": [
    {
     "name": "stdout",
     "output_type": "stream",
     "text": [
      "Requirement already satisfied: autograd in /anaconda3/lib/python3.7/site-packages (1.3)\n",
      "Requirement already satisfied: future>=0.15.2 in /anaconda3/lib/python3.7/site-packages (from autograd) (0.18.2)\n",
      "Requirement already satisfied: numpy>=1.12 in /anaconda3/lib/python3.7/site-packages (from autograd) (1.16.2)\n"
     ]
    }
   ],
   "source": [
    "# install modules\n",
    "!pip install autograd"
   ]
  },
  {
   "cell_type": "markdown",
   "metadata": {
    "colab_type": "text",
    "id": "D5NJgzdET-P-"
   },
   "source": [
    "## Review of inner products\n",
    "\n",
    "An **inner product** is the 'multiplication' of two vectors, $u$ and $v$, to produce a scalar result  $\\langle u, v\\rangle$ . \n",
    "\n",
    "For real vectors $u$, $v$, and $w$, and a real scalar $\\alpha$, an inner product must satisfy four basic properties:\n",
    "\n",
    "1. Additivity: $\\langle u + v, w \\rangle = \\langle u, w\\rangle + \\langle v, w\\rangle $\n",
    "2. Homogeneity: $\\langle \\alpha u, w\\rangle = \\alpha \\langle v, w\\rangle$\n",
    "3. Symmetry: $\\langle v, w\\rangle  = \\langle w, v\\rangle$\n",
    "4. Positivity: $\\langle v, v\\rangle \\geq 0$ and equal to zero if and only if $v = 0$.\n",
    "\n",
    "An **inner product space** is an a vector space along with an inner product defined on that space. Common examples of inner product spaces include the following cases of general interest in computational science and engineering.\n",
    "\n",
    "1. Product of real numbers $u$ and $v$ $$\\langle u, v\\rangle = u v$$\n",
    "1. Dot product of finite dimensional real vectors. For $u, v \\in\\text{R}^N$. $$\\langle u, v\\rangle = u^Tv =\\sum_{n=1}^{N}u_nv_n$$\n",
    "1. Real vector-valued functions on a finite interval $t \\in [t_a, t_b]$. Given functions $f$ and $g$ $$\\langle f, g\\rangle = \\int_{t_a}^{t_b}\\langle f(t),g(t)\\rangle\\ dt$$\n",
    "1. Expected value of the product of random variables. Given random variables $X$ and $Y$ $$\\langle X, Y\\rangle = \\text{E}(XY)$$\n",
    "1. Real matrices. Given $M \\times N$ real matrices $A$ and $B$ in $R^{M \\times N}$ $$\\langle A, B\\rangle = \\text{tr}(A^TB) = \\sum_{m=1}^M\\sum_{n=1}^Na_{mn}b_{mn}$$\n",
    "\n",
    "A **linear operator**is an operator $L$ that maps a vector into another vector and satisfies properties of additivity and homogeneity.\n",
    "\n",
    "1. Additivity: $L(u + v) = Lu + Lv$\n",
    "2. Homogeneity: $L(\\alpha u) = \\alpha L u$\n",
    "\n",
    "A basic result for linear operators is that for every linear operator $L$ defined on an inner product space there exists a unique linear **adjoint operator** $L^*$ such that \n",
    "\n",
    "$$\\langle L^*u, v \\rangle \\equiv \\langle u, Lv \\rangle $$\n",
    "\n",
    "A **self-adjoint** operator is a combination of linear operator and inner product such that $L = L^*$. Finding the adjoint operator, or finding an inner product (if one exists) for which a linear operator is self-adjoint can be challenging analytical problems.\n"
   ]
  },
  {
   "cell_type": "markdown",
   "metadata": {
    "colab_type": "text",
    "id": "JLSTKAfVaFyA"
   },
   "source": [
    "## Sensitivity Analysis of Linear equations\n",
    "\n",
    "Suppose there is a quantity of interest (QoI) that can be computed as an inner product\n",
    "\n",
    "$$Q = \\langle c, x\\rangle$$\n",
    "\n",
    "where $x$ is the solution to linear equality constraints\n",
    "\n",
    "\\begin{align*}\n",
    "A x & = b\n",
    "\\end{align*}\n",
    "\n",
    "We would like to know how $Q$ changes in response to perturbations in the problem data $A$ and $b$. That is, given perturbations $\\delta A$ and $\\delta b$ in the problem data, we would like to compute $\\delta Q$ where \n",
    "\n",
    "$$Q + \\delta Q = \\langle c + \\delta c, x + \\delta x\\rangle$$\n",
    "\n",
    "where $x + \\delta x$ is the solution to \n",
    "\n",
    "$$(A + \\delta A)(x + \\delta x) = b + \\delta b$$\n",
    "\n",
    "One way to do this, of course, is simply insert specific perturbations into the problem data and solve the equations again. The issue with this approach is that there are are many potential perturbations one would like to investigate. Solving the original equations for every possible case would get expensive and require significant data handling. Is there a better way to get the desired information?\n",
    "\n",
    "\n"
   ]
  },
  {
   "cell_type": "markdown",
   "metadata": {
    "colab_type": "text",
    "id": "2IWO4KPlmDOR"
   },
   "source": [
    "## Case 1. Perturbations in the RHS\n",
    "\n",
    "We begin with the case where perturbations to the problem are restricted to the right hand side of the linear equatiopns. For this case, using the properties of the inner product\n",
    "\n",
    "\\begin{align*}\n",
    "Q + \\delta Q & = \\langle c, x + \\delta x\\rangle \\\\\n",
    "& = \\langle c, x \\rangle + \\langle c, \\delta x \\rangle \n",
    "\\end{align*}\n",
    "\n",
    "subject to the linear equality constraint\n",
    "\n",
    "$$A(x + \\delta x) = b + \\delta b$$\n",
    "\n",
    "Substracting the nominal value $Q = \\langle c, x \\rangle$ and the nominal linear solutions  $Ax = b$ leaves \n",
    "\n",
    "$$\\delta Q = \\langle c, \\delta x \\rangle$$\n",
    "\n",
    "subject to\n",
    "\n",
    "$$A\\delta x = \\delta b$$\n",
    "\n",
    "One way we could compute $\\delta Q$ is solve the last equation for $\\delta x = A^{-1}\\delta b$ and substitute into $\\delta Q$ to give\n",
    "\n",
    "$$\\delta Q = \\langle c, A^{-1}\\delta b\\rangle$$\n",
    "\n",
    "If $A$ isn't too large, this may be a good way to proceed. But for large dimensional problems we may seek a more direct calculation. Using the properties of adjoint\n",
    "\n",
    "$$\\delta Q= \\langle (A^{-1})^*c, \\delta b\\rangle$$\n",
    "\n",
    "There is a simple proof that $(A^{-1})^* = (A^*)^{-1}$ which results in\n",
    "\n",
    "$$\\delta Q = \\langle (A^*)^{-1}c, \\delta b \\rangle$$\n",
    "\n",
    "Taking this one step further, suppose we had a solution to a second system of equations\n",
    "\n",
    "$$A^*y = c$$\n",
    "\n",
    "where $A^*$ is the adjoint matrix, then we could write\n",
    "\n",
    "$$\\delta Q = \\langle y, \\delta b \\rangle$$\n",
    "\n",
    "The advantage of this formulation is that we no longer have to invert a matrix. All we have to do is solve a second system of linear equations using any method available to us, including efficient iterative methods. \n",
    "\n",
    "Further, because the coefficients of $y$ describe the dependence of the quantity of interest on the uncertain parameters, $y$ can be interpreted as sensitivity coefficients. For this reason $y$ is sometimes referred to as the **adjoint sensitivity**. \n",
    "\n",
    "Often we wish to study the sensitivity of $Q$ to a perturbation in a specific parameter $\\theta$ on which $b(\\theta)$ depends. In this case we can model\n",
    "\n",
    "$$\\delta b = b_\\theta \\delta \\theta$$\n",
    "\n",
    "It's a simple matter to show that $\\delta Q = Q_\\theta \\delta \\theta$ where\n",
    "\n",
    "$$Q_\\theta = \\langle y, b_\\theta \\rangle$$\n",
    "\n",
    "which shows the elements of $y$ can be interpreted as the sensitivity of $Q$ to perburbations in the corresponding elements of $b$. \n",
    "\n",
    "To summarize, by using the properties of inner products, we can arrive at this same result without having to introduce a matrix inverse.\n",
    "\n",
    "\\begin{align*}\n",
    "\\delta Q & = \\langle c, \\delta x \\rangle \\\\\n",
    "& = \\langle A^*y, \\delta x \\rangle \\\\\n",
    "& = \\langle y, A \\delta x \\rangle \\\\\n",
    "& = \\langle y, \\delta b \\rangle \\\\\n",
    "\\end{align*}\n",
    "\n",
    "For specific parametric sensitivies,\n",
    "\n",
    "$$\\boxed{Q_\\theta  = \\langle y, b_\\theta \\rangle \\text{ where } A^*y = c}$$\n",
    "\n",
    "This remarkable expression tells us that we don't need to invert a matrix. To get sensititivity coefficients for a quantity of interest we only need to solve one additional system of linear equations. Let's see how this works out for a simple example.\n"
   ]
  },
  {
   "cell_type": "markdown",
   "metadata": {
    "colab_type": "text",
    "id": "Hoy6jm8o4H22"
   },
   "source": [
    "### Example: Multi-product plant\n",
    "\n",
    "A plant produces two products, X and Y, the produce per-unit revenue of \\$270 and \\$210, respectively. The fixed costs of production are \\$100 and \\$90, respectively.  In addition,  each unit of X requires 1 of labor A at \\$50 per hour, and 2 hours of labor B at \\$40 per  hour. Each unit of Y requires 1 hour of each type of labor. TA total of 80 hours of labor A and 100 hours of labor B are available for production.\n",
    "\n",
    "Compute the sensitivity of the total plant profit to changes in the amount of available labor."
   ]
  },
  {
   "cell_type": "markdown",
   "metadata": {
    "colab_type": "text",
    "id": "3jxtOtKTNI4r"
   },
   "source": [
    "### Solution\n",
    "\n",
    "Profit for this process is given by\n",
    "\n",
    "$$\\text{profit} = \\text{revenue} - \\text{expense}$$\n",
    "\n",
    "Identifying variables as\n",
    "\n",
    "\\begin{align*}\n",
    "x_1 & & \\text{Units of X produced} \\\\\n",
    "x_2 & & \\text{Units of Y produced} \\\\\n",
    "x_3 & & \\text{Hours of Labor A Used} \\\\\n",
    "x_4 & & \\text{Hours of Labor B Used} \\\\\n",
    "\\end{align*}\n",
    "\n",
    "with these definitions\n",
    "\n",
    "\\begin{align*}\n",
    "\\text{revenue} & = 270 x_1 + 210 x_2 \\\\\n",
    "\\text{expense} & = 100 x_1 + 90 x_2 + 50 x_3 + 40 x_4 \\\\\n",
    "\\end{align*}\n",
    "\n",
    "subject to equality constraints\n",
    "\n",
    "\\begin{align*}\n",
    "x_3 & = x_1 + x_2 \\\\\n",
    "x_4 & = 2 x_1 + x_2 \\\\\n",
    "x_3 & = 80 \\\\\n",
    "x_4 & = 100 \\\\\n",
    "\\end{align*}\n",
    "\n",
    "Given these modeling equations, the sensitivity formulation becomes\n",
    "\n",
    "$$Q = \\text{profit} = \\langle c, x \\rangle$$\n",
    "\n",
    "where\n",
    "\n",
    "$$c = \\begin{bmatrix} 170 \\\\ 120 \\\\ -50 \\\\ -40 \\end{bmatrix}$$\n",
    "\n",
    "with equality constraints\n",
    "\n",
    "$$\\underbrace{\\begin{bmatrix} 1 & 1 & -1 & 0 \\\\ 2 & 1 & 0 & -1 \\\\ 0 & 0 & 1 & 0 \\\\ 0 & 0 & 0 & 1\\end{bmatrix}}_A \\underbrace{\\begin{bmatrix} x_1 \\\\ x_2 \\\\ x_3 \\\\ x_4 \\end{bmatrix}}_x = \\underbrace{\\begin{bmatrix} 0 \\\\ 0 \\\\ 80 \\\\ 100 \\end{bmatrix}}_b$$\n",
    "\n",
    "We will use $\\theta_A$ and $\\theta_B$ to denote additional labor of type A and B, respectively. The perturbed system is  \n",
    "\n",
    "$$\\underbrace{\\begin{bmatrix} 1 & 1 & -1 & 0 \\\\ 2 & 1 & 0 & -1 \\\\ 0 & 0 & 1 & 0 \\\\ 0 & 0 & 0 & 1\\end{bmatrix}}_A \\underbrace{\\begin{bmatrix} x_1 \\\\ x_2 \\\\ x_3 \\\\ x_4 \\end{bmatrix}}_x = \\underbrace{\\begin{bmatrix} 0 \\\\ 0 \\\\ 80  + \\theta_A \\\\ 100 + \\theta_B \\end{bmatrix}}_b$$\n",
    "\n",
    "for which \n",
    "\n",
    "$$\\frac{\\partial b}{\\partial \\theta_A} = \\begin{bmatrix} 0 \\\\ 0 \\\\ 1 \\\\ 0 \\end{bmatrix} \\quad \\frac{\\partial b}{\\partial \\theta_B} = \\begin{bmatrix} 0 \\\\ 0 \\\\ 0 \\\\ 1 \\end{bmatrix}$$\n",
    "\n",
    "The desired sensitivity coefficients are\n",
    "\n",
    "\\begin{align*}\n",
    "\\frac{\\partial Q}{\\partial \\theta_A} & = \\langle y, \\frac{\\partial b}{\\partial \\theta_A} \\rangle = \\langle \\begin{bmatrix} y_1 \\\\ y_2 \\\\ y_3 \\\\ y_4 \\end{bmatrix}, \\begin{bmatrix} 0 \\\\ 0 \\\\ 1 \\\\ 0 \\end{bmatrix}\\rangle = y_3 \\\\\n",
    "\\frac{\\partial Q}{\\partial \\theta_B} & = \\langle y, \\frac{\\partial b}{\\partial \\theta_B} \\rangle = \\langle \\begin{bmatrix} y_1 \\\\ y_2 \\\\ y_3 \\\\ y_4 \\end{bmatrix}, \\begin{bmatrix} 0 \\\\ 0 \\\\ 0 \\\\ 1 \\end{bmatrix}\\rangle = y_4\n",
    "\\end{align*}\n",
    "\n",
    "The following cell computes the adjoint sensitivity coefficients and compares the results to a direct calculation.\n"
   ]
  },
  {
   "cell_type": "code",
   "execution_count": 2,
   "metadata": {
    "colab": {
     "base_uri": "https://localhost:8080/",
     "height": 187
    },
    "colab_type": "code",
    "executionInfo": {
     "elapsed": 575,
     "status": "ok",
     "timestamp": 1593721244677,
     "user": {
      "displayName": "Jeffrey Kantor",
      "photoUrl": "https://lh3.googleusercontent.com/a-/AOh14Gg_n8V7bVINy02QRuRgOoMo11Ri7NKU3OUKdC1bkQ=s64",
      "userId": "09038942003589296665"
     },
     "user_tz": 300
    },
    "id": "6HpWS8Ib3REi",
    "outputId": "72b61647-20b5-4508-e130-865e874ea80b"
   },
   "outputs": [
    {
     "name": "stdout",
     "output_type": "stream",
     "text": [
      "X produced: 20.0\n",
      "Y produced: 60.0\n",
      "Labor A used: 80.0\n",
      "Labor B used: 100.0\n",
      "\n",
      "profit =  2600.0\n",
      "sensitivities [70. 50. 20. 10.]\n",
      "\n",
      "computed change in profit with one additional hour of A =  20.0\n",
      "computed change in profit with one additional hour of B =  10.0\n"
     ]
    }
   ],
   "source": [
    "import numpy as np\n",
    "\n",
    "variables = (\"X produced\", \"Y produced\", \"Labor A used\", \"Labor B used\")\n",
    "equations = (\"\")\n",
    "\n",
    "c = np.array([170, 120, -50, -40])\n",
    "A = np.array([[1, 1, -1, 0], [2, 1, 0, -1], [0, 0, 1, 0 ], [0, 0, 0, 1]])\n",
    "b = np.array([0, 0, 80, 100])\n",
    "\n",
    "x = np.linalg.solve(A, b)\n",
    "for var, val in zip(variables, x):\n",
    "    print(f\"{var}: {val}\")\n",
    "\n",
    "profit = np.dot(c, x)\n",
    "print('\\nprofit = ', profit)\n",
    "\n",
    "y = np.linalg.solve(A.T, c.T)\n",
    "print('sensitivities', y)\n",
    "\n",
    "# Verify\n",
    "dbA = np.array([0, 0, 1, 0 ])\n",
    "print('\\ncomputed change in profit with one additional hour of A = ', np.dot(c, np.linalg.solve(A, b + dbA)) - profit)\n",
    "\n",
    "dbB = np.array([0, 0, 0, 1 ])\n",
    "print('computed change in profit with one additional hour of B = ', np.dot(c, np.linalg.solve(A, b + dbB)) - profit)"
   ]
  },
  {
   "cell_type": "markdown",
   "metadata": {
    "colab_type": "text",
    "id": "_prJFftml744"
   },
   "source": [
    "## Case 2. Sensitivity to changes in equation coefficients\n",
    "\n",
    "Neglecting second-order terms\n",
    "\n",
    "$$A\\delta x + \\delta A x = \\delta b$$\n",
    "\n",
    "Beginning with $\\delta Q$ and a solution to $A^*y = C$\n",
    "\n",
    "\\begin{align*}\n",
    "\\delta Q & = \\langle c, \\delta x \\rangle \\\\\n",
    "& = \\langle A^*y, \\delta x \\rangle \\\\\n",
    "& = \\langle y, A \\delta x \\rangle \\\\\n",
    "& = \\langle y, (\\delta b - \\delta A x) \\rangle \\\\\n",
    "& = \\langle y, \\delta b \\rangle - \\langle y, \\delta A x \\rangle \\\\\n",
    "\\end{align*}\n",
    "\n",
    "for perturbations that depend on specific parameters,\n",
    "\n",
    "\\begin{align*}\n",
    "\\implies Q_\\theta & = \\langle y, b_\\theta \\rangle - \\langle y, A_\\theta x \\rangle \n",
    "\\end{align*}\n"
   ]
  },
  {
   "cell_type": "markdown",
   "metadata": {
    "colab_type": "text",
    "id": "qk75XQ8oF6T6"
   },
   "source": [
    "### Example\n",
    "\n",
    "As a continuation of the previous example, consider modificatins to the manufacturing process modifications that would reduce the labor required to produce each unit of product. \n",
    "\n",
    "1. Using a sensitivity analysis, estimate the increased profit that would result from reducing the amount of labor B required to produce each unit of product X.  The solve for the actual profit as a function of the labor reduction and compare to the sensitivity result.\n",
    "\n",
    "2. Extend the analysis by computing the sensitivity of profit to changes in the labor required for each type of labor in each product.\n"
   ]
  },
  {
   "cell_type": "markdown",
   "metadata": {
    "colab_type": "text",
    "id": "MhAuQ3AFtdWf"
   },
   "source": [
    "### Solution\n",
    "\n",
    "Refering the model equations developed above, the equality constraints read\n",
    "\n",
    "$$\\underbrace{\\begin{bmatrix} 1 & 1 & -1 & 0 \\\\ \\boxed{2 - \\theta} & 1 & 0 & -1 \\\\ 0 & 0 & 1 & 0 \\\\ 0 & 0 & 0 & 1\\end{bmatrix}}_A \\begin{bmatrix} x_1 \\\\ x_2 \\\\ x_3 \\\\ x_4 \\end{bmatrix} = \\underbrace{\\begin{bmatrix} 0 \\\\ 0 \\\\ 80 \\\\ 100 \\end{bmatrix}}_b$$\n",
    "\n",
    "where the required labor of type B required to produce a unit of product X has been highlighted. The parameter $\\theta$ has been added to this entry to indicate the reduction in the amount of labor required to produce the first product. Taking the derivative,\n",
    "\n",
    "$$A_\\theta = \\begin{bmatrix} 0 & 0 & 0 & 0 \\\\ -1 & 0 & 0 & 0 \\\\ 0 & 0 & 0 & 0 \\\\ 0 & 0 & 0 & 0\\end{bmatrix}$$\n",
    "\n",
    "The desired sensitivity coefficient is computed as\n",
    "\n",
    "$$ Q_\\theta = - \\langle y, A_\\theta x \\rangle $$\n",
    "\n",
    "where\n",
    "\n",
    "\\begin{align*}\n",
    "A x & = b \\\\\n",
    "A^T y & = c\n",
    "\\end{align*}\n",
    "\n",
    "In this case, $Q_\\theta$ is the sensitivity of profit to reduction in the labor of type B required to produce the first product.\n",
    "\n"
   ]
  },
  {
   "cell_type": "code",
   "execution_count": 3,
   "metadata": {
    "colab": {
     "base_uri": "https://localhost:8080/",
     "height": 533
    },
    "colab_type": "code",
    "executionInfo": {
     "elapsed": 534,
     "status": "ok",
     "timestamp": 1593721473396,
     "user": {
      "displayName": "Jeffrey Kantor",
      "photoUrl": "https://lh3.googleusercontent.com/a-/AOh14Gg_n8V7bVINy02QRuRgOoMo11Ri7NKU3OUKdC1bkQ=s64",
      "userId": "09038942003589296665"
     },
     "user_tz": 300
    },
    "id": "ChFgIKfaF5Le",
    "outputId": "c42fea8e-debd-4e7b-83e4-173d0c230b0e"
   },
   "outputs": [
    {
     "name": "stdout",
     "output_type": "stream",
     "text": [
      "forward solution =  [ 20.  60.  80. 100.]\n",
      "profit =  2600.0\n",
      "sensitivities [70. 50. 20. 10.]\n",
      "[[ 0.  0.  0.  0.]\n",
      " [-1.  0.  0.  0.]\n",
      " [ 0.  0.  0.  0.]\n",
      " [ 0.  0.  0.  0.]]\n",
      "sensitivity = 1000.0\n",
      "\n",
      "matrix of sensitivity coefficients\n"
     ]
    },
    {
     "data": {
      "text/plain": [
       "array([[1400., 4200., 5600., 7000.],\n",
       "       [1000., 3000., 4000., 5000.],\n",
       "       [ 400., 1200., 1600., 2000.],\n",
       "       [ 200.,  600.,  800., 1000.]])"
      ]
     },
     "execution_count": 3,
     "metadata": {},
     "output_type": "execute_result"
    }
   ],
   "source": [
    "import numpy as np\n",
    "import matplotlib.pyplot as plt\n",
    "\n",
    "c = np.array([170, 120, -50, -40])\n",
    "A = np.array([[1, 1, -1, 0], [2, 1, 0, -1], [0, 0, 1, 0 ], [0, 0, 0, 1]])\n",
    "b = np.array([0, 0, 80, 100])\n",
    "\n",
    "x = np.linalg.solve(A, b)\n",
    "print('forward solution = ', x)\n",
    "\n",
    "profit = np.dot(c, x)\n",
    "print('profit = ', profit)\n",
    "\n",
    "y = np.linalg.solve(A.T, c.T)\n",
    "print('sensitivities', y)\n",
    "\n",
    "dA = np.zeros([4, 4])\n",
    "dA[1, 0] = -1\n",
    "print(dA)\n",
    "dP = -np.dot(y, np.dot(dA, x))\n",
    "print('sensitivity =', dP)\n",
    "\n",
    "# compare sensitivity projection with computational solutions\n",
    "def profit(c, A, b):\n",
    "    return np.dot(c, np.linalg.solve(A, b))\n",
    "\n",
    "theta = np.linspace(0, 0.5, 100)\n",
    "plt.plot(theta, [profit(c, A + t*dA, b) for t in theta], label=\"Sensitivity estimate\")\n",
    "plt.plot(theta, [profit(c, A, b) + t*dP for t in theta], label=\"Computed solution\")\n",
    "plt.xlabel('Decrease in labor B hours required per unit of A')\n",
    "plt.title('Profit')\n",
    "plt.legend()\n",
    "\n",
    "print(\"\\nmatrix of sensitivity coefficients\")\n",
    "np.array([[y[i]*x[j] for j in range(len(x))] for i in range(len(y))])"
   ]
  },
  {
   "cell_type": "code",
   "execution_count": 4,
   "metadata": {
    "colab": {
     "base_uri": "https://localhost:8080/",
     "height": 312
    },
    "colab_type": "code",
    "executionInfo": {
     "elapsed": 570,
     "status": "ok",
     "timestamp": 1593721569250,
     "user": {
      "displayName": "Jeffrey Kantor",
      "photoUrl": "https://lh3.googleusercontent.com/a-/AOh14Gg_n8V7bVINy02QRuRgOoMo11Ri7NKU3OUKdC1bkQ=s64",
      "userId": "09038942003589296665"
     },
     "user_tz": 300
    },
    "id": "HwP_87eFxjqz",
    "outputId": "7f14b670-707d-4ae2-ee99-64b1a32c2f83"
   },
   "outputs": [
    {
     "data": {
      "text/plain": [
       "<matplotlib.legend.Legend at 0x114530e10>"
      ]
     },
     "execution_count": 4,
     "metadata": {},
     "output_type": "execute_result"
    },
    {
     "data": {
      "image/png": "[encoded data removed]",
      "text/plain": [
       "<Figure size 432x288 with 1 Axes>"
      ]
     },
     "metadata": {
      "needs_background": "light"
     },
     "output_type": "display_data"
    }
   ],
   "source": [
    "theta = np.linspace(0, 0.5, 100)\n",
    "plt.plot(theta, [np.linalg.solve(A + t*dA, b) for t in theta])\n",
    "plt.xlabel('Result of decreasing the labor B hours required per unit of A')\n",
    "plt.title('Production as function of labor reduction')\n",
    "plt.legend([\"Units of X\", \"Units of Y\",\"Labor A\", \"Labor B\"])"
   ]
  },
  {
   "cell_type": "markdown",
   "metadata": {
    "colab_type": "text",
    "id": "waqrOJqPzFow"
   },
   "source": [
    "## Case 3. Generic Case\n",
    "\n",
    "The final case is the situation with parametric changes in $A$, $b$, and $c$. Starting with\n",
    "\n",
    "$$Q = \\langle c, x\\rangle$$\n",
    "\n",
    "subject to linear equality constraints\n",
    "\n",
    "\\begin{align*}\n",
    "A x & = b\n",
    "\\end{align*}\n",
    "\n",
    "We would like to know how $Q$ depends on perturbations in the $A$, $b$, and $c$. That is, we would like to compute\n",
    "\n",
    "\\begin{align*}\n",
    "Q + \\delta Q & = \\langle c + \\delta c, x + \\delta x\\rangle \\\\\n",
    "& = \\langle c, x\\rangle + \\langle \\delta c, x \\rangle + \\langle c, \\delta x \\rangle + \\langle \\delta c, \\delta x \\rangle\n",
    "\\end{align*}\n",
    "\n",
    "which, after subtracting $Q = \\langle c, x\\rangle$, leaves\n",
    "\n",
    "$$\\delta Q = \\langle \\delta c, x \\rangle + \\langle c, \\delta x \\rangle + \\langle \\delta c, \\delta x \\rangle$$\n",
    "\n",
    "subject to \n",
    "\n",
    "$$(A + \\delta A)(x + \\delta x) = b + \\delta b$$\n",
    "\n",
    "Expanding and subtracting $Ax = B$ leaves\n",
    "\n",
    "$$\\delta A x + A\\delta x + \\delta A\\delta x = \\delta b$$\n",
    "\n",
    "Dropping second order terms leaves the pair of equations\n",
    "\n",
    "\\begin{align*}\n",
    "\\delta Q = \\langle \\delta c, x \\rangle + \\langle c, \\delta x \\rangle \\\\\n",
    "\\delta A x + A\\delta x = \\delta b\n",
    "\\end{align*}\n",
    "\n",
    "Next take the inner product of terms in the second equation with $y$, the solution to the adjoint equation $A^*y = c$.\n",
    "\n",
    "\\begin{align*}\n",
    "\\delta Q = \\langle \\delta c, x \\rangle + \\langle c, \\delta x \\rangle \\\\\n",
    "\\langle y, \\delta A x \\rangle + \\langle y, A\\delta x \\rangle = \\langle y, \\delta b \\rangle\n",
    "\\end{align*}\n",
    "\n",
    "Taking the inner product with the solution to $A^*y = c$ gives\n",
    "\n",
    "\\begin{align*}\n",
    "\\delta Q & = \\langle \\delta c, x \\rangle + \\langle c, \\delta x \\rangle \\\\\n",
    "\\langle A^*y, \\delta x \\rangle & = \\langle y, \\delta b \\rangle - \\langle y, \\delta A x \\rangle\n",
    "\\end{align*}\n",
    "\n",
    "Substituting $A^*y = $ gives the desired result showing how the quantity of interest $Q$ changes as a result of perturbations in $c$, $b$, or $A$.\n",
    "\n",
    "$$\\delta Q = \\langle x, \\delta c \\rangle + \\langle y, \\delta b \\rangle - \\langle y, \\delta A x \\rangle$$\n",
    "\n",
    "For parametric sensitivity one has a final formula\n",
    "\n",
    "$$\\boxed{\n",
    "\\begin{align*}\n",
    "Q_\\theta & = \\langle x, c_\\theta \\rangle + \\langle y, b_\\theta \\rangle - \\langle y, A_\\theta x \\rangle \\\\\n",
    "\\\\ \\text{where}\n",
    "\\\\\n",
    "& A x = b \\\\\n",
    "& A^T y = c \\\\\n",
    "\\end{align*}}$$\n",
    "\n",
    "\n",
    "\n",
    "\n",
    "\n"
   ]
  },
  {
   "cell_type": "markdown",
   "metadata": {
    "colab_type": "text",
    "id": "NX4IH5GNh11k"
   },
   "source": [
    "## Systems of first-order linear differential equations"
   ]
  },
  {
   "cell_type": "markdown",
   "metadata": {
    "colab_type": "text",
    "id": "dK2AAOitvdpy"
   },
   "source": [
    "## Application: Pharmacokinetics\n",
    "\n",
    "\n",
    "\n"
   ]
  },
  {
   "cell_type": "markdown",
   "metadata": {
    "colab_type": "text",
    "id": "bReL7NikZe78"
   },
   "source": [
    "[Kaldate, Rajesh R et al. “Modeling the 5-fluorouracil area under the curve versus dose relationship to develop a pharmacokinetic dosing algorithm for colorectal cancer patients receiving FOLFOX6.” The oncologist vol. 17,3 (2012): 296-302. doi:10.1634/theoncologist.2011-0357](doi:10.1634/theoncologist.2011-0357)"
   ]
  },
  {
   "cell_type": "markdown",
   "metadata": {
    "colab_type": "text",
    "id": "ZiaWGUn8ZcC-"
   },
   "source": [
    "[Morawska, Katarzyna et al. “5-FU therapeutic drug monitoring as a valuable option to reduce toxicity in patients with gastrointestinal cancer.” Oncotarget vol. 9,14 11559-11571. 30 Jan. 2018. doi:10.18632/oncotarget.24338](doi:10.18632/oncotarget.24338)"
   ]
  },
  {
   "cell_type": "markdown",
   "metadata": {
    "colab_type": "text",
    "id": "mp8kQoZFZYBs"
   },
   "source": [
    "[Walko, Christine M. \"Using Pharmacokinetics to Optimize Older Chemotherapeutic Agents.\" (2014)](https://www.cancernetwork.com/view/using-pharmacokinetics-optimize-older-chemotherapeutic-agents)"
   ]
  },
  {
   "cell_type": "markdown",
   "metadata": {
    "colab_type": "text",
    "id": "l58X2LtU8sOy"
   },
   "source": [
    "#### Linear pharmacokinetics\n",
    "\n",
    "The system of interest is a compartment model for linear pharmacokinetics of a therapeutic drug\n",
    "\n",
    "\\begin{align*}\n",
    "V\\frac{dC}{dt} & = -K C + u \\\\\n",
    "C(t_a) & = 0 \n",
    "\\end{align*}\n",
    "\n",
    "where $C$ is a vector of compartment concentrations, $V$ a diagonal matrix of compartment volumes, $K$ a matrix of reaction and elimination rate parameters, and $u$ is vector of compartmental drug administration rates. \n",
    "\n",
    "For the purposes of evaluating a proposed therapy, we identify the linear operator\n",
    "\n",
    "$$\\mathcal{L}x = V\\frac{dx}{dt} + Kx \\quad \\text{with} \\quad x(t_a) = 0$$ \n",
    "\n",
    "and the inner product\n",
    "\n",
    "$$\\langle y, x \\rangle = \\int_{t_a}^{t_b} y^T(t) x(t)\\ dt$$\n",
    "\n",
    "A conventional metric for evaluating a proposed therapy $u(t)$ on the interval $[t_a, t_b]$ is to solve the equation\n",
    "\n",
    "$$\\mathcal{L}x = u$$\n",
    "\n",
    "and evaluate the quantity of interest, the area under the curve (AUC), using the inner product\n",
    "\n",
    "$$Q = \\text{AUC} = \\langle c, x \\rangle$$\n",
    "\n",
    "where $c(t) = 1$.\n",
    "\n"
   ]
  },
  {
   "cell_type": "markdown",
   "metadata": {
    "colab_type": "text",
    "id": "_oPag-0uSCEf"
   },
   "source": [
    "### Finding the adjoint operator\n",
    "\n",
    "Identifying the linear operator $\\mathcal{L}x = V\\frac{dx}{dt} + Kx$ with initial condition $x(t_a) =  0$, we find an expression for the adjoint operator.\n",
    "\n",
    "\\begin{align*}\n",
    "\\langle y, \\mathcal{L} x \\rangle & = \\int_{t_a}^{t_b} y^T (V\\frac{dx}{dt} + K x)\\ dt \\\\\n",
    "& = \\int_{t_a}^{t_b} y^T V\\frac{dx}{dt}\\ dt  + \\int_{t_a}^{t_b} y^T K x\\ dt \\\\\n",
    "& = y^T(t_b)Vx(t_b) - y^T(t_a)V\\underbrace{x(t_a)}_0 - \\int_{t_a}^{t_b} \\frac{dy}{dt}^T Vx\\ dt  + \\int_{t_a}^{t_b} y^T K x\\ dt \\\\\n",
    "\\end{align*}\n",
    "\n",
    "Setting $y(t_b) = 0$\n",
    "\n",
    "\\begin{align*}\n",
    "\\langle y, \\mathcal{L} x \\rangle & = - \\int_{t_a}^{t_b} \\frac{dy}{dt}^T Vx\\ dt  + \\int_{t_a}^{t_b} y^T K x\\ dt \\\\\n",
    "& = \\int_{t_a}^{t_b} (-\\frac{d (V^Ty)}{dt}^T + (K^Ty)^T)x\\ dt \\\\\n",
    "& = \\langle \\mathcal{L}^* y, x \\rangle \\\\\n",
    "\\end{align*}\n",
    "\n",
    "where for a diagonal matrix $V^T = V$ we have identified the adjoint operator\n",
    "\n",
    "\\begin{align*}\n",
    "\\boxed{\\mathcal{L}^*y = - V\\frac{dy}{dt} + K^Ty \\quad \\text{with} \\quad y(t_b) = 0}\n",
    "\\end{align*}"
   ]
  },
  {
   "cell_type": "markdown",
   "metadata": {
    "colab_type": "text",
    "id": "EUnsXqMfYYAe"
   },
   "source": [
    "### Example: One compartment model\n",
    "\n",
    "A one compartment model is characterized by a volume $V$ and elimination rate $k$.\n",
    "\n",
    "$$\\mathcal{Lx} = u \\quad \\text{with} \\quad x(0) = 0$$\n",
    "\n",
    "where\n",
    "\n",
    "$$\\mathcal{L} = V\\frac{dx}{dt} + kx$$\n",
    "\n",
    "The adjoint sensitivity for area under the curve (AUC) satisfies the equation\n",
    "\n",
    "$$\\mathcal{L}^*y = 1 \\quad \\text{with} \\quad y(t_f) = 0$$\n",
    "\n",
    "where\n",
    "\n",
    "$$\\mathcal{L}^*y = -V\\frac{dy}{dt} + k y$$\n",
    "\n",
    "The next cell demonstrates the response of a one compartment model to constant infusion of a therapeutic drug for a finite period of time, and computation of the associated adjoint sensitivity function."
   ]
  },
  {
   "cell_type": "code",
   "execution_count": 5,
   "metadata": {
    "colab": {
     "base_uri": "https://localhost:8080/",
     "height": 281
    },
    "colab_type": "code",
    "executionInfo": {
     "elapsed": 761,
     "status": "ok",
     "timestamp": 1592320226713,
     "user": {
      "displayName": "Jeffrey Kantor",
      "photoUrl": "https://lh3.googleusercontent.com/a-/AOh14Gg_n8V7bVINy02QRuRgOoMo11Ri7NKU3OUKdC1bkQ=s64",
      "userId": "09038942003589296665"
     },
     "user_tz": 300
    },
    "id": "DnvSI3KrX11N",
    "outputId": "b07b4cbb-df64-4d2c-f023-6073e284e681"
   },
   "outputs": [
    {
     "data": {
      "image/png": "[encoded data removed]",
      "text/plain": [
       "<Figure size 648x288 with 1 Axes>"
      ]
     },
     "metadata": {
      "needs_background": "light"
     },
     "output_type": "display_data"
    }
   ],
   "source": [
    "%matplotlib inline\n",
    "\n",
    "import numpy as np\n",
    "import matplotlib.pyplot as plt\n",
    "from scipy.integrate import solve_ivp, trapz\n",
    "\n",
    "def pkmodel(tf, k, V):\n",
    "    \"\"\"\n",
    "    Returns time, input, concentration, and adjoint sensitivity for a\n",
    "    one-compartment pharmacokinetic model.\n",
    "    \"\"\"\n",
    "    # forward solution \n",
    "    u = lambda t: 1 if t < 10 else  0\n",
    "    def L(t, x, u):\n",
    "        return -k*x/V + u(t)/V \n",
    "    t = np.linspace(0, tf, 10001)\n",
    "    soln = solve_ivp(lambda t, y: L(t, y, u), (0, tf), (0,), t_eval=t, rtol=1e-7)\n",
    "    u = np.array([u(t) for t in t])\n",
    "    x = soln.y[0]\n",
    "\n",
    "    # adjoint sensitivity\n",
    "    def Ladj(t, y, c):\n",
    "        return k*y/V - c(t)/V\n",
    "    c = lambda t: 1\n",
    "    sens = solve_ivp(lambda t, y: Ladj(t, y, c), (tf, 0), (0,), t_eval=np.flipud(t), rtol=1e-7)\n",
    "    y = np.flipud(sens.y[0])\n",
    "\n",
    "    return t, u, x, y\n",
    "\n",
    "def AUC(t, x):\n",
    "    \"\"\"Returns area under the curve\"\"\"\n",
    "    return trapz(x, t)\n",
    "\n",
    "def pkvisualize(t, u, x, y):\n",
    "\n",
    "    fig, ax = plt.subplots(1, 1, figsize=(9, 4))\n",
    "\n",
    "    ax.plot(t, u, label='drug infusion')\n",
    "    ax.fill_between(t, u, alpha=0.2)\n",
    "\n",
    "    ax.plot(t, x, label=\"x: forward solution\")\n",
    "    ax.fill_between(t, x, alpha=0.8)\n",
    "    ax.text(t[np.argmax(x)] + 0.05*max(t), np.mean(x), f\"AUC = {AUC(t, x):6.3f}\", ha=\"left\")\n",
    "    ax.plot(t, y, label=\"y: adjoint sensitivity\")\n",
    "\n",
    "    ax.set_title('One Compartment Model')\n",
    "    ax.legend();\n",
    "    ax.grid(True)\n",
    "\n",
    "# parameter values\n",
    "k_nominal = 0.8\n",
    "V_nominal = 8\n",
    "tf = 48\n",
    "\n",
    "pkvisualize(*pkmodel(tf, k_nominal, V_nominal))"
   ]
  },
  {
   "cell_type": "markdown",
   "metadata": {
    "colab_type": "text",
    "id": "09Zd78GecwWZ"
   },
   "source": [
    "### Example: Sensitivity to changes in elimination rate $k$\n",
    "\n",
    "The sensitivity analysis for the system of linear equations extends naturally to the case of first-order linear differential equations. Adjusting for notation,\n",
    "\n",
    "$$\\boxed{\\frac{\\partial Q}{\\partial \\theta} = \\langle x, \\frac{\\partial c}{\\partial \\theta} \\rangle + \\langle y, \\frac{\\partial u}{\\partial \\theta} \\rangle - \\langle y, \\frac{\\partial \\mathcal{L}}{\\partial \\theta} x \\rangle}$$\n",
    "\n",
    "Consider, for example, a change in the elimination constant $k$ in the coomputational example. The linear operator reads\n",
    "\n",
    "$$\\mathcal{Lx} = V\\frac{dx}{dt} + k x \\quad \\text{with} \\quad x(t_a) = 0$$\n",
    "\n",
    "$$\\implies \\frac{\\partial \\mathcal{L}}{\\partial k} = 1 $$\n",
    "\n",
    "$$\\implies  \\frac{\\partial Q}{\\partial k} = - \\langle y, x \\rangle$$\n",
    "\n",
    "$$\\implies \\boxed{\\delta Q \\approx - \\delta k \\langle y, x \\rangle}$$\n",
    "\n",
    "Given a change in elimination rate $\\delta k$, the next cell compares this estimate of $\\delta Q$ to the result of a full simulation."
   ]
  },
  {
   "cell_type": "code",
   "execution_count": 6,
   "metadata": {
    "colab": {
     "base_uri": "https://localhost:8080/",
     "height": 315
    },
    "colab_type": "code",
    "executionInfo": {
     "elapsed": 698,
     "status": "ok",
     "timestamp": 1592320228665,
     "user": {
      "displayName": "Jeffrey Kantor",
      "photoUrl": "https://lh3.googleusercontent.com/a-/AOh14Gg_n8V7bVINy02QRuRgOoMo11Ri7NKU3OUKdC1bkQ=s64",
      "userId": "09038942003589296665"
     },
     "user_tz": 300
    },
    "id": "DNITzDsIM5Ax",
    "outputId": "52748cfe-d136-45a6-c513-2a9e16b40e69"
   },
   "outputs": [
    {
     "name": "stdout",
     "output_type": "stream",
     "text": [
      "Estimated change in AUC  -1.1577541344944497\n",
      "Actual Change in AUC -1.0648666184487983\n"
     ]
    },
    {
     "data": {
      "image/png": "[encoded data removed]",
      "text/plain": [
       "<Figure size 648x288 with 1 Axes>"
      ]
     },
     "metadata": {
      "needs_background": "light"
     },
     "output_type": "display_data"
    }
   ],
   "source": [
    "# parameter values\n",
    "k_nominal = 0.8\n",
    "V_nominal = 8\n",
    "tf = 48\n",
    "dk = 0.1*k_nominal\n",
    "\n",
    "# baseline simulation\n",
    "t, u, x, y = pkmodel(tf, k_nominal, V_nominal)\n",
    "\n",
    "# sensitivity estimate\n",
    "def innerproduct(t, x, y):\n",
    "    return trapz(x*y, t)\n",
    "\n",
    "print('Estimated change in AUC ', -dk*innerproduct(t, x, y))\n",
    "\n",
    "# simulation\n",
    "kt, ku, kx, ky = pkmodel(tf, k_nominal + dk, V_nominal)\n",
    "pkvisualize(kt, ku, kx, ky)\n",
    "\n",
    "print(\"Actual Change in AUC\", AUC(kt, kx) - AUC(t, x))"
   ]
  },
  {
   "cell_type": "markdown",
   "metadata": {
    "colab_type": "text",
    "id": "xtCFcsmvO3jr"
   },
   "source": [
    "Next we show how the estimate of $\\delta Q$ constructed using the adjoint sensitivity compares to simulations over a range of parameter values."
   ]
  },
  {
   "cell_type": "code",
   "execution_count": 7,
   "metadata": {
    "colab": {
     "base_uri": "https://localhost:8080/",
     "height": 297
    },
    "colab_type": "code",
    "executionInfo": {
     "elapsed": 2404,
     "status": "ok",
     "timestamp": 1592320232225,
     "user": {
      "displayName": "Jeffrey Kantor",
      "photoUrl": "https://lh3.googleusercontent.com/a-/AOh14Gg_n8V7bVINy02QRuRgOoMo11Ri7NKU3OUKdC1bkQ=s64",
      "userId": "09038942003589296665"
     },
     "user_tz": 300
    },
    "id": "-4XffvaUFomv",
    "outputId": "e016906c-6de5-4b43-9ec6-658b4b47fe32"
   },
   "outputs": [
    {
     "data": {
      "image/png": "[encoded data removed]",
      "text/plain": [
       "<Figure size 432x288 with 1 Axes>"
      ]
     },
     "metadata": {
      "needs_background": "light"
     },
     "output_type": "display_data"
    }
   ],
   "source": [
    "# parameter values\n",
    "k_nominal = 0.8\n",
    "V_nominal = 8\n",
    "tf = 48\n",
    "dk = 0.25*k_nominal\n",
    "\n",
    "# baseline simulation\n",
    "t, u, x, y = pkmodel(tf, k_nominal, V_nominal)\n",
    "plt.plot(k_nominal, AUC(t, x), '.', ms=20)\n",
    "\n",
    "# estimate Q as function of k\n",
    "k = k_nominal + dk*np.linspace(-1, 1, 101)\n",
    "Q_est = AUC(t, x) - (k - k_nominal)*innerproduct(t, x, y)\n",
    "plt.plot(k, Q_est, label=\"estimated Q\")\n",
    "\n",
    "# calculate actual Q vs k\n",
    "def Q(tf, k, V):\n",
    "    t, _, x, _ = pkmodel(tf, k, V)\n",
    "    return AUC(t, x)\n",
    "\n",
    "Q_sim = [Q(tf, k, V_nominal) for k in k]\n",
    "plt.plot(k, Q_sim, label=\"simulated Q\")\n",
    "\n",
    "plt.xlabel(\"elimination rate $k$\")\n",
    "plt.ylabel(\"area under curve (AUC)\")\n",
    "plt.title(\"estimating AUC using adjoint sensitivity\")\n",
    "plt.legend()\n",
    "plt.grid(True)"
   ]
  },
  {
   "cell_type": "markdown",
   "metadata": {
    "colab_type": "text",
    "id": "s4n1u86I89HP"
   },
   "source": [
    "### Example: Sensitivity to changes in compartment volume $V$\n",
    "\n",
    "$$\\mathcal{Lx} = V\\frac{dx}{dt} + k x \\quad \\text{with} \\quad x(t_a) = 0$$\n",
    "\n",
    "$$\\implies \\frac{\\partial \\mathcal{L}}{\\partial V} = \\frac{d}{dt} $$\n",
    "\n",
    "$$\\implies  \\frac{\\partial Q}{\\partial V} = - \\langle y, \\frac{dx}{dt} \\rangle$$\n",
    "\n",
    "$$\\implies \\boxed{\\delta Q \\approx - \\delta V \\langle y, \\frac{dx}{dt} \\rangle}$$"
   ]
  },
  {
   "cell_type": "code",
   "execution_count": 8,
   "metadata": {
    "colab": {
     "base_uri": "https://localhost:8080/",
     "height": 579
    },
    "colab_type": "code",
    "executionInfo": {
     "elapsed": 813,
     "status": "ok",
     "timestamp": 1592320234096,
     "user": {
      "displayName": "Jeffrey Kantor",
      "photoUrl": "https://lh3.googleusercontent.com/a-/AOh14Gg_n8V7bVINy02QRuRgOoMo11Ri7NKU3OUKdC1bkQ=s64",
      "userId": "09038942003589296665"
     },
     "user_tz": 300
    },
    "id": "406muN9yLPy7",
    "outputId": "44707212-d536-4cb1-eb81-3816f7b940c4"
   },
   "outputs": [
    {
     "name": "stdout",
     "output_type": "stream",
     "text": [
      "Estimated change in AUC  -0.01922826831506073\n",
      "Actual Change in AUC -0.02120952361984152\n"
     ]
    },
    {
     "data": {
      "image/png": "[encoded data removed]",
      "text/plain": [
       "<Figure size 648x288 with 1 Axes>"
      ]
     },
     "metadata": {
      "needs_background": "light"
     },
     "output_type": "display_data"
    },
    {
     "data": {
      "image/png": "[encoded data removed]",
      "text/plain": [
       "<Figure size 648x288 with 1 Axes>"
      ]
     },
     "metadata": {
      "needs_background": "light"
     },
     "output_type": "display_data"
    }
   ],
   "source": [
    "# parameter values\n",
    "k_nominal = 0.8\n",
    "V_nominal = 20\n",
    "tf = 48\n",
    "dV = 0.1\n",
    "\n",
    "# baseline simulation\n",
    "t, u, x, y = pkmodel(tf, k_nominal, V_nominal)\n",
    "\n",
    "# estimate derivative\n",
    "dx = np.gradient(x, np.mean(np.diff(t)))\n",
    "plt.figure(figsize=(9, 4))\n",
    "plt.plot(t, dx, label=\"dx/dt\")\n",
    "plt.title('estimate of dx/dt')\n",
    "plt.legend()\n",
    "plt.grid(True)\n",
    "print('Estimated change in AUC ', -dV*innerproduct(t, dx, y))\n",
    "\n",
    "# simulation\n",
    "vt, vu, vx, vy = pkmodel(tf, k_nominal, V_nominal + dV)\n",
    "pkvisualize(vt, vu, vx, vy)\n",
    "print(\"Actual Change in AUC\", AUC(vt, vx) - AUC(t, x))"
   ]
  },
  {
   "cell_type": "code",
   "execution_count": null,
   "metadata": {
    "colab": {
     "base_uri": "https://localhost:8080/",
     "height": 299
    },
    "colab_type": "code",
    "executionInfo": {
     "elapsed": 2299,
     "status": "ok",
     "timestamp": 1592320237737,
     "user": {
      "displayName": "Jeffrey Kantor",
      "photoUrl": "https://lh3.googleusercontent.com/a-/AOh14Gg_n8V7bVINy02QRuRgOoMo11Ri7NKU3OUKdC1bkQ=s64",
      "userId": "09038942003589296665"
     },
     "user_tz": 300
    },
    "id": "psO-jXQlSKcM",
    "outputId": "5721d13f-f228-4550-a4b8-d8c83700cfeb"
   },
   "outputs": [
    {
     "data": {
      "image/png": "[encoded data removed]",
      "text/plain": [
       "<Figure size 432x288 with 1 Axes>"
      ]
     },
     "metadata": {
      "needs_background": "light"
     },
     "output_type": "display_data"
    }
   ],
   "source": [
    "# parameter values\n",
    "k_nominal = 0.8\n",
    "V_nominal = 8\n",
    "tf = 48\n",
    "dV = 0.25*V_nominal\n",
    "\n",
    "# baseline simulation\n",
    "t, u, x, y = pkmodel(tf, k_nominal, V_nominal)\n",
    "plt.plot(V_nominal, AUC(t, x), '.', ms=20)\n",
    "\n",
    "# estimate Q as function of V\n",
    "V = V_nominal + dV*np.linspace(-1, 1, 101)\n",
    "dx = np.gradient(x, np.mean(np.diff(t)))\n",
    "Q_est = AUC(t, x) - (V - V_nominal)*innerproduct(t, dx, y)\n",
    "plt.plot(V, Q_est, label=\"estimated Q\")\n",
    "\n",
    "# calculate actual Q vs V\n",
    "Q_sim = [Q(tf, k_nominal, V) for V in V]\n",
    "plt.plot(V, Q_sim, label=\"simulated Q\")\n",
    "\n",
    "plt.xlabel(\"compartment volume $V$\")\n",
    "plt.ylabel(\"area under curve (AUC)\")\n",
    "plt.title(\"estimating AUC using adjoint sensitivity\")\n",
    "plt.legend()\n",
    "plt.grid(True)"
   ]
  },
  {
   "cell_type": "markdown",
   "metadata": {
    "colab_type": "text",
    "id": "3W0ijVoOrwEz"
   },
   "source": [
    "## Systems of first-order nonlinear differential equations\n",
    "\n",
    "Next we consider a system of first-order differential equations given in the form\n",
    "\n",
    "\\begin{align*}\n",
    "F(t, x, \\dot{x}, \\theta) & = 0 \\\\\n",
    "x(t_0) & = x_0\n",
    "\\end{align*}\n",
    "\n",
    "where $\\theta$ is a parameter. We wish do determine the sensitivity of a quantity of interest $Q$ to small changes in $\\theta$ where $Q$ can be expressed as an inner product\n",
    "\n",
    "$$Q = \\langle w, x \\rangle =  \\int_{t_0}^{t_f} w^T(t)x(t)\\ dt$$\n",
    "\n",
    "for some vector-valued weighting function $w(t)$ defined on the interval $[t_0, t_f]$.\n",
    "\n",
    "To proceed, we introduce an auxiliary vector-valued function $y(t)$ that will serve as a weighting function for $F$. The Lagrangian is then defined as\n",
    "\n",
    "\\begin{align*}\n",
    "L & = Q - \\langle y, F \\rangle\n",
    "\\end{align*}\n",
    "\n",
    "Because $F(t, x, \\dot{x}, \\theta) = 0$ for any solution to the differential equations, the quantity of interest will be equal to the value of the Lagrangian for any choice of $y(t)$. What we seek is a choice for $y(t)$ that goes one step further and enables us to compute the sensitivity of $Q$ to small changes in $\\theta$.\n",
    "\n",
    "From this point forward we will use a subscript notation to denote gradients of a function with respect to scalar or vector-valued arguments. Recursive applications of the chain rule\n",
    "\n",
    "\\begin{align*}\n",
    "L_{\\theta} & = Q_\\theta - \\langle y, F \\rangle_\\theta \\\\\n",
    "& = \\langle w, x \\rangle_\\theta - \\langle y, F \\rangle_\\theta \\\\\n",
    "& = \\langle w_\\theta, x \\rangle + \\langle w, x_\\theta \\rangle - \\langle y, F_\\theta \\rangle - \\langle y, F_xx_\\theta \\rangle - \\langle y, F_\\dot{x}\\dot{x}_\\theta \\rangle  \\\\\n",
    "\\end{align*}\n",
    "\n",
    "The problem with this equation is that we don't know $x_\\theta(t)$ or $\\dot{x}_\\theta(t)$, so we seek a strategy for removing them from the right-hand side. The first step is an integration by parts\n",
    "\n",
    "\\begin{align*}\n",
    "\\langle y, F_\\dot{x}\\dot{x}_\\theta \\rangle & = \\langle F_\\dot{x}^Ty, \\dot{x}_\\theta \\rangle\\\\\n",
    "& = y^T F_\\dot{x}x_\\theta\\vert_{t_0}^{t_f} - \\langle (F_{\\dot{x}}^Ty)_t, x_\\theta \\rangle  \\\\\n",
    "& = y^T F_\\dot{x}x_\\theta\\vert_{t_0}^{t_f} - \\langle F_{\\dot{x}t}^Ty, x_\\theta \\rangle  - \\langle F_{\\dot{x}}^T\\dot{y}, x_\\theta \\rangle \\\\\n",
    "& = y^T F_\\dot{x}x_\\theta\\vert_{t_0}^{t_f} - \\langle y, F_{\\dot{x}t}x_\\theta \\rangle - \\langle \\dot{y}, F_{\\dot{x}}x_\\theta \\rangle  \n",
    "\\end{align*}\n",
    "\n",
    "Rearranging these results and introducing the matrix adjoints\n",
    "\n",
    "\\begin{align*}\n",
    "L_{\\theta}\n",
    "& = \\langle w_\\theta, x \\rangle - \\langle y, F_\\theta \\rangle - y^T F_\\dot{x}x_\\theta\\vert_{t_0}^{t_f} + \\langle w, x_\\theta \\rangle - \\langle y, F_xx_\\theta \\rangle + \\langle y, F_{\\dot{x}t}x_\\theta \\rangle + \\langle \\dot{y}, F_{\\dot{x}}x_\\theta \\rangle  \\\\\n",
    "& = \\langle w_\\theta, x \\rangle - \\langle y, F_\\theta \\rangle - y^T F_\\dot{x}x_\\theta\\vert_{t_0}^{t_f} + \\langle w, x_\\theta \\rangle - \\langle F_x^Ty, x_\\theta \\rangle + \\langle F_{\\dot{x}t}^Ty, x_\\theta \\rangle + \\langle F_{\\dot{x}}^T\\dot{y}, x_\\theta \\rangle  \\\\\n",
    "& = \\langle w_\\theta, x \\rangle - \\langle y, F_\\theta \\rangle - y^T F_\\dot{x}x_\\theta\\vert_{t_0}^{t_f} + \\langle w - F_x^Ty +  F_{\\dot{x}t}^Ty + F_{\\dot{x}}^T\\dot{y}, x_\\theta \\rangle \\\\\n",
    "\\end{align*}\n",
    "\n",
    "This is a scalar expression incorporating values of $x_\\theta$. The dependence on $x_\\theta$ can be eliminated by choosing $y$ to satsify a two-point boundary value problem\n",
    "\n",
    "\\begin{align*}\n",
    "F_\\dot{x}^T\\dot{y} + (F_{\\dot{x}t}^T - F_x^T)y + w &  = 0 \\\\\n",
    "y^T F_\\dot{x}x_\\theta\\vert_{t_0}^{t_f} & = 0\\\\\n",
    "\\end{align*}\n",
    "\n",
    "If $x(t_0)$ is fixed so that $x_\\theta(t_0) = 0$, and $F_\\dot{x}$ is full rank at the end points, then the solution for $y(t)$ simplifies to \n",
    "\n",
    "\\begin{align*}\n",
    "F_\\dot{x}^T\\dot{y} + (F_{\\dot{x}t}^T - F_x^T)y + w &  = 0 \\\\\n",
    "y(t_f) & = 0\\\\\n",
    "\\end{align*}\n",
    "\n",
    "In this case the solution for $y(t)$ can be found by first solving the original differential equations for $x(t)$, then using the solution to integrate the above system of differential equations from $t_f$ back to $t_0$. \n",
    "\n",
    "With the additional assumption $x_\\theta(t_0) = 0$, this equality can be achieved by defining $y(t)$ as the solution to the differential equations. Once $x(t)$ ane $y(t)$ are known, by construction of $L$, the desired sensitivity is given by \n",
    "\n",
    "$$\\boxed{Q_\\theta = L_\\theta = \\langle w_\\theta, x \\rangle - \\langle y, F_\\theta \\rangle}$$\n",
    "\n",
    "\n"
   ]
  },
  {
   "cell_type": "markdown",
   "metadata": {
    "colab_type": "text",
    "id": "IhXReAzC1T5I"
   },
   "source": [
    "### Example: Over-damped oscillator\n",
    "\n",
    "$$ m\\ddot{x} + (c  + \\theta)\\dot{x} + k x = 0$$\n",
    "\n",
    "which can be rewritten as \n",
    "\n",
    "\\begin{align*}\n",
    "\\begin{bmatrix} 1 & 0 \\\\ 0 & m \\end{bmatrix} \\begin{bmatrix}\\dot{x}_1 \\\\  \\dot{x}_2 \\end{bmatrix} \n",
    "+ \\begin{bmatrix} 0 & -1 \\\\ k & c+\\theta \\end{bmatrix} \\begin{bmatrix}x_1 \\\\ x_2 \\end{bmatrix} =  \\begin{bmatrix}0 \\\\ 0 \\end{bmatrix}\n",
    "\\end{align*}\n",
    "\n",
    "\\begin{align*}\n",
    "F_\\dot{x} & = \\begin{bmatrix} 1 & 0 \\\\ 0 & m \\end{bmatrix}  \\\\\n",
    "F_{\\dot{x}t} & = 0 \\\\\n",
    "F_x & = \\begin{bmatrix} 0 & -1 \\\\ k & c+\\theta \\end{bmatrix} \\\\\n",
    "F_\\theta & = \\begin{bmatrix}0 \\\\ x_1 \\end{bmatrix}\n",
    "\\end{align*}\n"
   ]
  },
  {
   "cell_type": "code",
   "execution_count": null,
   "metadata": {
    "colab": {
     "base_uri": "https://localhost:8080/",
     "height": 326
    },
    "colab_type": "code",
    "executionInfo": {
     "elapsed": 897,
     "status": "ok",
     "timestamp": 1592405665506,
     "user": {
      "displayName": "Jeffrey Kantor",
      "photoUrl": "https://lh3.googleusercontent.com/a-/AOh14Gg_n8V7bVINy02QRuRgOoMo11Ri7NKU3OUKdC1bkQ=s64",
      "userId": "09038942003589296665"
     },
     "user_tz": 300
    },
    "id": "S5ZN0IPJ6Q4c",
    "outputId": "db087d5c-df19-4467-f47f-40d8a487d90a"
   },
   "outputs": [
    {
     "name": "stdout",
     "output_type": "stream",
     "text": [
      "2.3815663241270446 -32122.140068184468\n"
     ]
    },
    {
     "data": {
      "image/png": "[encoded data removed]",
      "text/plain": [
       "<Figure size 432x288 with 2 Axes>"
      ]
     },
     "metadata": {
      "needs_background": "light"
     },
     "output_type": "display_data"
    }
   ],
   "source": [
    "%matplotlib inline\n",
    "\n",
    "import autograd.numpy as np\n",
    "import matplotlib.pyplot as plt\n",
    "from scipy.integrate import solve_ivp, trapz\n",
    "from scipy.interpolate import interp1d\n",
    "\n",
    "# default model parameters\n",
    "m = 0.5\n",
    "c = .2\n",
    "k = 1\n",
    "IC = (0, 5)\n",
    "\n",
    "# simulation parameters\n",
    "t_span = (0, 10)\n",
    "\n",
    "# closures make it easy to create multiple models with different parameter values\n",
    "def damped_osc(m=m, c=c, k=k, theta=0):\n",
    "    # model equations\n",
    "    Fxdot = np.array([[1, 0], [0, m]])\n",
    "    Fx = np.array([[0, -1], [k, c + theta]])\n",
    "    return lambda t, x: np.dot(-np.dot(np.linalg.inv(Fxdot), Fx), x)\n",
    "\n",
    "# the forward solution returns an interpolation function\n",
    "def forward(deriv, t_span, IC):\n",
    "    soln = solve_ivp(deriv, t_span, IC, rtol=1e-8)\n",
    "    return interp1d(soln.t, soln.y)\n",
    "\n",
    "# forward solution\n",
    "x = forward(damped_osc(), t_span, IC)\n",
    "\n",
    "# plot solution\n",
    "fig, ax = plt.subplots(2, 1)\n",
    "fig.tight_layout()\n",
    "t = np.linspace(*t_span)\n",
    "ax[0].plot(t, [x(t) for t in t])\n",
    "ax[0].set_title(\"Forward Solution\")\n",
    "\n",
    "# quantity of interest\n",
    "w = lambda t: np.array([1, 0]) if t >= 0 else np.array([0, 0])\n",
    "def innerproduct(t, w, x):\n",
    "    return trapz([np.dot(w(t), x(t)) for t in t], t)\n",
    "Q = innerproduct(t, w, x)\n",
    "\n",
    "# plot quantity of interest and value\n",
    "ax[1].fill_between(t, [np.dot(w(t), x(t)) for t in t], alpha=0.4)\n",
    "ax[1].set_title(\"Quantity of Interest\")\n",
    "ax[1].legend([f\"Q = {Q:6.4f}\"])\n",
    "\n",
    "# adjoint model\n",
    "Fxdot = np.array([[1, 0], [0, m]])\n",
    "Fx = np.array([[0, -1], [k, c]])\n",
    "A  = np.dot(np.linalg.inv(Fxdot), Fx)\n",
    "ydot = lambda t, y: -np.dot(A.T, y) - w(t)\n",
    "\n",
    "# backward solution\n",
    "backward = solve_ivp(ydot, (tf, 0), (0, 0), rtol=1e-8)\n",
    "y = interp1d(backward.t, backward.y)\n",
    "\n",
    "ax[1].plot(t, [y(t) for t in t])\n",
    "\n",
    "Q = np.trapz([x(t)[0] for t in t], t)\n",
    "Qc = np.trapz([x(t)[0]*y(t)[1] for t in t], t)\n",
    "print(Q, Qc)"
   ]
  },
  {
   "cell_type": "markdown",
   "metadata": {
    "colab_type": "text",
    "id": "i25pJN0Cr6jy"
   },
   "source": [
    "## Systems of first-order differential equations\n",
    "\n",
    "A system of time-invariant differential equationsl with fixed initial conditions written as\n",
    "\n",
    "\\begin{align*}\n",
    "\\dot{x} & = f(t, x, \\theta) \\\\\n",
    "x(t_0) & = x_0\n",
    "\\end{align*}\n",
    "\n",
    "can be rewritten as\n",
    "\n",
    "\\begin{align*}\n",
    "F(t, x, \\dot{x}, \\theta) & = \\dot{x} - f(t, x, \\theta) \\\\\n",
    "x(t_0) & = x_0\n",
    "\\end{align*}\n",
    "\n",
    "From this we compute\n",
    "\n",
    "\\begin{align*}\n",
    "F_\\dot{x} & = I \\\\\n",
    "F_{\\dot{x}t} & = 0 \\\\\n",
    "F_x & = -f_x(t, x, \\theta) \\\\\n",
    "F_\\theta & = -f_\\theta(t, x, \\theta)\n",
    "\\end{align*}\n",
    "\n",
    "The adjoint equations become \n",
    "\n",
    "\\begin{align*}\n",
    "\\dot{y} & =  -f_x^T(t, x, \\theta)y - w(t) \\\\\n",
    "y(t_f) & = 0\\\\\n",
    "\\end{align*}"
   ]
  },
  {
   "cell_type": "markdown",
   "metadata": {
    "colab_type": "text",
    "id": "KYFAFjxGx2i_"
   },
   "source": [
    "Autograd tutorials\n",
    "\n",
    "* [http://www.cs.toronto.edu/~rgrosse/courses/csc321_2017/tutorials/tut4.pdf](http://www.cs.toronto.edu/~rgrosse/courses/csc321_2017/tutorials/tut4.pdf)\n"
   ]
  },
  {
   "cell_type": "markdown",
   "metadata": {
    "colab_type": "text",
    "id": "05ZK_tZ4c1Hb"
   },
   "source": [
    "### Example: Preditor-prey dynamics of the Hare/Lynx system\n",
    "\n",
    "See [https://jckantor.github.io/CBE30338/02.05-Hare-and-Lynx-Population-Dynamics.html](https://jckantor.github.io/CBE30338/02.05-Hare-and-Lynx-Population-Dynamics.html) for the detailed model and background to this application."
   ]
  },
  {
   "cell_type": "code",
   "execution_count": null,
   "metadata": {
    "colab": {
     "base_uri": "https://localhost:8080/",
     "height": 648
    },
    "colab_type": "code",
    "executionInfo": {
     "elapsed": 33894,
     "status": "ok",
     "timestamp": 1592443191840,
     "user": {
      "displayName": "Jeffrey Kantor",
      "photoUrl": "https://lh3.googleusercontent.com/a-/AOh14Gg_n8V7bVINy02QRuRgOoMo11Ri7NKU3OUKdC1bkQ=s64",
      "userId": "09038942003589296665"
     },
     "user_tz": 300
    },
    "id": "W09l5WllxsU9",
    "outputId": "e25c9707-1b16-4fd6-8c18-33c92d540395"
   },
   "outputs": [],
   "source": [
    "%matplotlib inline\n",
    "import autograd.numpy as np\n",
    "from autograd import jacobian\n",
    "from scipy.integrate import solve_ivp\n",
    "from scipy.interpolate import interp1d\n",
    "import matplotlib.pyplot as plt\n",
    "\n",
    "# APPLICATION SPECIFIC\n",
    "\n",
    "labels = [\"Hare\", \"Lynx\"]\n",
    "t_span = np.array([0, 70])\n",
    "IC = np.array((20, 20))\n",
    "\n",
    "# use closures to create models for different parameter values\n",
    "def preditor_prey(a=3.2, b=0.6, c=50, d=0.56, k=125, r=1.6):\n",
    "    def deriv(t, x, perturbation=0.0):\n",
    "        H, L = x\n",
    "        dH =  r*H*(1 - H/k) - a*H*L/(c + H)\n",
    "        dL = b*a*H*L/(c + H) - (d + perturbation)*L\n",
    "        return np.array([dH, dL])\n",
    "    return deriv\n",
    "f = preditor_prey()\n",
    "\n",
    "# weighting function to compute the quantity of interest\n",
    "w = lambda t: np.array([1.0, 0.0])\n",
    "\n",
    "# GENERIC SENSITIVITY ANALYSIS\n",
    "rtol = 1e-10\n",
    "\n",
    "# generic function to return the value of an innerproduct of two vector-valued functions\n",
    "def innerproduct(w, x, t_span):\n",
    "    \"\"\"Returns numerical value of the inner product of two vector-valued functions over t_span.\"\"\"\n",
    "    return solve_ivp(lambda t, q: np.dot(w(t), x(t)), t_span, np.array([0.0]), rtol=rtol).y[0][-1]\n",
    "\n",
    "# the forward solution returns the quantity of interest and an interpolation function for x(t)\n",
    "def forward(deriv, t_span, IC):\n",
    "    \"\"\"Return a function that computes x(t)\"\"\"\n",
    "    soln = solve_ivp(deriv, t_span, IC, rtol=rtol)\n",
    "    return interp1d(soln.t, soln.y)\n",
    "\n",
    "x = forward(f, t_span, IC)\n",
    "Q = innerproduct(w, x, t_span)\n",
    "\n",
    "# adjoint sensitivity and parametric sensitivity coefficient\n",
    "def backward(w, f, t_span): \n",
    "    \"\"\"Return a function that computes y(t)\"\"\"\n",
    "    ydot = lambda t, y: -np.dot(jacobian(f, 1)(t, x(t)).T, y) - w(t)\n",
    "    soln = solve_ivp(ydot, np.flipud(t_span), np.zeros(len(IC)), rtol=rtol)\n",
    "    return interp1d(soln.t, soln.y)\n",
    "\n",
    "y = backward(w, f, t_span)\n",
    "Qp = innerproduct(y, lambda t: jacobian(f, 2)(t, x(t), 0.0), t_span)\n",
    "\n",
    "# VISUALIZATION AND VALIDATION\n",
    "\n",
    "# compare to actual simulation\n",
    "delta = 0.01\n",
    "Qa = innerproduct(w, forward(lambda t,x: f(t, x, delta), t_span, IC), t_span)\n",
    "print(f\"Predicted change: {delta*Qp}\")\n",
    "print(f\"Actual change: {Qa - Q}\")\n",
    "\n",
    "# plot solution\n",
    "t = np.linspace(*t_span, 1001)\n",
    "fig, ax = plt.subplots(4, 1, figsize=(8,8))\n",
    "fig.tight_layout()\n",
    "ax[0].plot(t, [x(t) for t in t])\n",
    "ax[0].set_title(\"Forward Solution\")\n",
    "ax[0].legend(labels)\n",
    "ax[1].fill_between(t, [np.dot(w(t), x(t)) for t in t], alpha=0.4)\n",
    "ax[1].set_title(\"Quantity of Interest\")\n",
    "ax[1].legend([f\"Q = {Q:6.4f}\"])\n",
    "ax[2].plot(t, [y(t) for t in t])\n",
    "ax[2].set_title(\"Adjoint Sensitivities\")\n",
    "ax[2].legend(labels)\n",
    "ax[2].grid(True)\n",
    "ax[3].fill_between(t, [np.dot(y(t), jacobian(f, 2)(t, x(t), 0.0)) for t in t], alpha=0.4)\n",
    "ax[3].legend([f\"Qsens = {Qp:6.4f}\"])\n"
   ]
  },
  {
   "cell_type": "markdown",
   "metadata": {
    "colab_type": "text",
    "id": "cM2yM5zTUSrE"
   },
   "source": [
    "### Example: Managing COVID-19 on a College Campus\n",
    "\n",
    "See [https://github.com/jckantor/covid-19](https://github.com/jckantor/covid-19) for detail on this model."
   ]
  },
  {
   "cell_type": "code",
   "execution_count": null,
   "metadata": {
    "colab": {
     "base_uri": "https://localhost:8080/",
     "height": 648
    },
    "colab_type": "code",
    "executionInfo": {
     "elapsed": 3097,
     "status": "ok",
     "timestamp": 1593724754671,
     "user": {
      "displayName": "Jeffrey Kantor",
      "photoUrl": "https://lh3.googleusercontent.com/a-/AOh14Gg_n8V7bVINy02QRuRgOoMo11Ri7NKU3OUKdC1bkQ=s64",
      "userId": "09038942003589296665"
     },
     "user_tz": 300
    },
    "id": "fYCwBXQjUCsQ",
    "outputId": "ec5bd2da-3f3e-4159-b06d-fe21531ca332"
   },
   "outputs": [],
   "source": [
    "%matplotlib inline\n",
    "import autograd.numpy as np\n",
    "from autograd import jacobian\n",
    "from scipy.integrate import solve_ivp\n",
    "from scipy.interpolate import interp1d\n",
    "import matplotlib.pyplot as plt\n",
    "\n",
    "# APPLICATION SPECIFIC\n",
    "\n",
    "labels = [\"Susceptible\", \"Exposed\", \"Infected\", \"Recovered\"]\n",
    "t_span = np.array([0, 120])\n",
    "\n",
    "N = 16000.0\n",
    "n = 10.0\n",
    "\n",
    "e_initial = n/N\n",
    "i_initial = 0.00\n",
    "r_initial = 0.00\n",
    "s_initial = 1 - e_initial - i_initial - r_initial\n",
    "\n",
    "IC = np.array([s_initial, e_initial, i_initial, r_initial])\n",
    "\n",
    "# use closures to create models for different parameter values\n",
    "def seir(R0=2.4, t_incubation=5.1, t_infective=3.3, u=0.37):\n",
    "    def deriv(t, x, theta=0.0):\n",
    "        s, e, i, r = x\n",
    "        alpha = 1/t_incubation\n",
    "        gamma = 1/t_infective\n",
    "        beta = (R0 + theta)*gamma\n",
    "        dsdt = -(1-u)*beta * s * i\n",
    "        dedt =  (1-u)*beta * s * i - alpha * e\n",
    "        didt = alpha * e - gamma * i\n",
    "        drdt =  gamma * i\n",
    "        return np.array([dsdt, dedt, didt, drdt])\n",
    "    return deriv\n",
    "f = seir(R0=1.0, u=0.0)\n",
    "\n",
    "# weighting function to compute the quantity of interest\n",
    "w = lambda t: np.array([0.0, 0.0, 1.0, 0.0])\n",
    "\n",
    "# GENERIC SENSITIVITY ANALYSIS\n",
    "rtol = 1e-10\n",
    "\n",
    "# generic function to return the value of an innerproduct of two vector-valued functions\n",
    "def innerproduct(w, x, t_span):\n",
    "    \"\"\"Returns numerical value of the inner product of two vector-valued functions over t_span.\"\"\"\n",
    "    return solve_ivp(lambda t, q: np.dot(w(t), x(t)), t_span, np.array([0.0]), rtol=rtol).y[0][-1]\n",
    "\n",
    "# the forward solution returns the quantity of interest and an interpolation function for x(t)\n",
    "def forward(deriv, t_span, IC):\n",
    "    \"\"\"Return a function that computes x(t)\"\"\"\n",
    "    soln = solve_ivp(deriv, t_span, IC, rtol=rtol)\n",
    "    return interp1d(soln.t, soln.y)\n",
    "\n",
    "x = forward(f, t_span, IC)\n",
    "Q = innerproduct(w, x, t_span)\n",
    "\n",
    "# adjoint sensitivity and parametric sensitivity coefficient\n",
    "def backward(w, f, t_span): \n",
    "    \"\"\"Return a function that computes y(t)\"\"\"\n",
    "    ydot = lambda t, y: -np.dot(jacobian(f, 1)(t, x(t)).T, y) - w(t)\n",
    "    soln = solve_ivp(ydot, np.flipud(t_span), np.zeros(len(IC)), rtol=rtol)\n",
    "    return interp1d(soln.t, soln.y)\n",
    "\n",
    "y = backward(w, f, t_span)\n",
    "Qp = innerproduct(y, lambda t: jacobian(f, 2)(t, x(t), 0.0), t_span)\n",
    "\n",
    "# VISUALIZATION AND VALIDATION\n",
    "\n",
    "# compare to actual simulation\n",
    "delta = 0.01\n",
    "Qa = innerproduct(w, forward(lambda t,x: f(t, x, delta), t_span, IC), t_span)\n",
    "print(f\"Predicted change: {delta*Qp}\")\n",
    "print(f\"Actual change: {Qa - Q}\")\n",
    "\n",
    "# plot solution\n",
    "t = np.linspace(*t_span, 1001)\n",
    "fig, ax = plt.subplots(4, 1, figsize=(8,8))\n",
    "fig.tight_layout()\n",
    "ax[0].plot(t, [x(t) for t in t])\n",
    "ax[0].set_title(\"Forward Solution\")\n",
    "ax[0].legend(labels)\n",
    "ax[1].fill_between(t, [np.dot(w(t), x(t)) for t in t], alpha=0.4)\n",
    "ax[1].set_title(\"Quantity of Interest\")\n",
    "ax[1].legend([f\"Q = {Q:6.4f}\"])\n",
    "ax[2].plot(t, [y(t) for t in t])\n",
    "ax[2].set_title(\"Adjoint Sensitivities\")\n",
    "ax[2].legend(labels)\n",
    "ax[2].grid(True)\n",
    "ax[3].fill_between(t, [np.dot(y(t), jacobian(f, 2)(t, x(t), 0.0)) for t in t], alpha=0.4)\n",
    "ax[3].legend([f\"Qsens = {Qp:6.4f}\"])\n"
   ]
  },
  {
   "cell_type": "markdown",
   "metadata": {
    "colab_type": "text",
    "id": "F7fyfG8UjaJU"
   },
   "source": [
    "### Exercise: Application to an exothermic stirred tank reactor\n",
    "\n",
    "\\begin{align*}\n",
    "V\\frac{dc_A}{dt} & = q(c_{Ai}-c_A)-Vkc_A \\\\\n",
    "V\\rho C_p\\frac{dT}{dt} & = wC_p(T_i-T) + (-\\Delta H_R)Vkc_A + UA(T_c-T)\n",
    "\\end{align*}\n",
    "\n",
    "Solving for the derivatives\n",
    "\n",
    "\\begin{align*}\n",
    "\\frac{dc_A}{dt} & = \\frac{q}{V}(c_{Ai} - c_A)- kc_A \\\\\n",
    "\\frac{dT}{dt} & = \\frac{q}{V}(T_i - T) + \\frac{-\\Delta H_R}{\\rho C_p}kc_A + \\frac{UA}{V\\rho C_p}(T_c - T)\n",
    "\\end{align*}\n",
    "\n",
    "which are the equations that will be integrated below.\n",
    "\n",
    "| Quantity | Symbol | Value | Units | Comments |\n",
    "| :------- | :----: | :---: | :---- | |\n",
    "| Activation Energy | $E_a$ | 72,750 | J/gmol | |\n",
    "| Arrehnius pre-exponential | $k_0$ | 7.2 x 10<sup>10</sup> | 1/min | |\n",
    "| Gas Constant | $R$ | 8.314 | J/gmol/K | |\n",
    "| Reactor Volume | $V$ | 100 | liters | |\n",
    "| Density | $\\rho$ | 1000 | g/liter | |\n",
    "| Heat Capacity | $C_p$ | 0.239 | J/g/K | |\n",
    "| Enthalpy of Reaction | $\\Delta H_r$ | -50,000 | J/gmol | |\n",
    "| Heat Transfer Coefficient | $UA$ | 50,000 | J/min/K | |\n",
    "| Feed flowrate | $q$ | 100 | liters/min | |\n",
    "| Feed concentration | $c_{A,f}$ | 1.0 | gmol/liter | |\n",
    "| Feed temperature | $T_f$ | 350 | K | |\n",
    "| Initial concentration | $c_{A,0}$ | 0.5 | gmol/liter | |\n",
    "| Initial temperature | $T_0$ | 350 | K | |\n",
    "| Coolant temperature | $T_c$ | 300 | K | Primary Manipulated Variable |\n"
   ]
  },
  {
   "cell_type": "code",
   "execution_count": null,
   "metadata": {
    "colab": {},
    "colab_type": "code",
    "id": "bVhr-3NRkEIs"
   },
   "outputs": [],
   "source": [
    "Ea  = 72750     # activation energy J/gmol\n",
    "R   = 8.314     # gas constant J/gmol/K\n",
    "k0  = 7.2e10    # Arrhenius rate constant 1/min\n",
    "V   = 100.0     # Volume [L]\n",
    "rho = 1000.0    # Density [g/L]\n",
    "Cp  = 0.239     # Heat capacity [J/g/K]\n",
    "dHr = -5.0e4    # Enthalpy of reaction [J/mol]\n",
    "UA  = 5.0e4     # Heat transfer [J/min/K]\n",
    "q = 100.0       # Flowrate [L/min]\n",
    "cAi = 1.0       # Inlet feed concentration [mol/L]\n",
    "Ti  = 350.0     # Inlet feed temperature [K]\n",
    "cA0 = 0.5;      # Initial concentration [mol/L]\n",
    "T0  = 350.0;    # Initial temperature [K]\n",
    "Tc  = 300.0     # Coolant temperature [K]\n",
    "\n",
    "# Arrhenius rate expression\n",
    "def k(T):\n",
    "    return k0*np.exp(-Ea/R/T)\n",
    "\n",
    "def deriv(y,t):\n",
    "    cA,T = y\n",
    "    dcA = (q/V)*(cAi - cA) - k(T)*cA\n",
    "    dT = (q/V)*(Ti - T) + (-dHr/rho/Cp)*k(T)*cA + (UA/V/rho/Cp)*(Tc-T)\n",
    "    return [dcA,dT]"
   ]
  },
  {
   "cell_type": "code",
   "execution_count": null,
   "metadata": {
    "colab": {},
    "colab_type": "code",
    "id": "81bdrz-IjgDc"
   },
   "outputs": [],
   "source": [
    "# visualization\n",
    "def plotReactor(t,y):\n",
    "    plt.subplot(1,2,1)\n",
    "    plt.plot(t,y[:,0])\n",
    "    plt.xlabel('Time [min]')\n",
    "    plt.ylabel('Concentration [gmol/liter]')\n",
    "    plt.title('Concentration')\n",
    "    plt.ylim(0,1)\n",
    "\n",
    "    plt.subplot(1,2,2)\n",
    "    plt.plot(t,y[:,1])\n",
    "    plt.xlabel('Time [min]')\n",
    "    plt.ylabel('Temperature [K]');\n",
    "    plt.title('Temperature')\n",
    "    plt.ylim(300,450)\n",
    "    plt.legend([Tc])"
   ]
  },
  {
   "cell_type": "code",
   "execution_count": null,
   "metadata": {
    "colab": {
     "base_uri": "https://localhost:8080/",
     "height": 295
    },
    "colab_type": "code",
    "executionInfo": {
     "elapsed": 695,
     "status": "ok",
     "timestamp": 1592335111404,
     "user": {
      "displayName": "Jeffrey Kantor",
      "photoUrl": "https://lh3.googleusercontent.com/a-/AOh14Gg_n8V7bVINy02QRuRgOoMo11Ri7NKU3OUKdC1bkQ=s64",
      "userId": "09038942003589296665"
     },
     "user_tz": 300
    },
    "id": "lTjnskK7zYdQ",
    "outputId": "3a2af70a-0d04-48ad-bc3f-e41134488fb3"
   },
   "outputs": [],
   "source": [
    "from scipy.integrate import odeint\n",
    "\n",
    "Tc = 300\n",
    "IC = [cA0,T0]\n",
    "t = np.linspace(0,10.0,2000)\n",
    "y = odeint(deriv,IC,t)\n",
    "\n",
    "plt.figure(figsize=(12,4))\n",
    "plotReactor(t,y);"
   ]
  },
  {
   "cell_type": "code",
   "execution_count": null,
   "metadata": {
    "colab": {},
    "colab_type": "code",
    "id": "LQWDidMAxOcM"
   },
   "outputs": [],
   "source": []
  }
 ],
 "metadata": {
  "colab": {
   "authorship_tag": "ABX9TyNdioMTgA7TMKPIBKhcWZ74",
   "collapsed_sections": [],
   "name": "06.03-Sensitivity-Analysis-with-Adjoint-Operators.ipynb",
   "provenance": []
  },
  "kernelspec": {
   "display_name": "Python 3",
   "language": "python",
   "name": "python3"
  },
  "language_info": {
   "codemirror_mode": {
    "name": "ipython",
    "version": 3
   },
   "file_extension": ".py",
   "mimetype": "text/x-python",
   "name": "python",
   "nbconvert_exporter": "python",
   "pygments_lexer": "ipython3",
   "version": "3.7.3"
  }
 },
 "nbformat": 4,
 "nbformat_minor": 1
}
