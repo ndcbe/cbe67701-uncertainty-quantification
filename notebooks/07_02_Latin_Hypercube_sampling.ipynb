{
  "nbformat": 4,
  "nbformat_minor": 0,
  "metadata": {
    "kernelspec": {
      "display_name": "Python 3",
      "language": "python",
      "name": "python3"
    },
    "language_info": {
      "codemirror_mode": {
        "name": "ipython",
        "version": 3
      },
      "file_extension": ".py",
      "mimetype": "text/x-python",
      "name": "python",
      "nbconvert_exporter": "python",
      "pygments_lexer": "ipython3",
      "version": "3.7.3"
    },
    "colab": {
      "name": "07.02-Latin-Hypercube-sampling.ipynb",
      "provenance": []
    }
  },
  "cells": [
    {
      "cell_type": "markdown",
      "metadata": {
        "id": "DnCs7XId4TeP",
        "colab_type": "text"
      },
      "source": [
        "# LATIN HYPERCUBE SAMPLING\n",
        "Latin hypercube sampling (LHS) is a statistical method for generating a near-random sample of parameter values from a multidimensional distribution. The sampling method is often used to construct computer experiments or for Monte Carlo integration.\n",
        "\n",
        "To generalize the Latin square to a hypercube, we define a X = (X1, . . . , Xp) as a collection of p independent random variables. To generate N samples, we divide the domain of each Xj in N intervals. In total there are Np such intervals. The intervals are defined by the N + 1 edges:\n",
        "\n"
      ]
    },
    {
      "cell_type": "code",
      "metadata": {
        "id": "kQhVsePNSvu8",
        "colab_type": "code",
        "colab": {}
      },
      "source": [
        "!pip install -q sobol_seq\n",
        "!pip install -q ghalton\n",
        "!pip install -q pyDOE"
      ],
      "execution_count": 27,
      "outputs": []
    },
    {
      "cell_type": "markdown",
      "metadata": {
        "id": "5ZETasp64TeQ",
        "colab_type": "text"
      },
      "source": [
        "Created by V.Vijay Kumar Naidu (vvelagal@nd.edu)"
      ]
    },
    {
      "cell_type": "code",
      "metadata": {
        "id": "KffZ1fJ_4TeQ",
        "colab_type": "code",
        "colab": {}
      },
      "source": [
        "import matplotlib.pyplot as plt\n",
        "import numpy as np\n",
        "import scipy.sparse as sparse\n",
        "import scipy.sparse.linalg as linalg\n",
        "import scipy.integrate as integrate\n",
        "import math\n",
        "from scipy.stats.distributions import norm\n",
        "from scipy.stats import gamma\n",
        "import sobol_seq\n",
        "import ghalton\n",
        "from scipy import stats\n",
        "from pyDOE import *\n",
        "%matplotlib inline"
      ],
      "execution_count": 6,
      "outputs": []
    },
    {
      "cell_type": "markdown",
      "metadata": {
        "colab_type": "text",
        "id": "7KFZKceKHWVX",
        "nbpages": {
          "level": 1,
          "link": "[5.3 Elastic Net Regression](https://ndcbe.github.io/cbe67701-uncertainty-quantification/05.03-Contributed-Example.html#5.3-Elastic-Net-Regression)",
          "section": "5.3 Elastic Net Regression"
        }
      },
      "source": [
        "**Latin-Hper cube 2D**\n",
        "\n",
        "Makes a Latin Hyper Cube sample and returns a matrix X of size n by 2. For each column of X, the n values are randomly distributed with one from each interval (0,1/n), (1/n,2/n), ..., (1-1/n,1) and they are randomly permuted."
      ]
    },
    {
      "cell_type": "code",
      "metadata": {
        "id": "30R2uAAp6aiR",
        "colab_type": "code",
        "colab": {}
      },
      "source": [
        "def latin_hypercube_2d_uniform(n):\n",
        "  lower_limits=np.arange(0,n)/n\n",
        "  upper_limits=np.arange(1,n+1)/n\n",
        "\n",
        "  points=np.random.uniform(low=lower_limits,high=upper_limits,size=[2,n]).T\n",
        "  np.random.shuffle(points[:,1])\n",
        "  return points"
      ],
      "execution_count": 10,
      "outputs": []
    },
    {
      "cell_type": "code",
      "metadata": {
        "id": "lD6llSHp8nUH",
        "colab_type": "code",
        "colab": {
          "base_uri": "https://localhost:8080/",
          "height": 341
        },
        "outputId": "a245fe0e-5436-4fb4-f237-8651f745b45d"
      },
      "source": [
        "n=20\n",
        "p=latin_hypercube_2d_uniform(n)\n",
        "plt.figure(figsize=[5,5])\n",
        "plt.xlim([0,1])\n",
        "plt.ylim([0,1])\n",
        "plt.scatter(p[:,0],p[:,1],c='r')\n",
        "\n",
        "for i in np.arange(0,1,1/n):\n",
        "  plt.axvline(i)\n",
        "  plt.axhline(i)\n",
        "plt.show"
      ],
      "execution_count": 15,
      "outputs": [
        {
          "output_type": "execute_result",
          "data": {
            "text/plain": [
              "<function matplotlib.pyplot.show>"
            ]
          },
          "metadata": {
            "tags": []
          },
          "execution_count": 15
        },
        {
          "output_type": "display_data",
          "data": {
            "image/png": "[encoded data removed]",
            "text/plain": [
              "<Figure size 360x360 with 1 Axes>"
            ]
          },
          "metadata": {
            "tags": [],
            "needs_background": "light"
          }
        }
      ]
    },
    {
      "cell_type": "markdown",
      "metadata": {
        "id": "T3aFz5UHLhFf",
        "colab_type": "text"
      },
      "source": [
        "**Latin-hypercube designs can be created using the following simple syntax**\n"
      ]
    },
    {
      "cell_type": "code",
      "metadata": {
        "id": "dCyvuRToLf7y",
        "colab_type": "code",
        "colab": {}
      },
      "source": [
        "lhs(n, [samples, criterion, iterations])"
      ],
      "execution_count": null,
      "outputs": []
    },
    {
      "cell_type": "markdown",
      "metadata": {
        "id": "lvGXdBpOL8i5",
        "colab_type": "text"
      },
      "source": [
        "**n**: an integer that designates the number of factors (required).\n",
        "\n",
        "**samples**: an integer that designates the number of sample points to generate for each factor (default: n)\n",
        "criterion: a string that tells lhs how to sample the points (default: None, which simply randomizes the points within the intervals):\n",
        "\n",
        "**“center” or “c”**: center the points within the sampling intervals\n",
        "“maximin” or “m”: maximize the minimum distance between points, but place the point in a randomized location within its interval\n",
        "\n",
        "**“centermaximin” or “cm”**: same as “maximin”, but centered within the intervals\n",
        "\n",
        "**“correlation” or “corr”**: minimize the maximum correlation coefficient\n",
        "\n",
        "The output design scales all the variable ranges from zero to one which can then be transformed as the user wishes (like to a specific statistical distribution using the scipy.stats.distributions ppf (inverse cumulative distribution) function"
      ]
    },
    {
      "cell_type": "code",
      "metadata": {
        "id": "W9KwhC8JL7wJ",
        "colab_type": "code",
        "colab": {}
      },
      "source": [
        ">>> from scipy.stats.distributions import norm\n",
        "from pyDOE import *\n",
        ">>> lhd = lhs(2, samples=5)\n",
        ">>> lhd = norm(loc=0, scale=1).ppf(lhd)  # this applies to both factors here"
      ],
      "execution_count": 10,
      "outputs": []
    },
    {
      "cell_type": "markdown",
      "metadata": {
        "id": "QXvC3_JiM5_p",
        "colab_type": "text"
      },
      "source": [
        "Graphically, each transformation would look like the following, going from the blue sampled points (from using lhs) to the green sampled points that are normally distributed: (Adapted from https://pythonhosted.org/pyDOE/randomized.html)\n"
      ]
    },
    {
      "cell_type": "markdown",
      "metadata": {
        "id": "B4vaJwj2NWd4",
        "colab_type": "text"
      },
      "source": [
        "![image.png](data:image/png;base64,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)"
      ]
    },
    {
      "cell_type": "markdown",
      "metadata": {
        "id": "zrHRqUeibyNo",
        "colab_type": "text"
      },
      "source": [
        "An example for Latin-Hyper cube sampling"
      ]
    },
    {
      "cell_type": "code",
      "metadata": {
        "id": "-Mb4AHDdRx_K",
        "colab_type": "code",
        "colab": {
          "base_uri": "https://localhost:8080/",
          "height": 187
        },
        "outputId": "7818b20e-d45c-46c6-e581-71073ef9deeb"
      },
      "source": [
        "design = lhs(4, samples=10)\n",
        ">>> from scipy.stats.distributions import norm\n",
        ">>> means = [1, 2, 3, 4]\n",
        ">>> stdvs = [0.1, 0.5, 1, 0.25]\n",
        ">>> for i in range(4):\n",
        "...     design[:, i] = norm(loc=means[i], scale=stdvs[i]).ppf(design[:, i])\n",
        "...\n",
        ">>> design\n"
      ],
      "execution_count": 8,
      "outputs": [
        {
          "output_type": "execute_result",
          "data": {
            "text/plain": [
              "array([[0.97456505, 1.56630111, 4.39913311, 4.27057037],\n",
              "       [0.82942467, 2.70738743, 2.75440401, 3.5993837 ],\n",
              "       [0.93903332, 1.35855932, 3.02364834, 3.84156867],\n",
              "       [1.07748205, 2.30618755, 1.28819392, 3.93077869],\n",
              "       [1.12947813, 2.25734753, 3.64860592, 4.19002984],\n",
              "       [1.01880525, 2.5369553 , 2.38106717, 3.94225274],\n",
              "       [1.10765369, 1.79526801, 3.98229725, 4.07709038],\n",
              "       [0.98640517, 1.71421093, 2.55878826, 3.74585775],\n",
              "       [1.04364073, 1.94010575, 1.72636217, 4.06010393],\n",
              "       [0.88713426, 2.06695659, 3.26470336, 4.56878509]])"
            ]
          },
          "metadata": {
            "tags": []
          },
          "execution_count": 8
        }
      ]
    },
    {
      "cell_type": "markdown",
      "metadata": {
        "id": "YoCFcxW3bAXw",
        "colab_type": "text"
      },
      "source": [
        "**Set up diffusion reaction equation**\n",
        "\n",
        "The steady advection-diffusion-reaction(ADR) equation in one-spatial dimension with a spatially constant, but uncertain, diffusion coefficient, a linear reaction term, and a prescribed uncertain source.\n",
        "\n",
        "$$\n",
        "\\nu \\frac{du}{dx} - \\omega \\frac{d^2u}{dx^2} + \\kappa(x)u = S(x)\n",
        "$$\n",
        "The QoI is total reaction rate:$$\n",
        "Q= \\int^{10}_{0} \\kappa(x_ u)u(x)dx\n",
        "$$\n",
        "where v and ω are spatially constant with means\n",
        "$$\n",
        "\\nu = 10, μ_{ω} = 20, \n",
        "$$\n",
        "and\n",
        "$$\n",
        "Var(v) = 0.0723493, Var(ω) = 0.3195214.\n",
        "$$\n",
        "\n",
        "The reaction coefficient, κ(x), is  given by \n",
        "$$\n",
        "κ(x) = κ_{l}  \\space   x ∈ (5, 7.5)\n",
        "$$ \n",
        "       $$  \\space    κ_{h} \\space otherwise$$ \n",
        "    \n",
        "  The value of the source is given by\n",
        "$$S(x) = qx(10 − x),$$ "
      ]
    },
    {
      "cell_type": "code",
      "metadata": {
        "id": "eR3fNfymMbaE",
        "colab_type": "code",
        "colab": {}
      },
      "source": [
        "def ADRSource(Lx, Nx, Source, omega, v, kappa):\n",
        "    #Solves the diffusion equation with Generalized Source\n",
        "    A = sparse.dia_matrix((Nx,Nx),dtype=\"complex\")\n",
        "    dx = Lx/Nx\n",
        "    i2dx2 = 1.0/(dx*dx)\n",
        "    #fill diagonal of A\n",
        "    A.setdiag(2*i2dx2*omega + np.sign(v)*v/dx + kappa)\n",
        "    #fill off diagonals of A\n",
        "    A.setdiag(-i2dx2*omega[1:Nx] + \n",
        "              0.5*(1-np.sign(v[1:Nx]))*v[1:Nx]/dx,1)\n",
        "    A.setdiag(-i2dx2*omega[0:(Nx-1)] - \n",
        "              0.5*(np.sign(v[0:(Nx-1)])+1)*v[0:(Nx-1)]/dx,-1)\n",
        "    #solve A x = Source\n",
        "    Solution = linalg.spsolve(A.tocsr(),Source)\n",
        "    Q = integrate.trapz(Solution*kappa,dx=dx)\n",
        "    return Solution, Q"
      ],
      "execution_count": 15,
      "outputs": []
    },
    {
      "cell_type": "markdown",
      "metadata": {
        "id": "YzNoqAe6bMTx",
        "colab_type": "text"
      },
      "source": [
        "Solve diffusion equation"
      ]
    },
    {
      "cell_type": "code",
      "metadata": {
        "id": "ZGqMMZKvMbaG",
        "colab_type": "code",
        "colab": {
          "base_uri": "https://localhost:8080/",
          "height": 332
        },
        "outputId": "15a27e23-dd7b-4d74-cf85-d603bc3f69ad"
      },
      "source": [
        "Lx = 10\n",
        "Nx = 2000\n",
        "dx = Lx/Nx\n",
        "Source_func = lambda x, q:  q*x*(10-x)\n",
        "kappa_func = lambda x, kappal, kappah: kappah + (kappal-kappah)*(x>5)*(x<7.5)\n",
        "v_func = lambda x,v: v*np.ones(x.size)\n",
        "omega_func = lambda x,omega: omega*np.ones(x.size)\n",
        "\n",
        "#nominal values\n",
        "\n",
        "import csv\n",
        "\n",
        "xs = np.linspace(dx/2,Lx-dx/2,Nx)\n",
        "source = Source_func(xs, 1)\n",
        "kappa = kappa_func(xs, 0.1, 2)\n",
        "\n",
        "omega_nom = 20\n",
        "omega_var = 0.3195214\n",
        "v_nom = 10\n",
        "v_var = 0.0723493\n",
        "kappal_nom = 0.1\n",
        "kappal_var = 8.511570e-6\n",
        "kappah_nom = 2\n",
        "kappah_var = 0.002778142\n",
        "q_nom = 1\n",
        "q_var = 7.062353e-4\n",
        "vs = v_func(xs, v_nom)\n",
        "print(vs)\n",
        "sol,Q = ADRSource(Lx, Nx, source, omega_func(xs, omega_nom), vs, kappa)\n",
        "print(Q)\n",
        "plt.plot(xs,sol)\n",
        "plt.show()"
      ],
      "execution_count": 16,
      "outputs": [
        {
          "output_type": "stream",
          "text": [
            "[10. 10. 10. ... 10. 10. 10.]\n",
            "(52.390252927703344+0j)\n"
          ],
          "name": "stdout"
        },
        {
          "output_type": "stream",
          "text": [
            "/usr/local/lib/python3.6/dist-packages/numpy/core/_asarray.py:85: ComplexWarning: Casting complex values to real discards the imaginary part\n",
            "  return array(a, dtype, copy=False, order=order)\n"
          ],
          "name": "stderr"
        },
        {
          "output_type": "display_data",
          "data": {
            "image/png": "[encoded data removed]",
            "text/plain": [
              "<Figure size 432x288 with 1 Axes>"
            ]
          },
          "metadata": {
            "tags": [],
            "needs_background": "light"
          }
        }
      ]
    },
    {
      "cell_type": "markdown",
      "metadata": {
        "id": "8K4A3GjRMbaJ",
        "colab_type": "text"
      },
      "source": [
        "We are going to join gamma RVs with a normal copula. First we get the normal samples"
      ]
    },
    {
      "cell_type": "code",
      "metadata": {
        "id": "5bv2qHTSMbaK",
        "colab_type": "code",
        "colab": {
          "base_uri": "https://localhost:8080/",
          "height": 648
        },
        "outputId": "adce1858-0e1a-46df-d404-499ef2d67e2b"
      },
      "source": [
        "means = [v_nom, omega_nom, kappal_nom, kappah_nom, q_nom]\n",
        "varmat = np.zeros((5,5))\n",
        "#fill in diagonal\n",
        "corrmat = np.ones((5,5))\n",
        "corrmat[0,:] = (1,.1,-0.05,0,0)\n",
        "corrmat[1,:] = (.1,1,-.4,.3,.5)\n",
        "corrmat[2,:] = (-0.05,-.4,1,.2,0)\n",
        "corrmat[3,:] = (0,.3,0.2,1,-.1)\n",
        "corrmat[4,:] = (0,.5,0,-.1,1)\n",
        "print(corrmat-corrmat.transpose())\n",
        "print(corrmat)\n",
        "\n",
        "\n",
        "varmat[np.diag_indices(5)] = [v_var, omega_var, kappal_var, kappah_var, q_var]\n",
        "for i in range(5):\n",
        "    for j in range(5):\n",
        "        varmat[i,j] = math.sqrt(varmat[i,i])*math.sqrt(varmat[j,j])*corrmat[i,j]\n",
        "print(varmat)\n",
        "print(varmat-varmat.transpose())\n",
        "print(np.linalg.eig(varmat))\n",
        "\n",
        "samps = 10**6 #4*10**4\n",
        "test = norm.cdf(np.random.multivariate_normal(np.zeros(5), corrmat, samps))\n",
        "\n",
        "print(np.max(test[:,0]))\n",
        "import tabulate\n",
        "#print(tabulate.tabulate(corrmat, tablefmt=\"latex\", floatfmt=\".2f\"))"
      ],
      "execution_count": 17,
      "outputs": [
        {
          "output_type": "stream",
          "text": [
            "[[0. 0. 0. 0. 0.]\n",
            " [0. 0. 0. 0. 0.]\n",
            " [0. 0. 0. 0. 0.]\n",
            " [0. 0. 0. 0. 0.]\n",
            " [0. 0. 0. 0. 0.]]\n",
            "[[ 1.    0.1  -0.05  0.    0.  ]\n",
            " [ 0.1   1.   -0.4   0.3   0.5 ]\n",
            " [-0.05 -0.4   1.    0.2   0.  ]\n",
            " [ 0.    0.3   0.2   1.   -0.1 ]\n",
            " [ 0.    0.5   0.   -0.1   1.  ]]\n",
            "[[ 7.23493000e-02  1.52043249e-02 -3.92366580e-05  0.00000000e+00\n",
            "   0.00000000e+00]\n",
            " [ 1.52043249e-02  3.19521400e-01 -6.59651879e-04  8.93816670e-03\n",
            "   7.51094687e-03]\n",
            " [-3.92366580e-05 -6.59651879e-04  8.51157000e-06  3.07547395e-05\n",
            "   0.00000000e+00]\n",
            " [ 0.00000000e+00  8.93816670e-03  3.07547395e-05  2.77814200e-03\n",
            "  -1.40072194e-04]\n",
            " [ 0.00000000e+00  7.51094687e-03  0.00000000e+00 -1.40072194e-04\n",
            "   7.06235300e-04]]\n",
            "[[0. 0. 0. 0. 0.]\n",
            " [0. 0. 0. 0. 0.]\n",
            " [0. 0. 0. 0. 0.]\n",
            " [0. 0. 0. 0. 0.]\n",
            " [0. 0. 0. 0. 0.]]\n",
            "(array([3.20880078e-01, 7.14248146e-02, 2.58516363e-03, 4.68396801e-04,\n",
            "       5.13602871e-06]), array([[-6.10221850e-02, -9.98104846e-01, -5.23689494e-03,\n",
            "         5.95871096e-03,  2.80458596e-04],\n",
            "       [-9.97466874e-01,  6.06888498e-02,  2.39831973e-02,\n",
            "        -2.80393816e-02, -3.91132091e-03],\n",
            "       [ 2.05538173e-03, -8.80183607e-06, -1.78182587e-02,\n",
            "         5.09130368e-02, -9.98542011e-01],\n",
            "       [-2.80167615e-02,  7.88889090e-03, -9.85095968e-01,\n",
            "         1.67509882e-01,  2.60614743e-02],\n",
            "       [-2.33872832e-02,  6.43007420e-03,  1.69309850e-01,\n",
            "         9.84137485e-01,  4.71091795e-02]]))\n",
            "0.999998469535694\n"
          ],
          "name": "stdout"
        }
      ]
    },
    {
      "cell_type": "markdown",
      "metadata": {
        "id": "pHqz2NbMbr05",
        "colab_type": "text"
      },
      "source": [
        "The distributions will be gammas"
      ]
    },
    {
      "cell_type": "code",
      "metadata": {
        "id": "7RHUJw50bsj4",
        "colab_type": "code",
        "colab": {
          "base_uri": "https://localhost:8080/",
          "height": 204
        },
        "outputId": "9e2ea3e7-9c75-4f8b-8256-e293ae189de0"
      },
      "source": [
        "def gen_samps(samps,test):\n",
        "    #v will have v_nom = 10 v_var = 1 which makes alpha = 10 beta = 10 or theta = 1/10\n",
        "    vsamps = gamma.ppf(test[:,0], a = 100, scale = 1/10)\n",
        "    #print(np.mean(vsamps), np.var(vsamps), np.std(vsamps))\n",
        "    #plt.hist(vsamps)\n",
        "\n",
        "    #omega will have  omega_nom = 20, var = 4 which makes alpha = 100 beta = 5, theta = 1/5\n",
        "    omegasamps = gamma.ppf(test[:,1], a = 100, scale = 1/5)\n",
        "    #print(np.mean(omegasamps), np.var(omegasamps), np.std(omegasamps))\n",
        "    #plt.hist(omegasamps)\n",
        "\n",
        "    #kappa_l will have kappa_l = 0.1 var = (0.01)^2 this makes alpha = 100 and theta = 1/1000\n",
        "    kappalsamps = gamma.ppf(test[:,2], a = 100, scale = 1/1000)\n",
        "    #print(np.mean(kappalsamps), np.var(kappalsamps), np.std(kappalsamps))\n",
        "    #plt.hist(kappalsamps)\n",
        "\n",
        "    #kappa_h will have kappa_h = 2 var = .04 this makes alpha = 100 and theta = 1/50\n",
        "    kappahsamps = (test[:,3]>0.005)*(1.98582-4.82135) + (4.82135) # #gamma.ppf(test[:,3], a = 100, scale = 1/50)\n",
        "    print(np.mean(kappahsamps), np.var(kappahsamps), np.std(kappahsamps))\n",
        "    #plt.hist(kappahsamps)\n",
        "\n",
        "    #q will have q = 1 var = 0.01 this makes alpha = 100 and theta = 1/100\n",
        "    qsamps = gamma.ppf(test[:,4], a = 100, scale = 1/100)\n",
        "    #print(np.mean(qsamps), np.var(qsamps),np.std(qsamps))\n",
        "    #plt.hist(qsamps)\n",
        "    \n",
        "    return vsamps,omegasamps,kappalsamps,kappahsamps,qsamps\n",
        "vsamps,omegasamps,kappalsamps,kappahsamps,qsamps = gen_samps(samps,test)\n",
        "\n",
        "var_list = [vsamps,omegasamps,kappalsamps,kappahsamps,qsamps]\n",
        "cormat_emp = np.zeros((5,5))\n",
        "tmp = np.vstack((var_list[0],var_list[1],var_list[2],var_list[3],var_list[4]))\n",
        "cormat_emp = np.cov(tmp)\n",
        "sens = np.array([-1.74063875491,-0.970393472244,13.1587256647,17.7516305655,52.3902556893])\n",
        "print(cormat_emp, np.dot(sens,np.dot(cormat_emp,sens)))"
      ],
      "execution_count": 18,
      "outputs": [
        {
          "output_type": "stream",
          "text": [
            "1.9998757222099997 0.03965785867127662 0.1991428097403384\n",
            "[[ 9.99844147e-01  2.00171547e-01 -4.98930269e-04  1.20828909e-04\n",
            "   1.53687357e-05]\n",
            " [ 2.00171547e-01  4.00724223e+00 -7.94561030e-03 -2.29630698e-02\n",
            "   1.00411870e-01]\n",
            " [-4.98930269e-04 -7.94561030e-03  9.95114540e-05 -7.64563494e-05\n",
            "  -1.63072191e-06]\n",
            " [ 1.20828909e-04 -2.29630698e-02 -7.64563494e-05  3.96578983e-02\n",
            "   4.74073446e-04]\n",
            " [ 1.53687357e-05  1.00411870e-01 -1.63072191e-06  4.74073446e-04\n",
            "   1.00233432e-02]] 39.14548906685795\n"
          ],
          "name": "stdout"
        }
      ]
    },
    {
      "cell_type": "code",
      "metadata": {
        "id": "BJKHQE_PMbaP",
        "colab_type": "code",
        "colab": {
          "base_uri": "https://localhost:8080/",
          "height": 68
        },
        "outputId": "dbc1d1c6-ca5a-42f8-cd79-7357fedc1abf"
      },
      "source": [
        "Qs = np.zeros(samps)\n",
        "print(np.mean(vsamps),np.mean(omegasamps),np.mean(kappalsamps), np.mean(kappahsamps),np.mean(qsamps))\n",
        "for i in range(samps):\n",
        "    sol,Qs[i] = ADRSource(Lx, Nx, Source_func(xs, qsamps[i]), omega_func(xs, omegasamps[i]), v_func(xs, vsamps[i]),\n",
        "                          kappa_func(xs, kappalsamps[i], kappahsamps[i]))\n"
      ],
      "execution_count": 19,
      "outputs": [
        {
          "output_type": "stream",
          "text": [
            "10.001031943162694 19.999297746210576 0.10000994959184574 1.9998757222099997 1.0000097438390896\n"
          ],
          "name": "stdout"
        },
        {
          "output_type": "stream",
          "text": [
            "/usr/local/lib/python3.6/dist-packages/ipykernel_launcher.py:5: ComplexWarning: Casting complex values to real discards the imaginary part\n",
            "  \"\"\"\n"
          ],
          "name": "stderr"
        }
      ]
    },
    {
      "cell_type": "code",
      "metadata": {
        "id": "VGk7dr9mMbaR",
        "colab_type": "code",
        "colab": {
          "base_uri": "https://localhost:8080/",
          "height": 540
        },
        "outputId": "48a6c2d5-30af-45d1-9112-fcd9c536bd9c"
      },
      "source": [
        "plt.hist(kappahsamps)\n",
        "plt.show()\n",
        "plt.hist(Qs)\n",
        "plt.show()\n",
        "print(np.mean(Qs),stats.scoreatpercentile(Qs,95) ,stats.scoreatpercentile(Qs,5),np.std(Qs), stats.kurtosis(Qs), stats.skew(Qs))\n",
        "Qref = Qs.copy()\n",
        "np.savetxt(fname=\"ref_\"+ str(samps) + \"_binomial.csv\", delimiter=\",\", X=Qref)"
      ],
      "execution_count": 20,
      "outputs": [
        {
          "output_type": "display_data",
          "data": {
            "image/png": "[encoded data removed]",
            "text/plain": [
              "<Figure size 432x288 with 1 Axes>"
            ]
          },
          "metadata": {
            "tags": [],
            "needs_background": "light"
          }
        },
        {
          "output_type": "display_data",
          "data": {
            "image/png": "[encoded data removed]",
            "text/plain": [
              "<Figure size 432x288 with 1 Axes>"
            ]
          },
          "metadata": {
            "tags": [],
            "needs_background": "light"
          }
        },
        {
          "output_type": "stream",
          "text": [
            "52.31292159923654 60.80399055798508 44.21583930025348 5.7604803915145135 14.30426543122639 2.0153117592678513\n"
          ],
          "name": "stdout"
        }
      ]
    },
    {
      "cell_type": "markdown",
      "metadata": {
        "id": "qpV0Y54GqvLa",
        "colab_type": "text"
      },
      "source": [
        "Now we will do 100 samples and compare"
      ]
    },
    {
      "cell_type": "code",
      "metadata": {
        "id": "U3uCihlpMbaW",
        "colab_type": "code",
        "colab": {
          "base_uri": "https://localhost:8080/",
          "height": 51
        },
        "outputId": "1ae79b64-e021-4618-f22b-f6581a2e09e7"
      },
      "source": [
        "samps = 100 #4*10**4\n",
        "print (samps)\n",
        "test = norm.cdf(np.random.multivariate_normal(np.zeros(5), corrmat, samps))\n",
        "vsamps,omegasamps,kappalsamps,kappahsamps,qsamps = gen_samps(samps,test)"
      ],
      "execution_count": 21,
      "outputs": [
        {
          "output_type": "stream",
          "text": [
            "100\n",
            "1.9858199999999997 4.930380657631324e-32 2.220446049250313e-16\n"
          ],
          "name": "stdout"
        }
      ]
    },
    {
      "cell_type": "code",
      "metadata": {
        "id": "oG02l9jiMbaY",
        "colab_type": "code",
        "colab": {
          "base_uri": "https://localhost:8080/",
          "height": 51
        },
        "outputId": "6f8fd711-69ad-42d8-e29f-c4b5891620dd"
      },
      "source": [
        "QSRS = np.zeros(samps)\n",
        "for i in range(samps):\n",
        "    sol,QSRS[i] = ADRSource(Lx, Nx, Source_func(xs, qsamps[i]), omega_func(xs, omegasamps[i]), v_func(xs, vsamps[i]),\n",
        "                          kappa_func(xs, kappalsamps[i], kappahsamps[i]))"
      ],
      "execution_count": 22,
      "outputs": [
        {
          "output_type": "stream",
          "text": [
            "/usr/local/lib/python3.6/dist-packages/ipykernel_launcher.py:4: ComplexWarning: Casting complex values to real discards the imaginary part\n",
            "  after removing the cwd from sys.path.\n"
          ],
          "name": "stderr"
        }
      ]
    },
    {
      "cell_type": "code",
      "metadata": {
        "id": "_oWlAwu_eubW",
        "colab_type": "code",
        "colab": {
          "base_uri": "https://localhost:8080/",
          "height": 281
        },
        "outputId": "42a413c6-638b-467a-f7cc-44cc277ee392"
      },
      "source": [
        "plt.hist(QSRS)\n",
        "plt.show()\n",
        "print(np.mean(QSRS),stats.scoreatpercentile(QSRS,95),stats.scoreatpercentile(QSRS,5),np.std(QSRS), \n",
        "      stats.kurtosis(QSRS), stats.skew(QSRS))"
      ],
      "execution_count": 23,
      "outputs": [
        {
          "output_type": "display_data",
          "data": {
            "image/png": "[encoded data removed]",
            "text/plain": [
              "<Figure size 432x288 with 1 Axes>"
            ]
          },
          "metadata": {
            "tags": [],
            "needs_background": "light"
          }
        },
        {
          "output_type": "stream",
          "text": [
            "52.00799409339454 61.70948632602295 45.197517605339556 4.745430830870469 0.7124665541617765 0.7291175005695416\n"
          ],
          "name": "stdout"
        }
      ]
    },
    {
      "cell_type": "markdown",
      "metadata": {
        "id": "TqUABHh3i_vm",
        "colab_type": "text"
      },
      "source": [
        "# Application of LHS to advection-reaction-diffusion equation"
      ]
    },
    {
      "cell_type": "code",
      "metadata": {
        "id": "78AGh7iQjANt",
        "colab_type": "code",
        "colab": {
          "base_uri": "https://localhost:8080/",
          "height": 264
        },
        "outputId": "c3405446-3619-4454-e898-b85be5abb88c"
      },
      "source": [
        "#lhd will have the values in 0 to 1\n",
        "lhd = lhs(5, samples=samps)\n",
        "#now i need to turn these into samples from N(0,Corrmat)\n",
        "#do cholesky fact\n",
        "chol = np.linalg.cholesky(corrmat)\n",
        "\n",
        "lhs_unif = np.zeros((samps,5))\n",
        "for i in range(samps):\n",
        "    lhs_unif[i,:] = np.dot(chol,norm.ppf(lhd[i,:]))\n",
        "#print(lhs_unif)\n",
        "#plt.plot(lhd[:,0],lhd[:,1],'.')\n",
        "#plt.show()\n",
        "plt.plot(lhs_unif[:,0],lhs_unif[:,1],'.')\n",
        "plt.show()"
      ],
      "execution_count": 24,
      "outputs": [
        {
          "output_type": "display_data",
          "data": {
            "image/png": "[encoded data removed]",
            "text/plain": [
              "<Figure size 432x288 with 1 Axes>"
            ]
          },
          "metadata": {
            "tags": [],
            "needs_background": "light"
          }
        }
      ]
    },
    {
      "cell_type": "code",
      "metadata": {
        "id": "veSJTwfsjEQ9",
        "colab_type": "code",
        "colab": {
          "base_uri": "https://localhost:8080/",
          "height": 34
        },
        "outputId": "6f7f258d-b49c-42de-ace6-1aaa59d31a83"
      },
      "source": [
        "test_lhs = norm.cdf(lhs_unif)\n",
        "\n",
        "vsamps,omegasamps,kappalsamps,kappahsamps,qsamps = gen_samps(samps,test_lhs)"
      ],
      "execution_count": 25,
      "outputs": [
        {
          "output_type": "stream",
          "text": [
            "1.9858199999999997 4.930380657631324e-32 2.220446049250313e-16\n"
          ],
          "name": "stdout"
        }
      ]
    },
    {
      "cell_type": "code",
      "metadata": {
        "id": "ATReERNLjI_E",
        "colab_type": "code",
        "colab": {
          "base_uri": "https://localhost:8080/",
          "height": 336
        },
        "outputId": "21848535-183e-4072-d32b-9eee318588b7"
      },
      "source": [
        "QLHS = np.zeros(samps)\n",
        "for i in range(samps):\n",
        "    sol,QLHS[i] = ADRSource(Lx, Nx, Source_func(xs, qsamps[i]), omega_func(xs, omegasamps[i]), v_func(xs, vsamps[i]),\n",
        "                          kappa_func(xs, kappalsamps[i], kappahsamps[i]))\n",
        "plt.hist(QLHS)\n",
        "plt.show()\n",
        "print(np.mean(QLHS),stats.scoreatpercentile(QLHS,95),stats.scoreatpercentile(QLHS,5),np.std(QLHS), \n",
        "      stats.kurtosis(QLHS), stats.skew(QLHS))\n",
        "print(np.mean(Qs),stats.scoreatpercentile(Qs,95) ,stats.scoreatpercentile(Qs,5),np.std(Qs), stats.kurtosis(Qs), stats.skew(Qs))"
      ],
      "execution_count": 26,
      "outputs": [
        {
          "output_type": "stream",
          "text": [
            "/usr/local/lib/python3.6/dist-packages/ipykernel_launcher.py:4: ComplexWarning: Casting complex values to real discards the imaginary part\n",
            "  after removing the cwd from sys.path.\n"
          ],
          "name": "stderr"
        },
        {
          "output_type": "display_data",
          "data": {
            "image/png": "[encoded data removed]",
            "text/plain": [
              "<Figure size 432x288 with 1 Axes>"
            ]
          },
          "metadata": {
            "tags": [],
            "needs_background": "light"
          }
        },
        {
          "output_type": "stream",
          "text": [
            "52.1425311302623 61.09950947526438 44.67629854699532 5.353128572938959 -0.49767468464763764 -0.054917191221359914\n",
            "52.31292159923654 60.80399055798508 44.21583930025348 5.7604803915145135 14.30426543122639 2.0153117592678513\n"
          ],
          "name": "stdout"
        }
      ]
    },
    {
      "cell_type": "markdown",
      "metadata": {
        "id": "01-H_CF8yAm3",
        "colab_type": "text"
      },
      "source": [
        "![alt text](https://drive.google.com/uc?export=view&id=1kojR4my2rsD0hRLKG29ugGT7dLbHkb9h)\n",
        "\n",
        "\n"
      ]
    }
  ]
}