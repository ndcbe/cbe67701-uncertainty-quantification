{
 "cells": [
  {
   "cell_type": "markdown",
   "metadata": {},
   "source": [
    "# Hermite Expansion for Normally Distributed Parameters"
   ]
  },
  {
   "cell_type": "markdown",
   "metadata": {},
   "source": [
    "Created by Xian Gao (xgao1@nd.edu)\n",
    "\n",
    "These examples and codes were adapted from:\n",
    "* McClarren, Ryan G (2018). *Uncertainty Quantification and Predictive Computational Science: A Foundation for Physical Scientists and Engineers*, *Chapter 7 : Sampling-Based Uncertainty Quantification Monte Carlo and Beyond*, Springer, https://link.springer.com/chapter/10.1007%2F978-3-319-99525-0_7\n",
    "* http://www.cfm.brown.edu/people/dobrush/am34/Mathematica/ch5/hermite.html"
   ]
  },
  {
   "cell_type": "code",
   "execution_count": 1,
   "metadata": {},
   "outputs": [],
   "source": [
    "## import all needed Python libraries here\n",
    "import numpy as np\n",
    "from scipy.special import eval_hermitenorm,eval_hermite\n",
    "import matplotlib.pyplot as plt\n",
    "import seaborn as sns\n",
    "np.random.seed(250)"
   ]
  },
  {
   "cell_type": "markdown",
   "metadata": {},
   "source": [
    "## Hermite Expansion (physicist version)\n",
    "\n",
    "The Hermite polynomials $H_{n}(x)$ are a set of orthogonal polynomials. Given a function of interests (i.e. QoI), $g(x)$, a Hermite expansion can be used to approximate this.\n",
    "$$g(x) = \\sum_{n = 0}^{\\infty} c_{n} H_{n}(x)$$\n",
    "where the expansion coefficients $c_n$ can be calculated as follows:\n",
    "$$c_{n} = \\frac{<g(x),H_{n}(x)>}{2^{n}n!\\sqrt{\\pi}} = \\frac{1}{2^{n}n!\\sqrt{\\pi}}\\int_{-\\infty}^{\\infty} g(x)H_{n}(x) e^{-x^2}dx $$.\n",
    "\n",
    "\n",
    "## Gauss-Hermite Quadrature\n",
    "Gauss-Hermite quadrature is often used to approximate the integrals with weight function $e^{-x^2}$:\n",
    "$$\\int_{-\\infty}^{\\infty} f(x) e^{-x^2}dx \\approx \\sum_{i = 1}^{n} w_i f(x_i)$$\n",
    "Given the number of quadrature points $n$, quadrature points $x_i$ are the roots of Hermite polynomial (physicists' version) and the weights can be calculated as follows:\n",
    "$$w_i = \\frac{2^{n-1}n!\\sqrt{\\pi}}{n^2H_{n-1}^{2}(x_i)}$$\n",
    "\n",
    "This can be naturally used to approximate the Hermite expansion coefficients $c_{n}$:\n",
    "$$c_{n} = \\frac{1}{2^{n}n!\\sqrt{\\pi}}\\int_{-\\infty}^{\\infty} g(x)H_{n}(x) e^{-x^2}dx \\approx \\frac{1}{2^{n}n!\\sqrt{\\pi}}\\sum_{i = 1}^{n} w_i g(x_i)H_{n}(x_i)$$\n"
   ]
  },
  {
   "cell_type": "code",
   "execution_count": 2,
   "metadata": {},
   "outputs": [],
   "source": [
    "# function to calcualte the hermite expansion coefficient\n",
    "def calc_hermite_coefficient1(aPoints, aWeights,f,mu=0.0,sigma = 1.0,coefIndex = 0):\n",
    "    \n",
    "    '''\n",
    "    A function to calculate the hermite expansion coefficients.\n",
    "    Inputs:\n",
    "        1. aPoints: an array of quadrature points from Gauss-Hermite quadrature rule. (numpy array)\n",
    "        2. aWeights: an array of quadrature weights from Gauss-Hermite quadrature rule. (numpy array)\n",
    "        3. f: QoI. (python function)\n",
    "        4. mu: mean of the Gaussian distribution (float)\n",
    "        5. sigma: standard deviation of the Gaussian distribution (float)\n",
    "        6. coefIndex: expansion coefficient index (int)\n",
    "    Output:\n",
    "        1. c_n\n",
    "    '''\n",
    "    \n",
    "    # calculate the inner product using Eqn 9.14\n",
    "    inner_product = sum(aWeights[i] \\\n",
    "                     * f(aPoints[i][0] * sigma + mu)\\\n",
    "                     * eval_hermite(coefIndex, aPoints[i][0])\n",
    "                      for i in range(aPoints.shape[0]))\n",
    "    \n",
    "    return inner_product/(np.sqrt(np.pi) * 2**coefIndex * np.math.factorial(coefIndex))"
   ]
  },
  {
   "cell_type": "code",
   "execution_count": 3,
   "metadata": {},
   "outputs": [],
   "source": [
    "# use hermite expansion to approximate given coefficient\n",
    "def hermite_expand(x,expansion_coef):\n",
    "    '''\n",
    "    A function to evaluate the value of QoI using Hermite expansion.\n",
    "    \n",
    "    Inputs:\n",
    "        1. x: point that needs to be evaluate\n",
    "        2. expansion_coef: an array of quadrature weights from Gauss-Hermite quadrature rule. (numpy array)\n",
    "    Output:\n",
    "        1. Value of QoI at point x\n",
    "    '''\n",
    "    \n",
    "    accumulate = 0\n",
    "    for idx, coef in enumerate(expansion_coef):\n",
    "        accumulate += coef * eval_hermite(idx,x)\n",
    "    return accumulate"
   ]
  },
  {
   "cell_type": "code",
   "execution_count": 4,
   "metadata": {},
   "outputs": [],
   "source": [
    "# declare number of dimension and number of quadrature points\n",
    "iDim = 1\n",
    "iLevel = 12\n",
    "\n",
    "# get the quadrature points and weights\n",
    "aPoints, aWeights = np.polynomial.hermite.hermgauss(iLevel + 1)\n",
    "aPoints = aPoints.reshape(-1,1)\n",
    "\n",
    "# declare the mean and variance of the normal distribution\n",
    "mu = 0.5\n",
    "var = 4\n",
    "\n",
    "# specifiy number of samples\n",
    "numSamples = 10000\n",
    "\n",
    "# generate samples from standard Gaussian space\n",
    "sample_standard = np.random.normal(0,1,size = numSamples)\n",
    "\n",
    "# convert samples\n",
    "samples = sample_standard * var**0.5 + mu\n"
   ]
  },
  {
   "cell_type": "markdown",
   "metadata": {},
   "source": [
    "## Distribution of $\\cos(x)$\n",
    "Given $x \\sim \\mathcal{N}(0.5,4)$, what is the distribution of $\\cos(x)$?"
   ]
  },
  {
   "cell_type": "code",
   "execution_count": 5,
   "metadata": {},
   "outputs": [
    {
     "data": {
      "image/png": "[encoded data removed]",
      "text/plain": [
       "<Figure size 432x288 with 1 Axes>"
      ]
     },
     "metadata": {
      "needs_background": "light"
     },
     "output_type": "display_data"
    }
   ],
   "source": [
    "# functions we want to approximate\n",
    "def f(x):\n",
    "    return np.cos(x)\n",
    "\n",
    "\n",
    "# declare number of terms needed\n",
    "numTerms = 10\n",
    "\n",
    "# calculate the expansion coefficient\n",
    "expansion_coef1 = [calc_hermite_coefficient1(aPoints,\\\n",
    "                                             aWeights,\\\n",
    "                                             f = f, \\\n",
    "                                             mu = mu,\\\n",
    "                                             sigma = var**0.5,\\\n",
    "                                             coefIndex = i) for i in range(numTerms)]\n",
    "\n",
    "# use hermite expansion to calculate QoI\n",
    "approx = [hermite_expand(x,expansion_coef1) for x in sample_standard]\n",
    "\n",
    "# plot the density\n",
    "sns.distplot(f(samples), hist = False, kde = True,\n",
    "                 kde_kws = {'linewidth': 1},label = 'Monte Carlo')\n",
    "sns.distplot(approx, hist = False, kde = True,\n",
    "                  kde_kws = {'linewidth': 2},label = 'Gauss-Hermite')\n",
    "plt.xlim(-1.5,1.5)\n",
    "plt.xticks([-1,-0.5,0,0.5,1],fontsize = 15)\n",
    "plt.yticks([0.25,0.5,0.75,1],fontsize = 15)\n",
    "plt.legend(fontsize = 15)\n",
    "plt.xlabel('g(x)',fontsize = 15)\n",
    "plt.ylabel('Density',fontsize = 15)\n",
    "plt.show()"
   ]
  },
  {
   "cell_type": "markdown",
   "metadata": {},
   "source": [
    "## Distribution of $x\\cos(x)$\n",
    "Given $x \\sim \\mathcal{N}(0.5,4)$, what is the distribution of $x\\cos(x)$?"
   ]
  },
  {
   "cell_type": "code",
   "execution_count": 6,
   "metadata": {},
   "outputs": [
    {
     "data": {
      "image/png": "[encoded data removed]",
      "text/plain": [
       "<Figure size 432x288 with 1 Axes>"
      ]
     },
     "metadata": {
      "needs_background": "light"
     },
     "output_type": "display_data"
    }
   ],
   "source": [
    "# functions we want to approximate\n",
    "def g(x):\n",
    "    return np.cos(x)*x\n",
    "\n",
    "# declare number of terms needed\n",
    "numTerms = 12\n",
    "\n",
    "# calculate the expansion coefficient\n",
    "expansion_coef1 = [calc_hermite_coefficient1(aPoints,\\\n",
    "                                             aWeights,\\\n",
    "                                             f = g, \\\n",
    "                                             mu = mu,\\\n",
    "                                             sigma = var**0.5,\\\n",
    "                                             coefIndex = i) for i in range(numTerms)]\n",
    "\n",
    "# use hermite expansion to calculate QoI\n",
    "approx = [hermite_expand(x,expansion_coef1) for x in sample_standard]\n",
    "\n",
    "# plot the density\n",
    "sns.distplot(g(samples), hist = False, kde = True,\n",
    "                 kde_kws = {'linewidth': 1},label = 'Monte Carlo')\n",
    "sns.distplot(approx, hist = False, kde = True,\n",
    "                  kde_kws = {'linewidth': 2},label = 'Gauss-Hermite')\n",
    "plt.xlim(-1.5,1.5)\n",
    "plt.xticks([-1,-0.5,0,0.5,1],fontsize = 15)\n",
    "plt.yticks([0.25,0.5,0.75,1],fontsize = 15)\n",
    "plt.legend(fontsize = 15)\n",
    "plt.xlabel('g(x)',fontsize = 15)\n",
    "plt.ylabel('Density',fontsize = 15)\n",
    "plt.show()"
   ]
  },
  {
   "cell_type": "code",
   "execution_count": null,
   "metadata": {},
   "outputs": [],
   "source": []
  }
 ],
 "metadata": {
  "kernelspec": {
   "display_name": "Python 3",
   "language": "python",
   "name": "python3"
  },
  "language_info": {
   "codemirror_mode": {
    "name": "ipython",
    "version": 3
   },
   "file_extension": ".py",
   "mimetype": "text/x-python",
   "name": "python",
   "nbconvert_exporter": "python",
   "pygments_lexer": "ipython3",
   "version": "3.7.4"
  }
 },
 "nbformat": 4,
 "nbformat_minor": 2
}
