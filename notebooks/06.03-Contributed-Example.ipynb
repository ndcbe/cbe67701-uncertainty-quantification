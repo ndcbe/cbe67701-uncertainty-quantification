{
 "cells": [
  {
   "cell_type": "markdown",
   "metadata": {},
   "source": [
    "# A Simple Example Of Adjoint Sensitivity Analysis"
   ]
  },
  {
   "cell_type": "markdown",
   "metadata": {},
   "source": [
    "Han Gao (hgao1@nd.edu)"
   ]
  },
  {
   "cell_type": "code",
   "execution_count": 1,
   "metadata": {},
   "outputs": [],
   "source": [
    "## import all needed Python libraries here\n",
    "import numpy as np\n",
    "import matplotlib.pyplot as plt\n",
    "from matplotlib.ticker import LinearLocator, FormatStrFormatter\n",
    "from matplotlib import cm\n",
    "from mpl_toolkits.mplot3d import Axes3D"
   ]
  },
  {
   "cell_type": "markdown",
   "metadata": {},
   "source": [
    "Here we give a very simple example of adjoint sensitivity analysis (SA) with analytic solution.\n",
    "\n",
    "Consider a system $$Q=\\int_0^{t=1}u(t)dt$$\n",
    "$$s.t.\\;\\dot{u}=bu$$\n",
    "$$\\quad\\quad u(0)=a$$\n",
    "We want to find the $\\frac{\\partial Q}{\\partial a}$ and $\\frac{\\partial Q}{\\partial b}$ by SA.\n"
   ]
  },
  {
   "cell_type": "code",
   "execution_count": 2,
   "metadata": {},
   "outputs": [],
   "source": [
    "\"\"\"define hyperparameters of the problem\"\"\"\n",
    "ts=0 # Start Time\n",
    "te=1 # End Time\n",
    "\"\"\"define the time domain of the problem\"\"\"\n",
    "T=np.linspace(ts,te,1000)\n",
    "\"\"\"define the QOI function \"\"\"\n",
    "qoi=lambda a,b:a/b*(np.exp(b*te)-1)"
   ]
  },
  {
   "cell_type": "markdown",
   "metadata": {},
   "source": [
    "Itergrate the system we can get\n",
    "$$u(t)=a\\cdot e^{bt}$$\n"
   ]
  },
  {
   "cell_type": "code",
   "execution_count": 3,
   "metadata": {},
   "outputs": [
    {
     "ename": "NameError",
     "evalue": "name 'fua' is not defined",
     "output_type": "error",
     "traceback": [
      "\u001b[0;31m---------------------------------------------------------------------------\u001b[0m",
      "\u001b[0;31mNameError\u001b[0m                                 Traceback (most recent call last)",
      "\u001b[0;32m<ipython-input-3-040e05c0cf89>\u001b[0m in \u001b[0;36m<module>\u001b[0;34m()\u001b[0m\n\u001b[1;32m      4\u001b[0m \u001b[0mplt\u001b[0m\u001b[0;34m.\u001b[0m\u001b[0mfigure\u001b[0m\u001b[0;34m(\u001b[0m\u001b[0;34m)\u001b[0m\u001b[0;34m\u001b[0m\u001b[0;34m\u001b[0m\u001b[0m\n\u001b[1;32m      5\u001b[0m \u001b[0mplt\u001b[0m\u001b[0;34m.\u001b[0m\u001b[0mplot\u001b[0m\u001b[0;34m(\u001b[0m\u001b[0mT\u001b[0m\u001b[0;34m,\u001b[0m\u001b[0mfu\u001b[0m\u001b[0;34m(\u001b[0m\u001b[0mT\u001b[0m\u001b[0;34m,\u001b[0m\u001b[0;36m2\u001b[0m\u001b[0;34m,\u001b[0m\u001b[0;36m3\u001b[0m\u001b[0;34m)\u001b[0m\u001b[0;34m,\u001b[0m\u001b[0mlabel\u001b[0m\u001b[0;34m=\u001b[0m\u001b[0;34mr'$u(t;a=2,b=3)$'\u001b[0m\u001b[0;34m)\u001b[0m\u001b[0;34m\u001b[0m\u001b[0;34m\u001b[0m\u001b[0m\n\u001b[0;32m----> 6\u001b[0;31m \u001b[0mplt\u001b[0m\u001b[0;34m.\u001b[0m\u001b[0mplot\u001b[0m\u001b[0;34m(\u001b[0m\u001b[0mT\u001b[0m\u001b[0;34m,\u001b[0m\u001b[0mfua\u001b[0m\u001b[0;34m(\u001b[0m\u001b[0mT\u001b[0m\u001b[0;34m,\u001b[0m\u001b[0;36m2\u001b[0m\u001b[0;34m,\u001b[0m\u001b[0;36m3\u001b[0m\u001b[0;34m)\u001b[0m\u001b[0;34m,\u001b[0m\u001b[0mlabel\u001b[0m\u001b[0;34m=\u001b[0m\u001b[0;34mr'$u^*(t;a=2,b=3)$'\u001b[0m\u001b[0;34m)\u001b[0m\u001b[0;34m\u001b[0m\u001b[0;34m\u001b[0m\u001b[0m\n\u001b[0m\u001b[1;32m      7\u001b[0m \u001b[0mplt\u001b[0m\u001b[0;34m.\u001b[0m\u001b[0mplot\u001b[0m\u001b[0;34m(\u001b[0m\u001b[0mT\u001b[0m\u001b[0;34m,\u001b[0m\u001b[0mfu\u001b[0m\u001b[0;34m(\u001b[0m\u001b[0mT\u001b[0m\u001b[0;34m,\u001b[0m\u001b[0;36m4\u001b[0m\u001b[0;34m,\u001b[0m\u001b[0;36m5\u001b[0m\u001b[0;34m)\u001b[0m\u001b[0;34m,\u001b[0m\u001b[0mlabel\u001b[0m\u001b[0;34m=\u001b[0m\u001b[0;34mr'$u(t;a=4,b=5)$'\u001b[0m\u001b[0;34m)\u001b[0m\u001b[0;34m\u001b[0m\u001b[0;34m\u001b[0m\u001b[0m\n\u001b[1;32m      8\u001b[0m \u001b[0mplt\u001b[0m\u001b[0;34m.\u001b[0m\u001b[0mplot\u001b[0m\u001b[0;34m(\u001b[0m\u001b[0mT\u001b[0m\u001b[0;34m,\u001b[0m\u001b[0mfua\u001b[0m\u001b[0;34m(\u001b[0m\u001b[0mT\u001b[0m\u001b[0;34m,\u001b[0m\u001b[0;36m4\u001b[0m\u001b[0;34m,\u001b[0m\u001b[0;36m5\u001b[0m\u001b[0;34m)\u001b[0m\u001b[0;34m,\u001b[0m\u001b[0mlabel\u001b[0m\u001b[0;34m=\u001b[0m\u001b[0;34mr'$u^*(t;a=4,b=5)$'\u001b[0m\u001b[0;34m)\u001b[0m\u001b[0;34m\u001b[0m\u001b[0;34m\u001b[0m\u001b[0m\n",
      "\u001b[0;31mNameError\u001b[0m: name 'fua' is not defined"
     ]
    },
    {
     "data": {
      "image/png": "[encoded data removed]",
      "text/plain": [
       "<Figure size 432x288 with 1 Axes>"
      ]
     },
     "metadata": {},
     "output_type": "display_data"
    }
   ],
   "source": [
    "\"\"\"define the primary solution\"\"\"\n",
    "fu=lambda t,a,b: a*np.exp(b*t)\n",
    "\"\"\"define the adjoint solution\"\"\"\n",
    "fua=lambda t,a,b:1/b*(1-np.exp(b*(te-t)))\n",
    "\"\"\"plot the solutions\"\"\"\n",
    "plt.figure()\n",
    "plt.plot(T,fu(T,2,3),label=r'$u(t;a=2,b=3)$')\n",
    "plt.plot(T,fua(T,2,3),label=r'$u^*(t;a=2,b=3)$')\n",
    "plt.plot(T,fu(T,4,5),label=r'$u(t;a=4,b=5)$')\n",
    "plt.plot(T,fua(T,4,5),label=r'$u^*(t;a=4,b=5)$')\n",
    "plt.xlabel(r'$t$')\n",
    "plt.ylabel(r'$u$')\n",
    "plt.legend()"
   ]
  },
  {
   "cell_type": "markdown",
   "metadata": {},
   "source": [
    "We also need to eliminate costly terms related to all the derivatives of primary variable w.r.t paramters and time by choosing appropriate Lagrange multipliers, we let\n",
    "$$1-bu^*-\\dot{u^*}=0\\quad\\dot{u^*}(1)=0$$\n",
    "and we integrate it backward from $t=1$\n",
    "$$u^*(t)=b^{-1}(1-e^{b(1-t)})$$"
   ]
  },
  {
   "cell_type": "code",
   "execution_count": null,
   "metadata": {},
   "outputs": [],
   "source": []
  },
  {
   "cell_type": "markdown",
   "metadata": {},
   "source": [
    "And we recall the formula of SA to get the derivative\n",
    "$$\\frac{\\partial Q}{\\partial \\theta}=\\int_0^1(x+u^*\\frac{\\partial F}{\\partial \\theta})dt+u^*\\frac{\\partial F}{\\partial \\dot{u}}|_{t=0}+\\frac{\\partial (F_0)^{-1}}{\\partial u(0)}\\frac{\\partial F_0}{\\partial \\theta}$$\n",
    "We substitue the $\\theta=[a,b]$ and $u^*$ we get\n",
    "$$\\frac{\\partial Q}{\\partial a}=\\frac{1}{b}(e^{b}-1)$$\n",
    "and\n",
    "$$\\frac{\\partial Q}{\\partial b}=\\frac{a}{b}e^{b}-\\frac{a}{b^2}(e^{b}-1)$$"
   ]
  },
  {
   "cell_type": "code",
   "execution_count": null,
   "metadata": {},
   "outputs": [],
   "source": [
    "dqoida=lambda a,b:1/b*(np.exp(b*te)-1)\n",
    "dqoidb=lambda a,b:a/b*te*np.exp(b*te)-a/b**2*(np.exp(b*te)-1)\n",
    "\n",
    "\"\"\"plot the QOI\"\"\"\n",
    "A,B=np.meshgrid(np.linspace(0.1,2,100),np.linspace(0.1,2,100))\n",
    "QOI=np.reshape(qoi(A.flatten(),B.flatten()),A.shape)\n",
    "DQOIDA=np.reshape(dqoida(A.flatten(),B.flatten()),A.shape)\n",
    "DQOIDB=np.reshape(dqoidb(A.flatten(),B.flatten()),A.shape)\n",
    "\n",
    "\n",
    "fig = plt.figure()\n",
    "ax = fig.gca(projection='3d')\n",
    "surf = ax.plot_surface(A, B, QOI, cmap=cm.coolwarm,linewidth=0, antialiased=False)\n",
    "ax.set_xlabel(r'$a$')\n",
    "ax.set_ylabel(r'$b$')\n",
    "ax.set_zlabel(r'$QOI$')\n",
    "fig.colorbar(surf)\n",
    "\n",
    "fig = plt.figure()\n",
    "ax = fig.gca(projection='3d')\n",
    "surf = ax.plot_surface(A, B, DQOIDA, cmap=cm.coolwarm,linewidth=0, antialiased=False)\n",
    "ax.set_xlabel(r'$a$')\n",
    "ax.set_ylabel(r'$b$')\n",
    "ax.set_zlabel(r'$\\frac{\\partial QOI}{\\partial a}$')\n",
    "fig.colorbar(surf)\n",
    "\n",
    "fig = plt.figure()\n",
    "ax = fig.gca(projection='3d')\n",
    "surf = ax.plot_surface(A, B, DQOIDB, cmap=cm.coolwarm,linewidth=0, antialiased=False)\n",
    "ax.set_xlabel(r'$a$')\n",
    "ax.set_ylabel(r'$b$')\n",
    "ax.set_zlabel(r'$\\frac{\\partial QOI}{\\partial b}$')\n",
    "fig.colorbar(surf)"
   ]
  },
  {
   "cell_type": "code",
   "execution_count": null,
   "metadata": {},
   "outputs": [],
   "source": []
  }
 ],
 "metadata": {
  "kernelspec": {
   "display_name": "Python 3",
   "language": "python",
   "name": "python3"
  },
  "language_info": {
   "codemirror_mode": {
    "name": "ipython",
    "version": 3
   },
   "file_extension": ".py",
   "mimetype": "text/x-python",
   "name": "python",
   "nbconvert_exporter": "python",
   "pygments_lexer": "ipython3",
   "version": "3.6.8"
  }
 },
 "nbformat": 4,
 "nbformat_minor": 2
}
