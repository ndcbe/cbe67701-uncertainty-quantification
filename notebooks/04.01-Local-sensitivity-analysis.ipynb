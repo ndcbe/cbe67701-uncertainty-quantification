{
 "cells": [
  {
   "cell_type": "markdown",
   "metadata": {},
   "source": [
    "# Local sensitivity analysis and difference approximation"
   ]
  },
  {
   "cell_type": "markdown",
   "metadata": {},
   "source": [
    "Created by Jialu Wang (jwang44@nd.edu)"
   ]
  },
  {
   "cell_type": "code",
   "execution_count": 1,
   "metadata": {},
   "outputs": [],
   "source": [
    "import matplotlib.pyplot as plt\n",
    "import numpy as np\n",
    "import scipy.sparse as sparse\n",
    "import scipy.sparse.linalg as linalg\n",
    "import scipy.integrate as integrate\n",
    "import math"
   ]
  },
  {
   "cell_type": "markdown",
   "metadata": {},
   "source": [
    "This example was adapted from code from:\n",
    "\n",
    "\n",
    "McClarren, Ryan G (2018). *Uncertainty Quantification and Predictive Computational Science: A Foundation for Physical Scientists and Engineers*, *Chapter 4: Local Sensitivity Analysis Based on Derivative Approximations*, Springer, https://doi.org/10.1007/978-3-319-99525-0_4"
   ]
  },
  {
   "cell_type": "markdown",
   "metadata": {},
   "source": [
    "## Simple advection-diffusion-reaction (ADR) example \n",
    "\n",
    "The steady advection-diffusion-reaction(ADR) equation in one-spatial dimension with a spatially constant, but uncertain, diffusion coefficient, a linear reaction term, and a prescribed uncertain source.\n",
    "\n",
    "$$\n",
    "\\nu \\frac{du}{dx} - \\omega \\frac{d^2u}{dx^2} + \\kappa(x)u = S(x)\n",
    "$$\n",
    "\n",
    "The QoI is total reaction rate: \n",
    "$$\n",
    "Q= \\int^{10}_{0} \\kappa(x_ u)u(x)dx\n",
    "$$"
   ]
  },
  {
   "cell_type": "code",
   "execution_count": 2,
   "metadata": {},
   "outputs": [],
   "source": [
    "def ADRSource(Lx, Nx, Source, omega, v, kappa):\n",
    "    '''\n",
    "    Solve the ADR example with algorithm 4.1 from the textbook\n",
    "    \n",
    "    Arguments:\n",
    "        Lx: the scale of x is [0, Lx]\n",
    "        Nx: the number of points in x scale\n",
    "        Source: S(x)\n",
    "        omega: the diffusion coefficient\n",
    "        v: the convection term constant\n",
    "        kappa: the linear reaction term coefficient\n",
    "        \n",
    "    Return:\n",
    "        Solution: u \n",
    "        Q: QoI, the total reaction rate \n",
    "    '''\n",
    "    #Solves the diffusion equation\n",
    "    A = sparse.dia_matrix((Nx,Nx),dtype=\"complex\")\n",
    "    dx = Lx/Nx\n",
    "    i2dx2 = 1.0/(dx*dx)\n",
    "    \n",
    "    #fill diagonal of A\n",
    "    A.setdiag(2*i2dx2*omega + np.sign(v)*v/dx + kappa)\n",
    "    \n",
    "    #fill off diagonals of A\n",
    "    A.setdiag(-i2dx2*omega[1:Nx] + \n",
    "              0.5*(1-np.sign(v[1:Nx]))*v[1:Nx]/dx,1)\n",
    "    \n",
    "    A.setdiag(-i2dx2*omega[0:(Nx-1)] - \n",
    "              0.5*(np.sign(v[0:(Nx-1)])+1)*v[0:(Nx-1)]/dx,-1)\n",
    "    \n",
    "    #solve A x = Source\n",
    "    Solution = linalg.spsolve(A,Source)\n",
    "    Q = integrate.trapz(Solution*kappa,dx=dx)\n",
    "    return Solution, Q"
   ]
  },
  {
   "cell_type": "code",
   "execution_count": 3,
   "metadata": {},
   "outputs": [
    {
     "name": "stdout",
     "output_type": "stream",
     "text": [
      "(52.390252927707564+0j)\n"
     ]
    },
    {
     "name": "stderr",
     "output_type": "stream",
     "text": [
      "/anaconda3/lib/python3.7/site-packages/scipy/sparse/linalg/dsolve/linsolve.py:133: SparseEfficiencyWarning: spsolve requires A be CSC or CSR matrix format\n",
      "  SparseEfficiencyWarning)\n"
     ]
    }
   ],
   "source": [
    "# q: mean, variance, function\n",
    "q_nom = 1\n",
    "q_var = 7.062353e-4\n",
    "Source_func = lambda x, q:  q*x*(10-x)\n",
    "\n",
    "# kappa: mean, variance, function\n",
    "kappal_nom = 0.1\n",
    "kappal_var = 8.511570e-6\n",
    "kappah_nom = 2\n",
    "kappah_var = 0.002778142\n",
    "kappa_func = lambda x, kappal, kappah: kappah + (kappal-kappah)*(x>5)*(x<7.5)\n",
    "\n",
    "# v: mean, variance, function\n",
    "v_nom = 10\n",
    "v_var = 0.0723493\n",
    "v_func = lambda x,v: v*np.ones(x.size)\n",
    "\n",
    "# omega: mean, variance, function\n",
    "omega_nom = 20\n",
    "omega_var = 0.3195214\n",
    "omega_func = lambda x,omega: omega*np.ones(x.size)\n",
    "\n",
    "\n",
    "# define the scale of x \n",
    "Lx = 10\n",
    "Nx = 2000\n",
    "dx = Lx/Nx\n",
    "xs = np.linspace(dx/2,Lx-dx/2,Nx)\n",
    "\n",
    "# Calculating Q with the mean value of parameters\n",
    "source = Source_func(xs, 1)\n",
    "kappa = kappa_func(xs, 0.1, 2)\n",
    "vs = v_func(xs, v_nom)\n",
    "omegas = omega_func(xs, omega_nom)\n",
    "\n",
    "sol,Q = ADRSource(Lx, Nx, source, omegas, vs, kappa)\n",
    "print(Q)"
   ]
  },
  {
   "cell_type": "markdown",
   "metadata": {},
   "source": [
    "## First-order sensitivity approximation"
   ]
  },
  {
   "cell_type": "markdown",
   "metadata": {},
   "source": [
    "Forward difference derivative approximation:\n",
    "\n",
    "$\\frac{\\partial Q}{\\partial x_i} \\bigg|_{\\overline{x}} \\approx \\frac{Q(\\overline{x} + \\delta_i\\hat{e_i}) - Q(\\overline{x})}{\\delta_i}$\n",
    "\n",
    "Central difference derivative approximation:\n",
    "\n",
    "$\\frac{\\partial Q}{\\partial x_i} \\bigg|_{\\overline{x}} \\approx \\frac{Q(\\overline{x} + 0.5\\delta_i\\hat{e_i}) - Q(\\overline{x} - 0.5\\delta_i\\hat{e_i})}{\\delta_i}$\n",
    "\n",
    "The complex step formula: \n",
    "\n",
    "$\\frac{\\partial Q}{\\partial x_i} \\bigg|_{\\overline{x}} \\approx \\frac{\\mathscr{I} \\{Q(\\overline{x} + i\\delta_i \\hat{e_i})\\}}{\\delta_i} + O(\\delta_i^2)$"
   ]
  },
  {
   "cell_type": "code",
   "execution_count": 4,
   "metadata": {},
   "outputs": [
    {
     "name": "stderr",
     "output_type": "stream",
     "text": [
      "/anaconda3/lib/python3.7/site-packages/ipykernel_launcher.py:27: ComplexWarning: Casting complex values to real discards the imaginary part\n",
      "/anaconda3/lib/python3.7/site-packages/ipykernel_launcher.py:39: ComplexWarning: Casting complex values to real discards the imaginary part\n"
     ]
    },
    {
     "data": {
      "image/png": "[encoded data removed]",
      "text/plain": [
       "<Figure size 432x288 with 1 Axes>"
      ]
     },
     "metadata": {
      "needs_background": "light"
     },
     "output_type": "display_data"
    },
    {
     "data": {
      "image/png": "[encoded data removed]",
      "text/plain": [
       "<Figure size 432x288 with 1 Axes>"
      ]
     },
     "metadata": {
      "needs_background": "light"
     },
     "output_type": "display_data"
    }
   ],
   "source": [
    "deltas = 10.**np.array([1.5,1,0.5,0,-0.5,-1,-2,-3,-4,-5,-6,-7,-8,-9,-10])\n",
    "\n",
    "# store forward difference results\n",
    "sens_FD = np.zeros(deltas.size)\n",
    "\n",
    "# store central difference results\n",
    "sens_CD = np.zeros(deltas.size)\n",
    "\n",
    "# store complex step approximation results\n",
    "sens_CS = np.zeros(deltas.size)\n",
    "\n",
    "# Q calculated from the mean value of parameters\n",
    "Q_nom = Q\n",
    "\n",
    "# kappa value in the x scale \n",
    "mean_kappa = kappa_func(xs, kappal_nom, kappah_nom)\n",
    "\n",
    "# Calculate the sensitivity at each delta\n",
    "for count, delta in enumerate(deltas):\n",
    "    i = 1250\n",
    "    \n",
    "    # Get sensitivity from forward difference \n",
    "    pert = np.ones(Nx)\n",
    "    pert[i] += (delta)\n",
    "    sol, Qnew = ADRSource(Lx, Nx, Source_func(xs, q_nom), omega_func(xs, omega_nom), v_func(xs, v_nom),\n",
    "                              mean_kappa*pert)\n",
    "    sens_FD[count] = (Qnew - Q_nom)/(delta*mean_kappa[i])\n",
    "    \n",
    "    # Get sensitivity from central difference\n",
    "    pert = np.ones(Nx)\n",
    "    pert[i] += (delta/2)\n",
    "    sol, Qfor = ADRSource(Lx, Nx, Source_func(xs, q_nom), omega_func(xs, omega_nom), v_func(xs, v_nom),\n",
    "                              mean_kappa*pert)\n",
    "    \n",
    "    pert = np.ones(Nx)\n",
    "    pert[i] += (-delta/2)\n",
    "    sol, Qback = ADRSource(Lx, Nx, Source_func(xs, q_nom), omega_func(xs, omega_nom), v_func(xs, v_nom),\n",
    "                              mean_kappa*pert)\n",
    "    sens_CD[count] = (Qfor - Qback)/(delta*mean_kappa[i])\n",
    "    \n",
    "    # Get sensitivity from the complex step approximation\n",
    "    pert = np.ones(Nx,dtype=\"complex\")\n",
    "    pert[i] += (delta*1j)\n",
    "    sol, Qnew = ADRSource(Lx, Nx, Source_func(xs, q_nom), omega_func(xs, omega_nom), v_func(xs, v_nom),\n",
    "                          mean_kappa*pert)\n",
    "    sens_CS[count] = np.imag(Qnew)/(delta*mean_kappa[i])\n",
    "\n",
    "\n",
    "# Calculate the sensitivity with complex step, delta=1E-12 as the exact sensitivity\n",
    "delta_c = 1e-12\n",
    "pert = np.ones(Nx,dtype=\"complex\")\n",
    "pert[i] += (delta_c*1j)\n",
    "sol, Qnew = ADRSource(Lx, Nx, Source_func(xs, q_nom), omega_func(xs, omega_nom), v_func(xs, v_nom),\n",
    "                      mean_kappa*pert)\n",
    "exact = np.imag(Qnew)/(delta_c*mean_kappa[i])\n",
    "\n",
    "# Sensitivity plot \n",
    "plt.semilogx(deltas*mean_kappa[i], sens_FD,'o-', label='Forward difference')\n",
    "plt.plot(deltas*mean_kappa[i], sens_CD,'^-', label='Center difference')\n",
    "plt.plot(deltas*mean_kappa[i], sens_CS,'*-', label='Complex step')\n",
    "plt.ylabel('Sensitivity')\n",
    "plt.xlabel('$\\kappa$')\n",
    "plt.title('Sensitivity of Q to $\\kappa$')\n",
    "plt.legend()\n",
    "plt.show()\n",
    "\n",
    "# Absolute error plot\n",
    "plt.loglog(deltas*mean_kappa[i], np.abs(exact-sens_FD),'o-', label='Forward difference')\n",
    "plt.loglog(deltas*mean_kappa[i], np.abs(exact-sens_CD),'^-', label='Center difference')\n",
    "plt.loglog(deltas*mean_kappa[i], np.abs(exact-sens_CS),\"*-\", label='Complex step')\n",
    "plt.ylabel('Abs. error of sensitivity')\n",
    "plt.xlabel('$\\kappa$')\n",
    "plt.title('Abs. error of sensitivity of Q to $\\kappa$')\n",
    "plt.legend()\n",
    "plt.show()"
   ]
  },
  {
   "cell_type": "markdown",
   "metadata": {},
   "source": [
    "## Second-Derivative approximations"
   ]
  },
  {
   "cell_type": "markdown",
   "metadata": {},
   "source": [
    "The second derivative: \n",
    "\n",
    "$\\frac{\\partial^2 Q}{\\partial x_i^2} \\bigg|_{\\overline{x}} \\approx \\frac{Q(\\overline{x} + \\delta_i\\hat{e_i}) - 2Q(\\overline{x}) + Q(\\overline{x} - \\delta_i\\hat{e_i})}{\\delta_i^2}$\n"
   ]
  },
  {
   "cell_type": "code",
   "execution_count": 5,
   "metadata": {},
   "outputs": [
    {
     "name": "stdout",
     "output_type": "stream",
     "text": [
      "The second derivative for the five parameters are [ 3.55503929e+00  9.36436493e+00  7.08268999e-02 -2.06039637e+01\n",
      " -7.10542736e-06]\n"
     ]
    },
    {
     "name": "stderr",
     "output_type": "stream",
     "text": [
      "/anaconda3/lib/python3.7/site-packages/ipykernel_launcher.py:47: ComplexWarning: Casting complex values to real discards the imaginary part\n"
     ]
    }
   ],
   "source": [
    "# Get Q value with average value of parameters\n",
    "xs = np.linspace(dx/2,Lx-dx/2,Nx)\n",
    "source = Source_func(xs, 1)\n",
    "kappa = kappa_func(xs, 0.1, 2)\n",
    "\n",
    "omega_nom = 20\n",
    "omega_var = 0.3195214\n",
    "v_nom = 10\n",
    "v_var = 0.0723493\n",
    "kappal_nom = 0.1\n",
    "kappal_var = 8.511570e-6\n",
    "kappah_nom = 2\n",
    "kappah_var = 0.002778142\n",
    "q_nom = 1\n",
    "q_var = 7.062353e-4\n",
    "vs = v_func(xs, v_nom)\n",
    "\n",
    "# Q(x) needs to be evaluated only once \n",
    "sol,q_center = ADRSource(Lx, Nx, Source_func(xs, q_nom), omega_func(xs, omega_nom), \n",
    "                                 vs,                       \n",
    "                                 kappa_func(xs, kappal_nom, kappah_nom))  \n",
    "\n",
    "# define perturbation\n",
    "delta = 1e-4\n",
    "\n",
    "sens_q2 = np.zeros(5)\n",
    "\n",
    "# loop over each parameter \n",
    "for i in range(5):\n",
    "    deltas = np.zeros(5)\n",
    "    # only one parameter is perturbed\n",
    "    deltas[i] = 1.0*delta\n",
    "        \n",
    "    # get the forward term \n",
    "    sol,forward_pert = ADRSource(Lx, Nx, Source_func(xs, q_nom*(1+deltas[4])), omega_func(xs, omega_nom*(1+deltas[1])), \n",
    "                                 vs*(1+deltas[0]),                       \n",
    "                                 kappa_func(xs, kappal_nom*(1+deltas[2]), kappah_nom*(1+deltas[3])))  \n",
    "    \n",
    "    # get the backward term\n",
    "    sol,backward_pert = ADRSource(Lx, Nx, Source_func(xs, q_nom*(1-deltas[4])), omega_func(xs, omega_nom*(1-deltas[1])), \n",
    "                                 vs*(1-deltas[0]),                       \n",
    "                                 kappa_func(xs, kappal_nom*(1-deltas[2]), kappah_nom*(1-deltas[3])))\n",
    "    \n",
    "    noms = np.array((v_nom,omega_nom,kappal_nom, kappah_nom, q_nom))\n",
    "    \n",
    "    # the second derivative for the perturbed parameter \n",
    "    sens_q2[i] = (forward_pert - 2*q_center + backward_pert)/(np.sum(noms*deltas))**2\n",
    "    \n",
    "print('The second derivative for the five parameters are', sens_q2*noms*noms)"
   ]
  }
 ],
 "metadata": {
  "kernelspec": {
   "display_name": "Python 3",
   "language": "python",
   "name": "python3"
  },
  "language_info": {
   "codemirror_mode": {
    "name": "ipython",
    "version": 3
   },
   "file_extension": ".py",
   "mimetype": "text/x-python",
   "name": "python",
   "nbconvert_exporter": "python",
   "pygments_lexer": "ipython3",
   "version": "3.7.3"
  }
 },
 "nbformat": 4,
 "nbformat_minor": 2
}
