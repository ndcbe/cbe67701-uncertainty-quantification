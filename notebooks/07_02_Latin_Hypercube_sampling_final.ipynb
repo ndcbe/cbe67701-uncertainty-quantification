{
  "nbformat": 4,
  "nbformat_minor": 0,
  "metadata": {
    "colab": {
      "name": "07_02_Latin_Hypercube_sampling_final.ipynb",
      "provenance": [],
      "collapsed_sections": []
    },
    "kernelspec": {
      "display_name": "Python 3",
      "language": "python",
      "name": "python3"
    },
    "language_info": {
      "codemirror_mode": {
        "name": "ipython",
        "version": 3
      },
      "file_extension": ".py",
      "mimetype": "text/x-python",
      "name": "python",
      "nbconvert_exporter": "python",
      "pygments_lexer": "ipython3",
      "version": "3.7.3"
    }
  },
  "cells": [
    {
      "cell_type": "markdown",
      "metadata": {
        "id": "1q0_bE0-bjH0",
        "colab_type": "text"
      },
      "source": [
        "<!--NOTEBOOK_HEADER-->\n",
        "*This notebook contains material from [cbe67701-uncertainty-quantification](https://ndcbe.github.io/cbe67701-uncertainty-quantification);\n",
        "content is available [on Github](https://github.com/ndcbe/cbe67701-uncertainty-quantification.git).*"
      ]
    },
    {
      "cell_type": "markdown",
      "metadata": {
        "id": "Fo0qoVPXbjH1",
        "colab_type": "text"
      },
      "source": [
        "<!--NAVIGATION-->\n",
        "< [7.1 Latin Hypercube and Quasi-Monte Carlo Sampling](https://ndcbe.github.io/cbe67701-uncertainty-quantification/07.01-Sampling-Based-Uncertainty-Quantification.html) | [Contents](toc.html) | [7.3 Meaningful Title Goes Here](https://ndcbe.github.io/cbe67701-uncertainty-quantification/07.03-Contributed-Example.html)<p><a href=\"https://colab.research.google.com/github/ndcbe/cbe67701-uncertainty-quantification/blob/master/docs/07.02-Latin-Hypercube-sampling.ipynb\"> <img align=\"left\" src=\"https://colab.research.google.com/assets/colab-badge.svg\" alt=\"Open in Colab\" title=\"Open in Google Colaboratory\"></a><p><a href=\"https://ndcbe.github.io/cbe67701-uncertainty-quantification/07.02-Latin-Hypercube-sampling.ipynb\"> <img align=\"left\" src=\"https://img.shields.io/badge/Github-Download-blue.svg\" alt=\"Download\" title=\"Download Notebook\"></a>"
      ]
    },
    {
      "cell_type": "markdown",
      "metadata": {
        "colab_type": "text",
        "id": "DnCs7XId4TeP",
        "nbpages": {
          "level": 1,
          "link": "[7.2 Latin Hypercube Sampling](https://ndcbe.github.io/cbe67701-uncertainty-quantification/07.02-Latin-Hypercube-sampling.html#7.2-Latin-Hypercube-Sampling)",
          "section": "7.2 Latin Hypercube Sampling"
        }
      },
      "source": [
        "# 7.2 Latin Hypercube Sampling\n"
      ]
    },
    {
      "cell_type": "markdown",
      "metadata": {
        "colab_type": "text",
        "id": "5ZETasp64TeQ",
        "nbpages": {
          "level": 1,
          "link": "[7.2 Latin Hypercube Sampling](https://ndcbe.github.io/cbe67701-uncertainty-quantification/07.02-Latin-Hypercube-sampling.html#7.2-Latin-Hypercube-Sampling)",
          "section": "7.2 Latin Hypercube Sampling"
        }
      },
      "source": [
        "Created by V.Vijay Kumar Naidu (vvelagal@nd.edu)"
      ]
    },
    {
      "cell_type": "markdown",
      "metadata": {
        "nbpages": {
          "level": 1,
          "link": "[7.2 Latin Hypercube Sampling](https://ndcbe.github.io/cbe67701-uncertainty-quantification/07.02-Latin-Hypercube-sampling.html#7.2-Latin-Hypercube-Sampling)",
          "section": "7.2 Latin Hypercube Sampling"
        },
        "id": "JDFTXdOCbjH3",
        "colab_type": "text"
      },
      "source": [
        "The text, examples, and codes in this notebook were adapted from the following references:\n",
        "* https://en.wikipedia.org/wiki/Latin_hypercube_sampling\n",
        "*https://www.youtube.com/watch?v=r6rp-Qxc9xI\n",
        "*https://pythonhosted.org/pyDOE/randomized.html)\n",
        "\n",
        "* McClarren, Ryan G (2018). *Uncertainty Quantification and Predictive Computational Science: A Foundation for Physical Scientists and Engineers, Chapter 7 : Sampling-Based Uncertainty Quantification Monte Carlo and Beyond*, Springer, https://link.springer.com/chapter/10.1007%2F978-3-319-99525-0_7"
      ]
    },
    {
      "cell_type": "code",
      "metadata": {
        "colab_type": "code",
        "id": "kQhVsePNSvu8",
        "nbpages": {
          "level": 1,
          "link": "[7.2 Latin Hypercube Sampling](https://ndcbe.github.io/cbe67701-uncertainty-quantification/07.02-Latin-Hypercube-sampling.html#7.2-Latin-Hypercube-Sampling)",
          "section": "7.2 Latin Hypercube Sampling"
        },
        "colab": {}
      },
      "source": [
        "# Install Python libraries\n",
        "!pip install -q sobol_seq\n",
        "!pip install -q ghalton\n",
        "!pip install -q pyDOE"
      ],
      "execution_count": null,
      "outputs": []
    },
    {
      "cell_type": "code",
      "metadata": {
        "colab_type": "code",
        "id": "KffZ1fJ_4TeQ",
        "nbpages": {
          "level": 1,
          "link": "[7.2 Latin Hypercube Sampling](https://ndcbe.github.io/cbe67701-uncertainty-quantification/07.02-Latin-Hypercube-sampling.html#7.2-Latin-Hypercube-Sampling)",
          "section": "7.2 Latin Hypercube Sampling"
        },
        "colab": {}
      },
      "source": [
        "# Import\n",
        "import matplotlib.pyplot as plt\n",
        "import numpy as np\n",
        "import scipy.sparse as sparse\n",
        "import scipy.sparse.linalg as linalg\n",
        "import scipy.integrate as integrate\n",
        "import math\n",
        "from scipy.stats.distributions import norm\n",
        "from scipy.stats import gamma\n",
        "import sobol_seq\n",
        "import ghalton\n",
        "from scipy import stats\n",
        "from pyDOE import *\n",
        "%matplotlib inline"
      ],
      "execution_count": null,
      "outputs": []
    },
    {
      "cell_type": "code",
      "metadata": {
        "nbpages": {
          "level": 1,
          "link": "[7.2 Latin Hypercube Sampling](https://ndcbe.github.io/cbe67701-uncertainty-quantification/07.02-Latin-Hypercube-sampling.html#7.2-Latin-Hypercube-Sampling)",
          "section": "7.2 Latin Hypercube Sampling"
        },
        "id": "fdNTQFKjbjH8",
        "colab_type": "code",
        "colab": {},
        "outputId": "103d5035-b44c-48bc-c3b9-5a42da954743"
      },
      "source": [
        "# Download figures (if needed)\n",
        "import os, requests, urllib\n",
        "\n",
        "# GitHub pages url\n",
        "url = \"https://ndcbe.github.io/cbe67701-uncertainty-quantification/\"\n",
        "\n",
        "# relative file paths to download\n",
        "# this is the only line of code you need to change\n",
        "file_paths = ['figures/lhs_custom_distribution.png', 'figures/chapter7-screenshot.PNG']\n",
        "\n",
        "# loop over all files to download\n",
        "for file_path in file_paths:\n",
        "    print(\"Checking for\",file_path)\n",
        "    # split each file_path into a folder and filename\n",
        "    stem, filename = os.path.split(file_path)\n",
        "    \n",
        "    # check if the folder name is not empty\n",
        "    if stem:\n",
        "        # check if the folder exists\n",
        "        if not os.path.exists(stem):\n",
        "            print(\"\\tCreating folder\",stem)\n",
        "            # if the folder does not exist, create it\n",
        "            os.mkdir(stem)\n",
        "    # if the file does not exist, create it by downloading from GitHub pages\n",
        "    if not os.path.isfile(file_path):\n",
        "        file_url = urllib.parse.urljoin(url,\n",
        "                urllib.request.pathname2url(file_path))\n",
        "        print(\"\\tDownloading\",file_url)\n",
        "        with open(file_path, 'wb') as f:\n",
        "            f.write(requests.get(file_url).content)\n",
        "    else:\n",
        "        print(\"\\tFile found!\")"
      ],
      "execution_count": null,
      "outputs": [
        {
          "output_type": "stream",
          "text": [
            "Checking for figures/lhs_custom_distribution.png\n",
            "\tFile found!\n",
            "Checking for figures/chapter7-screenshot.PNG\n",
            "\tFile found!\n"
          ],
          "name": "stdout"
        }
      ]
    },
    {
      "cell_type": "markdown",
      "metadata": {
        "nbpages": {
          "level": 2,
          "link": "[7.2.1 Latin Hypercube Basics](https://ndcbe.github.io/cbe67701-uncertainty-quantification/07.02-Latin-Hypercube-sampling.html#7.2.1-Latin-Hypercube-Basics)",
          "section": "7.2.1 Latin Hypercube Basics"
        },
        "id": "qERAb16vbjIA",
        "colab_type": "text"
      },
      "source": [
        "## 7.2.1 Latin Hypercube Basics\n",
        "\n",
        "Latin hypercube sampling (LHS) is a statistical method for generating a near random  samples with equal intervals.\n",
        "\n",
        "To generalize the Latin square to a hypercube, we define a X = (X1, . . . , Xp) as a collection of p independent random variables. To generate N samples, we divide the domain of each Xj in N intervals. In total there are Np such intervals. The intervals are defined by the N + 1 edges:\n"
      ]
    },
    {
      "cell_type": "markdown",
      "metadata": {
        "colab_type": "text",
        "id": "7KFZKceKHWVX",
        "nbpages": {
          "level": 3,
          "link": "[7.2.1.1 Latin Hypercube in 2D](https://ndcbe.github.io/cbe67701-uncertainty-quantification/07.02-Latin-Hypercube-sampling.html#7.2.1.1-Latin-Hypercube-in-2D)",
          "section": "7.2.1.1 Latin Hypercube in 2D"
        }
      },
      "source": [
        "### 7.2.1.1 Latin Hypercube in 2D\n",
        "\n",
        "Makes a Latin Hyper Cube sample and returns a matrix X of size n by 2. For each column of X, the  values of the column are randomly distributed such that each sample is located in  equally spaced intervals (0,1/n), (1/n,2/n), ..., (1-1/n,1) and their locations  are randomly permuted. The code is adapted from : https://www.youtube.com/watch?v=r6rp-Qxc9xI"
      ]
    },
    {
      "cell_type": "code",
      "metadata": {
        "colab_type": "code",
        "id": "30R2uAAp6aiR",
        "nbpages": {
          "level": 3,
          "link": "[7.2.1.1 Latin Hypercube in 2D](https://ndcbe.github.io/cbe67701-uncertainty-quantification/07.02-Latin-Hypercube-sampling.html#7.2.1.1-Latin-Hypercube-in-2D)",
          "section": "7.2.1.1 Latin Hypercube in 2D"
        },
        "colab": {}
      },
      "source": [
        "def latin_hypercube_2d_uniform(n):\n",
        "    lower_limits=np.arange(0,n)/n\n",
        "    upper_limits=np.arange(1,n+1)/n\n",
        "\n",
        "    points=np.random.uniform(low=lower_limits,high=upper_limits,size=[2,n]).T\n",
        "    np.random.shuffle(points[:,1])\n",
        "    return points"
      ],
      "execution_count": null,
      "outputs": []
    },
    {
      "cell_type": "code",
      "metadata": {
        "colab_type": "code",
        "id": "lD6llSHp8nUH",
        "nbpages": {
          "level": 3,
          "link": "[7.2.1.1 Latin Hypercube in 2D](https://ndcbe.github.io/cbe67701-uncertainty-quantification/07.02-Latin-Hypercube-sampling.html#7.2.1.1-Latin-Hypercube-in-2D)",
          "section": "7.2.1.1 Latin Hypercube in 2D"
        },
        "colab": {
          "base_uri": "https://localhost:8080/",
          "height": 341
        },
        "outputId": "a245fe0e-5436-4fb4-f237-8651f745b45d"
      },
      "source": [
        "n=20\n",
        "p=latin_hypercube_2d_uniform(n)\n",
        "plt.figure(figsize=[5,5])\n",
        "plt.xlim([0,1])\n",
        "plt.ylim([0,1])\n",
        "plt.scatter(p[:,0],p[:,1],c='r')\n",
        "\n",
        "for i in np.arange(0,1,1/n):\n",
        "    plt.axvline(i)\n",
        "    plt.axhline(i)\n",
        "plt.show"
      ],
      "execution_count": null,
      "outputs": [
        {
          "output_type": "execute_result",
          "data": {
            "text/plain": [
              "<function matplotlib.pyplot.show(*args, **kw)>"
            ]
          },
          "metadata": {
            "tags": []
          },
          "execution_count": 5
        },
        {
          "output_type": "display_data",
          "data": {
            "image/png": "[encoded data removed]",
            "text/plain": [
              "<Figure size 360x360 with 1 Axes>"
            ]
          },
          "metadata": {
            "tags": [],
            "needs_background": "light"
          }
        }
      ]
    },
    {
      "cell_type": "markdown",
      "metadata": {
        "colab_type": "text",
        "id": "T3aFz5UHLhFf",
        "nbpages": {
          "level": 3,
          "link": "[7.2.1.2 Latin-hypercube designs can be created using the following simple syntax**](https://ndcbe.github.io/cbe67701-uncertainty-quantification/07.02-Latin-Hypercube-sampling.html#7.2.1.2-Latin-hypercube-designs-can-be-created-using-the-following-simple-syntax**)",
          "section": "7.2.1.2 Latin-hypercube designs can be created using the following simple syntax**"
        }
      },
      "source": [
        "### 7.2.1.2 Latin-hypercube designs can be created using the following simple syntax** \n",
        "\n",
        "(Adapted from:https://pythonhosted.org/pyDOE/randomized.html)\n"
      ]
    },
    {
      "cell_type": "code",
      "metadata": {
        "colab_type": "code",
        "id": "dCyvuRToLf7y",
        "nbpages": {
          "level": 3,
          "link": "[7.2.1.2 Latin-hypercube designs can be created using the following simple syntax**](https://ndcbe.github.io/cbe67701-uncertainty-quantification/07.02-Latin-Hypercube-sampling.html#7.2.1.2-Latin-hypercube-designs-can-be-created-using-the-following-simple-syntax**)",
          "section": "7.2.1.2 Latin-hypercube designs can be created using the following simple syntax**"
        },
        "colab": {}
      },
      "source": [
        "```\n",
        "lhs(n, [samples, criterion, iterations])\n",
        "```"
      ],
      "execution_count": null,
      "outputs": []
    },
    {
      "cell_type": "markdown",
      "metadata": {
        "colab_type": "text",
        "id": "lvGXdBpOL8i5",
        "nbpages": {
          "level": 3,
          "link": "[7.2.1.2 Latin-hypercube designs can be created using the following simple syntax**](https://ndcbe.github.io/cbe67701-uncertainty-quantification/07.02-Latin-Hypercube-sampling.html#7.2.1.2-Latin-hypercube-designs-can-be-created-using-the-following-simple-syntax**)",
          "section": "7.2.1.2 Latin-hypercube designs can be created using the following simple syntax**"
        }
      },
      "source": [
        "**n**: an integer that tells us about the number of variables in a sample.\n",
        "\n",
        "**samples**: an integer that tells us about the number of samples to be generated\n",
        "criterion: a function that tells us how to generate the samples \n",
        "\n",
        "**“center” or “c”**: asks the lhs to generate  points such that they are  centered in the sampling interval\n",
        "\n",
        "“maximin” or “m”: it asks the lhs to maximize the minimum distance between points and place the points in  randomized location in the interval\n",
        "\n",
        "**“centermaximin” or “cm”**: it is same as maximin but the points are centered in the interval.\n",
        "\n",
        "**“correlation” or “corr”**: minimize the maximum correlation coefficient\n",
        "\n",
        "The output design will scale the variables from 0 to 1 which can be tranformed to distribution as per the user wish."
      ]
    },
    {
      "cell_type": "code",
      "metadata": {
        "colab_type": "code",
        "id": "W9KwhC8JL7wJ",
        "nbpages": {
          "level": 3,
          "link": "[7.2.1.2 Latin-hypercube designs can be created using the following simple syntax**](https://ndcbe.github.io/cbe67701-uncertainty-quantification/07.02-Latin-Hypercube-sampling.html#7.2.1.2-Latin-hypercube-designs-can-be-created-using-the-following-simple-syntax**)",
          "section": "7.2.1.2 Latin-hypercube designs can be created using the following simple syntax**"
        },
        "colab": {}
      },
      "source": [
        "from scipy.stats.distributions import norm\n",
        "from pyDOE import *\n",
        "lhd = lhs(2, samples=5)\n",
        "lhd = norm(loc=0, scale=1).ppf(lhd)  # this applies to both factors here"
      ],
      "execution_count": null,
      "outputs": []
    },
    {
      "cell_type": "markdown",
      "metadata": {
        "colab_type": "text",
        "id": "QXvC3_JiM5_p",
        "nbpages": {
          "level": 3,
          "link": "[7.2.1.2 Latin-hypercube designs can be created using the following simple syntax**](https://ndcbe.github.io/cbe67701-uncertainty-quantification/07.02-Latin-Hypercube-sampling.html#7.2.1.2-Latin-hypercube-designs-can-be-created-using-the-following-simple-syntax**)",
          "section": "7.2.1.2 Latin-hypercube designs can be created using the following simple syntax**"
        }
      },
      "source": [
        "Graphically, in each transformation the blue coloured points generated from lhs maps to the green sampled points that are normally distributed to generate values for each sample: (Adapted from https://pythonhosted.org/pyDOE/randomized.html)\n"
      ]
    },
    {
      "cell_type": "markdown",
      "metadata": {
        "colab_type": "text",
        "id": "zrHRqUeibyNo",
        "nbpages": {
          "level": 3,
          "link": "[7.2.1.2 Latin-hypercube designs can be created using the following simple syntax**](https://ndcbe.github.io/cbe67701-uncertainty-quantification/07.02-Latin-Hypercube-sampling.html#7.2.1.2-Latin-hypercube-designs-can-be-created-using-the-following-simple-syntax**)",
          "section": "7.2.1.2 Latin-hypercube designs can be created using the following simple syntax**"
        }
      },
      "source": [
        "An example for Latin-Hyper cube sampling"
      ]
    },
    {
      "cell_type": "code",
      "metadata": {
        "colab_type": "code",
        "id": "-Mb4AHDdRx_K",
        "nbpages": {
          "level": 3,
          "link": "[7.2.1.2 Latin-hypercube designs can be created using the following simple syntax**](https://ndcbe.github.io/cbe67701-uncertainty-quantification/07.02-Latin-Hypercube-sampling.html#7.2.1.2-Latin-hypercube-designs-can-be-created-using-the-following-simple-syntax**)",
          "section": "7.2.1.2 Latin-hypercube designs can be created using the following simple syntax**"
        },
        "colab": {
          "base_uri": "https://localhost:8080/",
          "height": 187
        },
        "outputId": "7818b20e-d45c-46c6-e581-71073ef9deeb"
      },
      "source": [
        "design = lhs(4, samples=10)\n",
        "from scipy.stats.distributions import norm\n",
        "means = [1, 2, 3, 4]\n",
        "stdvs = [0.1, 0.5, 1, 0.25]\n",
        "for i in range(4):\n",
        "    design[:, i] = norm(loc=means[i], scale=stdvs[i]).ppf(design[:, i])\n",
        "\n",
        "design"
      ],
      "execution_count": null,
      "outputs": [
        {
          "output_type": "execute_result",
          "data": {
            "text/plain": [
              "array([[1.01038798, 2.96384621, 1.66664945, 4.08995188],\n",
              "       [0.98039537, 2.24799145, 3.68230066, 3.82708594],\n",
              "       [1.28011085, 2.28301199, 2.44501943, 4.6418306 ],\n",
              "       [0.91410412, 1.88397665, 2.71926383, 4.02262911],\n",
              "       [0.91979907, 1.73539308, 2.95722586, 4.15159108],\n",
              "       [0.96185965, 1.40469736, 3.04478481, 3.69932867],\n",
              "       [0.87127105, 1.74656817, 3.36550728, 3.65675587],\n",
              "       [1.04347425, 1.08778999, 2.13703733, 3.94872467],\n",
              "       [1.1143877 , 2.58203348, 4.47359066, 3.8801158 ],\n",
              "       [1.0641072 , 2.12054246, 4.13988503, 4.28057491]])"
            ]
          },
          "metadata": {
            "tags": []
          },
          "execution_count": 7
        }
      ]
    },
    {
      "cell_type": "markdown",
      "metadata": {
        "nbpages": {
          "level": 2,
          "link": "[7.2.2 Advection-Diffusion-Reaction (ADR) Example](https://ndcbe.github.io/cbe67701-uncertainty-quantification/07.02-Latin-Hypercube-sampling.html#7.2.2-Advection-Diffusion-Reaction-(ADR)-Example)",
          "section": "7.2.2 Advection-Diffusion-Reaction (ADR) Example"
        },
        "id": "jcdYiyt1bjIO",
        "colab_type": "text"
      },
      "source": [
        "## 7.2.2 Advection-Diffusion-Reaction (ADR) Example"
      ]
    },
    {
      "cell_type": "markdown",
      "metadata": {
        "colab_type": "text",
        "id": "YoCFcxW3bAXw",
        "nbpages": {
          "level": 3,
          "link": "[7.2.2.1 Set up diffusion reaction equation](https://ndcbe.github.io/cbe67701-uncertainty-quantification/07.02-Latin-Hypercube-sampling.html#7.2.2.1-Set-up-diffusion-reaction-equation)",
          "section": "7.2.2.1 Set up diffusion reaction equation"
        }
      },
      "source": [
        "### 7.2.2.1 Set up diffusion reaction equation\n",
        "\n",
        "The steady advection-diffusion-reaction(ADR) equation in one-spatial dimension with a spatially constant, but uncertain, diffusion coefficient, a linear reaction term, and a prescribed uncertain source.\n",
        "\n",
        "$$\n",
        "\\nu \\frac{du}{dx} - \\omega \\frac{d^2u}{dx^2} + \\kappa(x)u = S(x)\n",
        "$$\n",
        "The QoI is total reaction rate:$$\n",
        "Q= \\int^{10}_{0} \\kappa(x_ u)u(x)dx\n",
        "$$\n",
        "where v and ω are spatially constant with means\n",
        "$$\n",
        "\\nu = 10, μ_{ω} = 20, \n",
        "$$\n",
        "and\n",
        "$$\n",
        "Var(v) = 0.0723493, Var(ω) = 0.3195214.\n",
        "$$\n",
        "\n",
        "The reaction coefficient, κ(x), is  given by \n",
        "$$\n",
        "κ(x) = κ_{l}  \\space   x ∈ (5, 7.5)\n",
        "$$ \n",
        "       $$  \\space    κ_{h} \\space otherwise$$ \n",
        "    \n",
        "  The value of the source is given by\n",
        "$$S(x) = qx(10 − x),$$ "
      ]
    },
    {
      "cell_type": "code",
      "metadata": {
        "colab_type": "code",
        "id": "eR3fNfymMbaE",
        "nbpages": {
          "level": 3,
          "link": "[7.2.2.1 Set up diffusion reaction equation](https://ndcbe.github.io/cbe67701-uncertainty-quantification/07.02-Latin-Hypercube-sampling.html#7.2.2.1-Set-up-diffusion-reaction-equation)",
          "section": "7.2.2.1 Set up diffusion reaction equation"
        },
        "colab": {}
      },
      "source": [
        "def ADRSource(Lx, Nx, Source, omega, v, kappa):\n",
        "    #Solves the diffusion equation with Generalized Source\n",
        "    A = sparse.dia_matrix((Nx,Nx),dtype=\"float\")\n",
        "    dx = Lx/Nx\n",
        "    i2dx2 = 1.0/(dx*dx)\n",
        "    #fill diagonal of A\n",
        "    A.setdiag(2*i2dx2*omega + np.sign(v)*v/dx + kappa)\n",
        "    #fill off diagonals of A\n",
        "    A.setdiag(-i2dx2*omega[1:Nx] + \n",
        "              0.5*(1-np.sign(v[1:Nx]))*v[1:Nx]/dx,1)\n",
        "    A.setdiag(-i2dx2*omega[0:(Nx-1)] - \n",
        "              0.5*(np.sign(v[0:(Nx-1)])+1)*v[0:(Nx-1)]/dx,-1)\n",
        "    #solve A x = Source\n",
        "    Solution = linalg.spsolve(A.tocsr(),Source)\n",
        "    Q = integrate.trapz(Solution*kappa,dx=dx)\n",
        "    return Solution, Q"
      ],
      "execution_count": null,
      "outputs": []
    },
    {
      "cell_type": "markdown",
      "metadata": {
        "colab_type": "text",
        "id": "YzNoqAe6bMTx",
        "nbpages": {
          "level": 3,
          "link": "[7.2.2.1 Set up diffusion reaction equation](https://ndcbe.github.io/cbe67701-uncertainty-quantification/07.02-Latin-Hypercube-sampling.html#7.2.2.1-Set-up-diffusion-reaction-equation)",
          "section": "7.2.2.1 Set up diffusion reaction equation"
        }
      },
      "source": [
        "Solve diffusion equation"
      ]
    },
    {
      "cell_type": "code",
      "metadata": {
        "colab_type": "code",
        "id": "ZGqMMZKvMbaG",
        "nbpages": {
          "level": 3,
          "link": "[7.2.2.1 Set up diffusion reaction equation](https://ndcbe.github.io/cbe67701-uncertainty-quantification/07.02-Latin-Hypercube-sampling.html#7.2.2.1-Set-up-diffusion-reaction-equation)",
          "section": "7.2.2.1 Set up diffusion reaction equation"
        },
        "colab": {
          "base_uri": "https://localhost:8080/",
          "height": 332
        },
        "outputId": "15a27e23-dd7b-4d74-cf85-d603bc3f69ad"
      },
      "source": [
        "Lx = 10\n",
        "Nx = 2000\n",
        "dx = Lx/Nx\n",
        "Source_func = lambda x, q:  q*x*(10-x)\n",
        "kappa_func = lambda x, kappal, kappah: kappah + (kappal-kappah)*(x>5)*(x<7.5)\n",
        "v_func = lambda x,v: v*np.ones(x.size)\n",
        "omega_func = lambda x,omega: omega*np.ones(x.size)\n",
        "\n",
        "#nominal values\n",
        "\n",
        "import csv\n",
        "\n",
        "xs = np.linspace(dx/2,Lx-dx/2,Nx)\n",
        "source = Source_func(xs, 1)\n",
        "kappa = kappa_func(xs, 0.1, 2)\n",
        "\n",
        "omega_nom = 20\n",
        "omega_var = 0.3195214\n",
        "v_nom = 10\n",
        "v_var = 0.0723493\n",
        "kappal_nom = 0.1\n",
        "kappal_var = 8.511570e-6\n",
        "kappah_nom = 2\n",
        "kappah_var = 0.002778142\n",
        "q_nom = 1\n",
        "q_var = 7.062353e-4\n",
        "vs = v_func(xs, v_nom)\n",
        "print(vs)\n",
        "sol,Q = ADRSource(Lx, Nx, source, omega_func(xs, omega_nom), vs, kappa)\n",
        "print(Q)\n",
        "plt.plot(xs,sol)\n",
        "plt.show()"
      ],
      "execution_count": null,
      "outputs": [
        {
          "output_type": "stream",
          "text": [
            "[10. 10. 10. ... 10. 10. 10.]\n",
            "52.390252927703344\n"
          ],
          "name": "stdout"
        },
        {
          "output_type": "display_data",
          "data": {
            "image/png": "[encoded data removed]",
            "text/plain": [
              "<Figure size 432x288 with 1 Axes>"
            ]
          },
          "metadata": {
            "tags": [],
            "needs_background": "light"
          }
        }
      ]
    },
    {
      "cell_type": "markdown",
      "metadata": {
        "colab_type": "text",
        "id": "8K4A3GjRMbaJ",
        "nbpages": {
          "level": 3,
          "link": "[7.2.2.1 Set up diffusion reaction equation](https://ndcbe.github.io/cbe67701-uncertainty-quantification/07.02-Latin-Hypercube-sampling.html#7.2.2.1-Set-up-diffusion-reaction-equation)",
          "section": "7.2.2.1 Set up diffusion reaction equation"
        }
      },
      "source": [
        "We are going to join gamma RVs with a normal copula. First we get the normal samples"
      ]
    },
    {
      "cell_type": "code",
      "metadata": {
        "colab_type": "code",
        "id": "5bv2qHTSMbaK",
        "nbpages": {
          "level": 3,
          "link": "[7.2.2.1 Set up diffusion reaction equation](https://ndcbe.github.io/cbe67701-uncertainty-quantification/07.02-Latin-Hypercube-sampling.html#7.2.2.1-Set-up-diffusion-reaction-equation)",
          "section": "7.2.2.1 Set up diffusion reaction equation"
        },
        "colab": {
          "base_uri": "https://localhost:8080/",
          "height": 648
        },
        "outputId": "adce1858-0e1a-46df-d404-499ef2d67e2b"
      },
      "source": [
        "means = [v_nom, omega_nom, kappal_nom, kappah_nom, q_nom]\n",
        "varmat = np.zeros((5,5))\n",
        "#fill in diagonal\n",
        "corrmat = np.ones((5,5))\n",
        "corrmat[0,:] = (1,.1,-0.05,0,0)\n",
        "corrmat[1,:] = (.1,1,-.4,.3,.5)\n",
        "corrmat[2,:] = (-0.05,-.4,1,.2,0)\n",
        "corrmat[3,:] = (0,.3,0.2,1,-.1)\n",
        "corrmat[4,:] = (0,.5,0,-.1,1)\n",
        "print(corrmat-corrmat.transpose())\n",
        "print(corrmat)\n",
        "\n",
        "\n",
        "varmat[np.diag_indices(5)] = [v_var, omega_var, kappal_var, kappah_var, q_var]\n",
        "for i in range(5):\n",
        "    for j in range(5):\n",
        "        varmat[i,j] = math.sqrt(varmat[i,i])*math.sqrt(varmat[j,j])*corrmat[i,j]\n",
        "print(varmat)\n",
        "print(varmat-varmat.transpose())\n",
        "print(np.linalg.eig(varmat))\n",
        "\n",
        "# Warning: choosing a large number here will make the notebook take a long time\n",
        "# to solve.\n",
        "# samps = 10**6\n",
        "samps = 10**4\n",
        "# samps = 10**3\n",
        "test = norm.cdf(np.random.multivariate_normal(np.zeros(5), corrmat, samps))\n",
        "\n",
        "print(np.max(test[:,0]))\n",
        "import tabulate\n",
        "#print(tabulate.tabulate(corrmat, tablefmt=\"latex\", floatfmt=\".2f\"))"
      ],
      "execution_count": null,
      "outputs": [
        {
          "output_type": "stream",
          "text": [
            "[[0. 0. 0. 0. 0.]\n",
            " [0. 0. 0. 0. 0.]\n",
            " [0. 0. 0. 0. 0.]\n",
            " [0. 0. 0. 0. 0.]\n",
            " [0. 0. 0. 0. 0.]]\n",
            "[[ 1.    0.1  -0.05  0.    0.  ]\n",
            " [ 0.1   1.   -0.4   0.3   0.5 ]\n",
            " [-0.05 -0.4   1.    0.2   0.  ]\n",
            " [ 0.    0.3   0.2   1.   -0.1 ]\n",
            " [ 0.    0.5   0.   -0.1   1.  ]]\n",
            "[[ 7.23493000e-02  1.52043249e-02 -3.92366580e-05  0.00000000e+00\n",
            "   0.00000000e+00]\n",
            " [ 1.52043249e-02  3.19521400e-01 -6.59651879e-04  8.93816670e-03\n",
            "   7.51094687e-03]\n",
            " [-3.92366580e-05 -6.59651879e-04  8.51157000e-06  3.07547395e-05\n",
            "   0.00000000e+00]\n",
            " [ 0.00000000e+00  8.93816670e-03  3.07547395e-05  2.77814200e-03\n",
            "  -1.40072194e-04]\n",
            " [ 0.00000000e+00  7.51094687e-03  0.00000000e+00 -1.40072194e-04\n",
            "   7.06235300e-04]]\n",
            "[[0. 0. 0. 0. 0.]\n",
            " [0. 0. 0. 0. 0.]\n",
            " [0. 0. 0. 0. 0.]\n",
            " [0. 0. 0. 0. 0.]\n",
            " [0. 0. 0. 0. 0.]]\n",
            "(array([3.20880078e-01, 7.14248146e-02, 2.58516363e-03, 4.68396801e-04,\n",
            "       5.13602871e-06]), array([[-6.10221850e-02, -9.98104846e-01, -5.23689494e-03,\n",
            "         5.95871096e-03,  2.80458596e-04],\n",
            "       [-9.97466874e-01,  6.06888498e-02,  2.39831973e-02,\n",
            "        -2.80393816e-02, -3.91132091e-03],\n",
            "       [ 2.05538173e-03, -8.80183607e-06, -1.78182587e-02,\n",
            "         5.09130368e-02, -9.98542011e-01],\n",
            "       [-2.80167615e-02,  7.88889090e-03, -9.85095968e-01,\n",
            "         1.67509882e-01,  2.60614743e-02],\n",
            "       [-2.33872832e-02,  6.43007420e-03,  1.69309850e-01,\n",
            "         9.84137485e-01,  4.71091795e-02]]))\n",
            "0.999986582967767\n"
          ],
          "name": "stdout"
        }
      ]
    },
    {
      "cell_type": "markdown",
      "metadata": {
        "colab_type": "text",
        "id": "pHqz2NbMbr05",
        "nbpages": {
          "level": 3,
          "link": "[7.2.2.1 Set up diffusion reaction equation](https://ndcbe.github.io/cbe67701-uncertainty-quantification/07.02-Latin-Hypercube-sampling.html#7.2.2.1-Set-up-diffusion-reaction-equation)",
          "section": "7.2.2.1 Set up diffusion reaction equation"
        }
      },
      "source": [
        "The distributions will be gammas"
      ]
    },
    {
      "cell_type": "code",
      "metadata": {
        "colab_type": "code",
        "id": "7RHUJw50bsj4",
        "nbpages": {
          "level": 3,
          "link": "[7.2.2.1 Set up diffusion reaction equation](https://ndcbe.github.io/cbe67701-uncertainty-quantification/07.02-Latin-Hypercube-sampling.html#7.2.2.1-Set-up-diffusion-reaction-equation)",
          "section": "7.2.2.1 Set up diffusion reaction equation"
        },
        "colab": {
          "base_uri": "https://localhost:8080/",
          "height": 204
        },
        "outputId": "9e2ea3e7-9c75-4f8b-8256-e293ae189de0"
      },
      "source": [
        "def gen_samps(samps,test):\n",
        "    #v will have v_nom = 10 v_var = 1 which makes alpha = 10 beta = 10 or theta = 1/10\n",
        "    vsamps = gamma.ppf(test[:,0], a = 100, scale = 1/10)\n",
        "    #print(np.mean(vsamps), np.var(vsamps), np.std(vsamps))\n",
        "    #plt.hist(vsamps)\n",
        "\n",
        "    #omega will have  omega_nom = 20, var = 4 which makes alpha = 100 beta = 5, theta = 1/5\n",
        "    omegasamps = gamma.ppf(test[:,1], a = 100, scale = 1/5)\n",
        "    #print(np.mean(omegasamps), np.var(omegasamps), np.std(omegasamps))\n",
        "    #plt.hist(omegasamps)\n",
        "\n",
        "    #kappa_l will have kappa_l = 0.1 var = (0.01)^2 this makes alpha = 100 and theta = 1/1000\n",
        "    kappalsamps = gamma.ppf(test[:,2], a = 100, scale = 1/1000)\n",
        "    #print(np.mean(kappalsamps), np.var(kappalsamps), np.std(kappalsamps))\n",
        "    #plt.hist(kappalsamps)\n",
        "\n",
        "    #kappa_h will have kappa_h = 2 var = .04 this makes alpha = 100 and theta = 1/50\n",
        "    kappahsamps = (test[:,3]>0.005)*(1.98582-4.82135) + (4.82135) # #gamma.ppf(test[:,3], a = 100, scale = 1/50)\n",
        "    print(np.mean(kappahsamps), np.var(kappahsamps), np.std(kappahsamps))\n",
        "    #plt.hist(kappahsamps)\n",
        "\n",
        "    #q will have q = 1 var = 0.01 this makes alpha = 100 and theta = 1/100\n",
        "    qsamps = gamma.ppf(test[:,4], a = 100, scale = 1/100)\n",
        "    #print(np.mean(qsamps), np.var(qsamps),np.std(qsamps))\n",
        "    #plt.hist(qsamps)\n",
        "    \n",
        "    return vsamps,omegasamps,kappalsamps,kappahsamps,qsamps\n",
        "vsamps,omegasamps,kappalsamps,kappahsamps,qsamps = gen_samps(samps,test)\n",
        "\n",
        "var_list = [vsamps,omegasamps,kappalsamps,kappahsamps,qsamps]\n",
        "cormat_emp = np.zeros((5,5))\n",
        "tmp = np.vstack((var_list[0],var_list[1],var_list[2],var_list[3],var_list[4]))\n",
        "cormat_emp = np.cov(tmp)\n",
        "sens = np.array([-1.74063875491,-0.970393472244,13.1587256647,17.7516305655,52.3902556893])\n",
        "print(cormat_emp, np.dot(sens,np.dot(cormat_emp,sens)))"
      ],
      "execution_count": null,
      "outputs": [
        {
          "output_type": "stream",
          "text": [
            "2.0011318620000007 0.04318279093895298 0.20780469421779907\n",
            "[[ 1.00876724e+00  1.75153708e-01 -4.80376658e-04 -1.49687366e-03\n",
            "   2.78620413e-04]\n",
            " [ 1.75153708e-01  4.02281621e+00 -7.99696110e-03 -3.19230630e-02\n",
            "   1.00074170e-01]\n",
            " [-4.80376658e-04 -7.99696110e-03  9.97417876e-05 -8.24879554e-05\n",
            "   1.85805384e-06]\n",
            " [-1.49687366e-03 -3.19230630e-02 -8.24879554e-05  4.31871096e-02\n",
            "   4.41484525e-04]\n",
            " [ 2.78620413e-04  1.00074170e-01  1.85805384e-06  4.41484525e-04\n",
            "   1.00649099e-02]] 40.66575412647241\n"
          ],
          "name": "stdout"
        }
      ]
    },
    {
      "cell_type": "code",
      "metadata": {
        "colab_type": "code",
        "id": "BJKHQE_PMbaP",
        "nbpages": {
          "level": 3,
          "link": "[7.2.2.1 Set up diffusion reaction equation](https://ndcbe.github.io/cbe67701-uncertainty-quantification/07.02-Latin-Hypercube-sampling.html#7.2.2.1-Set-up-diffusion-reaction-equation)",
          "section": "7.2.2.1 Set up diffusion reaction equation"
        },
        "colab": {
          "base_uri": "https://localhost:8080/",
          "height": 68
        },
        "outputId": "dbc1d1c6-ca5a-42f8-cd79-7357fedc1abf"
      },
      "source": [
        "Qs = np.zeros(samps)\n",
        "print(np.mean(vsamps),np.mean(omegasamps),np.mean(kappalsamps), np.mean(kappahsamps),np.mean(qsamps))\n",
        "for i in range(samps):\n",
        "    sol,Qs[i] = ADRSource(Lx, Nx, Source_func(xs, qsamps[i]), omega_func(xs, omegasamps[i]), v_func(xs, vsamps[i]),\n",
        "                          kappa_func(xs, kappalsamps[i], kappahsamps[i]))\n"
      ],
      "execution_count": null,
      "outputs": [
        {
          "output_type": "stream",
          "text": [
            "9.996211170854629 19.991729539390022 0.10007439860826033 2.0011318620000007 1.0007749682671143\n"
          ],
          "name": "stdout"
        }
      ]
    },
    {
      "cell_type": "code",
      "metadata": {
        "colab_type": "code",
        "id": "VGk7dr9mMbaR",
        "nbpages": {
          "level": 3,
          "link": "[7.2.2.1 Set up diffusion reaction equation](https://ndcbe.github.io/cbe67701-uncertainty-quantification/07.02-Latin-Hypercube-sampling.html#7.2.2.1-Set-up-diffusion-reaction-equation)",
          "section": "7.2.2.1 Set up diffusion reaction equation"
        },
        "colab": {
          "base_uri": "https://localhost:8080/",
          "height": 540
        },
        "outputId": "48a6c2d5-30af-45d1-9112-fcd9c536bd9c"
      },
      "source": [
        "plt.hist(kappahsamps)\n",
        "plt.show()\n",
        "plt.hist(Qs)\n",
        "plt.show()\n",
        "print(np.mean(Qs),stats.scoreatpercentile(Qs,95) ,stats.scoreatpercentile(Qs,5),np.std(Qs), stats.kurtosis(Qs), stats.skew(Qs))\n",
        "Qref = Qs.copy()\n",
        "np.savetxt(fname=\"ref_\"+ str(samps) + \"_binomial.csv\", delimiter=\",\", X=Qref)"
      ],
      "execution_count": null,
      "outputs": [
        {
          "output_type": "display_data",
          "data": {
            "image/png": "[encoded data removed]",
            "text/plain": [
              "<Figure size 432x288 with 1 Axes>"
            ]
          },
          "metadata": {
            "tags": [],
            "needs_background": "light"
          }
        },
        {
          "output_type": "display_data",
          "data": {
            "image/png": "[encoded data removed]",
            "text/plain": [
              "<Figure size 432x288 with 1 Axes>"
            ]
          },
          "metadata": {
            "tags": [],
            "needs_background": "light"
          }
        },
        {
          "output_type": "stream",
          "text": [
            "52.38429950498757 60.93083101449816 44.256769035451256 5.846536644275092 15.192880831520508 2.154994384485121\n"
          ],
          "name": "stdout"
        }
      ]
    },
    {
      "cell_type": "markdown",
      "metadata": {
        "colab_type": "text",
        "id": "qpV0Y54GqvLa",
        "nbpages": {
          "level": 3,
          "link": "[7.2.2.1 Set up diffusion reaction equation](https://ndcbe.github.io/cbe67701-uncertainty-quantification/07.02-Latin-Hypercube-sampling.html#7.2.2.1-Set-up-diffusion-reaction-equation)",
          "section": "7.2.2.1 Set up diffusion reaction equation"
        }
      },
      "source": [
        "Now we will do 100 samples and compare"
      ]
    },
    {
      "cell_type": "code",
      "metadata": {
        "colab_type": "code",
        "id": "U3uCihlpMbaW",
        "nbpages": {
          "level": 3,
          "link": "[7.2.2.1 Set up diffusion reaction equation](https://ndcbe.github.io/cbe67701-uncertainty-quantification/07.02-Latin-Hypercube-sampling.html#7.2.2.1-Set-up-diffusion-reaction-equation)",
          "section": "7.2.2.1 Set up diffusion reaction equation"
        },
        "colab": {
          "base_uri": "https://localhost:8080/",
          "height": 51
        },
        "outputId": "1ae79b64-e021-4618-f22b-f6581a2e09e7"
      },
      "source": [
        "samps = 100 #4*10**4\n",
        "print (samps)\n",
        "test = norm.cdf(np.random.multivariate_normal(np.zeros(5), corrmat, samps))\n",
        "vsamps,omegasamps,kappalsamps,kappahsamps,qsamps = gen_samps(samps,test)"
      ],
      "execution_count": null,
      "outputs": [
        {
          "output_type": "stream",
          "text": [
            "100\n",
            "2.0141752999999993 0.07959828077091 0.2821316727538934\n"
          ],
          "name": "stdout"
        }
      ]
    },
    {
      "cell_type": "code",
      "metadata": {
        "colab_type": "code",
        "id": "oG02l9jiMbaY",
        "nbpages": {
          "level": 3,
          "link": "[7.2.2.1 Set up diffusion reaction equation](https://ndcbe.github.io/cbe67701-uncertainty-quantification/07.02-Latin-Hypercube-sampling.html#7.2.2.1-Set-up-diffusion-reaction-equation)",
          "section": "7.2.2.1 Set up diffusion reaction equation"
        },
        "colab": {}
      },
      "source": [
        "QSRS = np.zeros(samps)\n",
        "for i in range(samps):\n",
        "    sol,QSRS[i] = ADRSource(Lx, Nx, Source_func(xs, qsamps[i]), omega_func(xs, omegasamps[i]), v_func(xs, vsamps[i]),\n",
        "                          kappa_func(xs, kappalsamps[i], kappahsamps[i]))"
      ],
      "execution_count": null,
      "outputs": []
    },
    {
      "cell_type": "code",
      "metadata": {
        "colab_type": "code",
        "id": "_oWlAwu_eubW",
        "nbpages": {
          "level": 3,
          "link": "[7.2.2.1 Set up diffusion reaction equation](https://ndcbe.github.io/cbe67701-uncertainty-quantification/07.02-Latin-Hypercube-sampling.html#7.2.2.1-Set-up-diffusion-reaction-equation)",
          "section": "7.2.2.1 Set up diffusion reaction equation"
        },
        "colab": {
          "base_uri": "https://localhost:8080/",
          "height": 281
        },
        "outputId": "42a413c6-638b-467a-f7cc-44cc277ee392"
      },
      "source": [
        "plt.hist(QSRS)\n",
        "plt.show()\n",
        "print(np.mean(QSRS),stats.scoreatpercentile(QSRS,95),stats.scoreatpercentile(QSRS,5),np.std(QSRS), \n",
        "      stats.kurtosis(QSRS), stats.skew(QSRS))"
      ],
      "execution_count": null,
      "outputs": [
        {
          "output_type": "display_data",
          "data": {
            "image/png": "[encoded data removed]",
            "text/plain": [
              "<Figure size 432x288 with 1 Axes>"
            ]
          },
          "metadata": {
            "tags": [],
            "needs_background": "light"
          }
        },
        {
          "output_type": "stream",
          "text": [
            "51.754085783529696 59.55016400777867 44.19214310775517 6.711582319278186 19.857958480592576 3.271194643345333\n"
          ],
          "name": "stdout"
        }
      ]
    },
    {
      "cell_type": "markdown",
      "metadata": {
        "colab_type": "text",
        "id": "TqUABHh3i_vm",
        "nbpages": {
          "level": 3,
          "link": "[7.2.2.2 Apply LHS](https://ndcbe.github.io/cbe67701-uncertainty-quantification/07.02-Latin-Hypercube-sampling.html#7.2.2.2-Apply-LHS)",
          "section": "7.2.2.2 Apply LHS"
        }
      },
      "source": [
        "### 7.2.2.2 Apply LHS"
      ]
    },
    {
      "cell_type": "code",
      "metadata": {
        "colab_type": "code",
        "id": "78AGh7iQjANt",
        "nbpages": {
          "level": 3,
          "link": "[7.2.2.2 Apply LHS](https://ndcbe.github.io/cbe67701-uncertainty-quantification/07.02-Latin-Hypercube-sampling.html#7.2.2.2-Apply-LHS)",
          "section": "7.2.2.2 Apply LHS"
        },
        "colab": {
          "base_uri": "https://localhost:8080/",
          "height": 264
        },
        "outputId": "c3405446-3619-4454-e898-b85be5abb88c"
      },
      "source": [
        "#lhd will have the values in 0 to 1\n",
        "lhd = lhs(5, samples=samps)\n",
        "#now i need to turn these into samples from N(0,Corrmat)\n",
        "#do cholesky fact\n",
        "chol = np.linalg.cholesky(corrmat)\n",
        "\n",
        "lhs_unif = np.zeros((samps,5))\n",
        "for i in range(samps):\n",
        "    lhs_unif[i,:] = np.dot(chol,norm.ppf(lhd[i,:]))\n",
        "#print(lhs_unif)\n",
        "#plt.plot(lhd[:,0],lhd[:,1],'.')\n",
        "#plt.show()\n",
        "plt.plot(lhs_unif[:,0],lhs_unif[:,1],'.')\n",
        "plt.show()"
      ],
      "execution_count": null,
      "outputs": [
        {
          "output_type": "display_data",
          "data": {
            "image/png": "[encoded data removed]",
            "text/plain": [
              "<Figure size 432x288 with 1 Axes>"
            ]
          },
          "metadata": {
            "tags": [],
            "needs_background": "light"
          }
        }
      ]
    },
    {
      "cell_type": "code",
      "metadata": {
        "colab_type": "code",
        "id": "veSJTwfsjEQ9",
        "nbpages": {
          "level": 3,
          "link": "[7.2.2.2 Apply LHS](https://ndcbe.github.io/cbe67701-uncertainty-quantification/07.02-Latin-Hypercube-sampling.html#7.2.2.2-Apply-LHS)",
          "section": "7.2.2.2 Apply LHS"
        },
        "colab": {
          "base_uri": "https://localhost:8080/",
          "height": 34
        },
        "outputId": "6f7f258d-b49c-42de-ace6-1aaa59d31a83"
      },
      "source": [
        "test_lhs = norm.cdf(lhs_unif)\n",
        "\n",
        "vsamps,omegasamps,kappalsamps,kappahsamps,qsamps = gen_samps(samps,test_lhs)"
      ],
      "execution_count": null,
      "outputs": [
        {
          "output_type": "stream",
          "text": [
            "1.9858199999999997 4.930380657631324e-32 2.220446049250313e-16\n"
          ],
          "name": "stdout"
        }
      ]
    },
    {
      "cell_type": "code",
      "metadata": {
        "colab_type": "code",
        "id": "ATReERNLjI_E",
        "nbpages": {
          "level": 3,
          "link": "[7.2.2.2 Apply LHS](https://ndcbe.github.io/cbe67701-uncertainty-quantification/07.02-Latin-Hypercube-sampling.html#7.2.2.2-Apply-LHS)",
          "section": "7.2.2.2 Apply LHS"
        },
        "colab": {
          "base_uri": "https://localhost:8080/",
          "height": 336
        },
        "outputId": "21848535-183e-4072-d32b-9eee318588b7"
      },
      "source": [
        "QLHS = np.zeros(samps)\n",
        "for i in range(samps):\n",
        "    sol,QLHS[i] = ADRSource(Lx, Nx, Source_func(xs, qsamps[i]), omega_func(xs, omegasamps[i]), v_func(xs, vsamps[i]),\n",
        "                          kappa_func(xs, kappalsamps[i], kappahsamps[i]))\n",
        "plt.hist(QLHS)\n",
        "plt.show()\n",
        "print(np.mean(QLHS),stats.scoreatpercentile(QLHS,95),stats.scoreatpercentile(QLHS,5),np.std(QLHS), \n",
        "      stats.kurtosis(QLHS), stats.skew(QLHS))\n",
        "print(np.mean(Qs),stats.scoreatpercentile(Qs,95) ,stats.scoreatpercentile(Qs,5),np.std(Qs), stats.kurtosis(Qs), stats.skew(Qs))"
      ],
      "execution_count": null,
      "outputs": [
        {
          "output_type": "display_data",
          "data": {
            "image/png": "[encoded data removed]",
            "text/plain": [
              "<Figure size 432x288 with 1 Axes>"
            ]
          },
          "metadata": {
            "tags": [],
            "needs_background": "light"
          }
        },
        {
          "output_type": "stream",
          "text": [
            "52.091501134877944 60.53399286590944 44.78023096114341 4.899665382873159 1.1994249416182612 0.18626015216253644\n",
            "52.38429950498757 60.93083101449816 44.256769035451256 5.846536644275092 15.192880831520508 2.154994384485121\n"
          ],
          "name": "stdout"
        }
      ]
    },
    {
      "cell_type": "markdown",
      "metadata": {
        "nbpages": {
          "level": 3,
          "link": "[7.2.2.2 Apply LHS](https://ndcbe.github.io/cbe67701-uncertainty-quantification/07.02-Latin-Hypercube-sampling.html#7.2.2.2-Apply-LHS)",
          "section": "7.2.2.2 Apply LHS"
        },
        "id": "3BgQZ5ETbjIo",
        "colab_type": "text"
      },
      "source": [
        "Below is Figure 7.13 in McClarren (2018); it shows the convergence rates of different methods compared against a LHS with 10$^6$ samples."
      ]
    },
    {
      "cell_type": "markdown",
      "metadata": {
        "id": "f-tOt_lCfG13",
        "colab_type": "text"
      },
      "source": [
        "![alt text](https://)"
      ]
    },
    {
      "cell_type": "code",
      "metadata": {
        "nbpages": {
          "level": 3,
          "link": "[7.2.2.2 Apply LHS](https://ndcbe.github.io/cbe67701-uncertainty-quantification/07.02-Latin-Hypercube-sampling.html#7.2.2.2-Apply-LHS)",
          "section": "7.2.2.2 Apply LHS"
        },
        "id": "AwVYmAyzbjIp",
        "colab_type": "code",
        "colab": {}
      },
      "source": [
        ""
      ],
      "execution_count": null,
      "outputs": []
    },
    {
      "cell_type": "markdown",
      "metadata": {
        "id": "R3u9NgnNbjIr",
        "colab_type": "text"
      },
      "source": [
        "<!--NAVIGATION-->\n",
        "< [7.1 Latin Hypercube and Quasi-Monte Carlo Sampling](https://ndcbe.github.io/cbe67701-uncertainty-quantification/07.01-Sampling-Based-Uncertainty-Quantification.html) | [Contents](toc.html) | [7.3 Meaningful Title Goes Here](https://ndcbe.github.io/cbe67701-uncertainty-quantification/07.03-Contributed-Example.html)<p><a href=\"https://colab.research.google.com/github/ndcbe/cbe67701-uncertainty-quantification/blob/master/docs/07.02-Latin-Hypercube-sampling.ipynb\"> <img align=\"left\" src=\"https://colab.research.google.com/assets/colab-badge.svg\" alt=\"Open in Colab\" title=\"Open in Google Colaboratory\"></a><p><a href=\"https://ndcbe.github.io/cbe67701-uncertainty-quantification/07.02-Latin-Hypercube-sampling.ipynb\"> <img align=\"left\" src=\"https://img.shields.io/badge/Github-Download-blue.svg\" alt=\"Download\" title=\"Download Notebook\"></a>"
      ]
    }
  ]
}