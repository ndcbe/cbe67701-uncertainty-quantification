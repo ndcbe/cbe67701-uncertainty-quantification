{
  "nbformat": 4,
  "nbformat_minor": 0,
  "metadata": {
    "kernelspec": {
      "display_name": "Python 3",
      "language": "python",
      "name": "python3"
    },
    "language_info": {
      "codemirror_mode": {
        "name": "ipython",
        "version": 3
      },
      "file_extension": ".py",
      "mimetype": "text/x-python",
      "name": "python",
      "nbconvert_exporter": "python",
      "pygments_lexer": "ipython3",
      "version": "3.7.3"
    },
    "colab": {
      "name": "09_02_Uniform_Random_Variables_Legendre_Polynomials_Example.ipynb",
      "provenance": [],
      "collapsed_sections": []
    }
  },
  "cells": [
    {
      "cell_type": "markdown",
      "metadata": {
        "id": "VIKbplFmN85I",
        "colab_type": "text"
      },
      "source": [
        "# 9.2 Uniform Random Variables: Legendre Polynomials"
      ]
    },
    {
      "cell_type": "markdown",
      "metadata": {
        "id": "X6nqgZlNN85J",
        "colab_type": "text"
      },
      "source": [
        "Created by Kanishka Ghosh (kghosh@nd.edu)\n",
        "\n",
        "The following text and example have been adapted from:\n",
        "\n",
        "McClarren, Ryan G (2018). Uncertainty Quantification and Predictive Computational Science: A Foundation for Physical Scientists and Engineers, Chapter 9: Stochastic Collocation and Projection, Springer, [https://link.springer.com/chapter/10.1007/978-3-319-99525-0_9](https://link.springer.com/chapter/10.1007/978-3-319-99525-0_9)"
      ]
    },
    {
      "cell_type": "markdown",
      "metadata": {
        "id": "PH3ltDE_-Qbu",
        "colab_type": "text"
      },
      "source": [
        "## Generalized Polynomial Chaos\n",
        "Approach to approximate the mapping from input parameter to output random variable using different polynomial expansions when the input parameter is not normally distributed.\n",
        "\n",
        "## Uniform Random Variables: Legendre Polynomials\n",
        "\n",
        "If we consider a random variable $x$ is uniformly distributed in the range $[a,b]$, then $x$ can be written as $x \\sim \\mathcal{U}[a,b]$ and the PDF of $x$ is given as:\n",
        "\n",
        "<br>\n",
        "\n",
        "\\begin{align*}\n",
        "f(x|a,b) = \\begin{cases}\n",
        "\\frac{1}{b-a} \\quad x \\in [a,b]\\\\\n",
        "0 \\quad \\quad \\mathrm{otherwise}\n",
        "\\end{cases}\n",
        "\\end{align*}\n",
        "\n",
        "<br>\n",
        "  \n",
        "To correspond with the support with the standard definition of Legendre polynomials, the interval $[a,b]$ is mapped to $[-1,1]$ by defining random variable $z$ such that $z \\sim \\mathcal{U}[-1,1]$. $x$ and $z$ are related as:\n",
        "\n",
        "<br>\n",
        "\n",
        "\\begin{align*}\n",
        "x = \\frac{b-a}{2}z + \\frac{a+b}{2} \\quad \\mathrm{and}, \\ z = \\frac{a+b-2x}{a-b}\n",
        "\\end{align*}\n",
        "\n",
        "<br>\n",
        "\n",
        "Then, the expectation of a uniform random variable $g(x)$ transforms to:\n",
        " \n",
        " <br>\n",
        "\n",
        "\\begin{align*}\n",
        "E[g(x)] = \\frac{1}{b-a} \\int\\limits_{a}^{b}g(x)dx = \\frac{1}{2} \\int\\limits_{-1}^{1}g \\left(\\frac{b-a}{2}z + \\frac{a+b}{2} \\right)dz\n",
        "\\end{align*}\n",
        "\n",
        "<br>\n",
        "\n",
        "For a function in range $[-1,1]$, the Legendre polynomials form an orthogonal basis and are defined as:\n",
        "\n",
        "<br>\n",
        "\n",
        "\\begin{align*}\n",
        "P_n(x) = \\frac{1}{2^n n!} \\frac{d^n}{dx^n} \\left[ (x^2 - 1)^n \\right]\n",
        "\\end{align*}\n",
        "\n",
        "<br>\n",
        "\n",
        "where $n$ is the order of the polynomial.\n",
        "\n",
        "<br>\n",
        "\n",
        "The expansion of a square-integrable function $g(x)$ on the interval $[a,b]$ in terms of Legrende polynomials is then given as:\n",
        "\n",
        "<br>\n",
        "\n",
        "\\begin{align*}\n",
        "g(x) = \\sum_{n=0}^{\\infty} c_n P_n \\left( \\frac{a+b-2x}{a-b}\\right), \\quad x \\in [a,b]\n",
        "\\end{align*}\n",
        "\n",
        "<br>\n",
        "\n",
        "where $c_n$ is defined by\n",
        "\n",
        "\\begin{align*}\n",
        "c_n = \\frac{2n+1}{2} \\int\\limits_{-1}^{1}g \\left( \\frac{b-a}{2}z + \\frac{a+b}{2} \\right)P_n(z)dz\n",
        "\\end{align*}\n",
        "\n",
        "<br>\n",
        "\n",
        "As $P_0(x) = 1$ (from Table 9.6 of text), $c_0$ gives the mean of the expansion $G \\sim g(x)$\n",
        "\n",
        "<br>\n",
        "\n",
        "\\begin{align*}\n",
        "c_0 = \\frac{1}{2}\\int\\limits_{-1}^{1}g \\left( \\frac{b-a}{2}z + \\frac{a+b}{2} \\right)dz = E[G]\n",
        "\\end{align*}\n",
        "\n",
        "<br>\n",
        "\n",
        "The variance of the expansion G is equivalent to the sum of the squares of the Legendre polynomial coefficients with $n \\geq 1$:\n",
        "\n",
        "<br>\n",
        "\n",
        "\\begin{align*}\n",
        "\\mathrm{Var}(G) = \\frac{1}{2}\\int\\limits_{-1}^{1} \\left( \\sum_{n=1}^{\\infty}c_n P_n (z) \\right)^2 dz - c_0^2 = \\sum_{n=1}^{\\infty}\\frac{c_n^2}{2n+1}\n",
        "\\end{align*}"
      ]
    },
    {
      "cell_type": "markdown",
      "metadata": {
        "id": "yvU3ngtBPGeZ",
        "colab_type": "text"
      },
      "source": [
        "## Example: $G \\sim g(x) = cos(x)$ and $x \\sim \\mathcal{U}(0,2\\pi)$\n",
        "\n",
        "The Legendre polynomial coefficients are given as:\n",
        "\n",
        "<br>\n",
        "\n",
        "\\begin{align*}\n",
        "c_n = \\frac{2n+1}{2}\\int\\limits_{-1}^{1}\\cos(\\pi z+\\pi)P_n(z)dz\n",
        "\\end{align*}\n",
        "\n",
        "<br>\n",
        "\n",
        "The variance of this function is given as:\n",
        "\n",
        "<br>\n",
        "\n",
        "\\begin{align*}\n",
        "\\mathrm{Var}(G) = \\frac{1}{2\\pi}\\int\\limits_{0}^{2\\pi}\\cos^2(x)dx = \\frac{1}{2}\n",
        "\\end{align*}\n",
        "\n",
        "The $n^{\\mathrm{th}}$-order approximations for $G$ using Legendre polynomials can be represented by $G_{approx,n}$ and are calculated as:\n",
        "\n",
        "<br>\n",
        "\n",
        "\\begin{align*}\n",
        "G_{approx,n} = \\sum_{n=0}^{n} c_n P_n \\left( \\frac{a+b-2x}{a-b}\\right), \\quad x \\in [a,b]\n",
        "\\end{align*}\n",
        "\n",
        "<br>\n",
        "\n",
        "and the corresponding variance is given by:\n",
        "\n",
        "<br>\n",
        "\n",
        "\\begin{align*}\n",
        "\\mathrm{Var}(G_{approx,n}) = \\sum_{n=1}^{n}\\frac{c_n^2}{2n+1}\n",
        "\\end{align*}\n",
        "\n",
        "<br>\n",
        "\n",
        "## Results from paper\n",
        "\n",
        "Following is a screenshot of the results presented in the text:\n",
        "\n",
        "![Figure1](figures/Fig-9.4_Table-9.7.png)\n",
        "\n",
        ">"
      ]
    },
    {
      "cell_type": "markdown",
      "metadata": {
        "id": "KpN6w3UbW9fe",
        "colab_type": "text"
      },
      "source": [
        "**Implementation Notes:**\n",
        "*  In this implementation, ```scipy.specials.eval_legendre()``` has been used evaluate the $n^{\\mathrm{th}}$-order Legendre polynomial\n",
        "[https://docs.scipy.org/doc/scipy/reference/generated/scipy.special.eval_legendre.html](https://docs.scipy.org/doc/scipy/reference/generated/scipy.special.eval_legendre.html)\n",
        "*   To reduce runtime, 1000 samples of $x \\sim \\mathcal{U}(0,2\\pi)$ have been used for the following calculations"
      ]
    },
    {
      "cell_type": "markdown",
      "metadata": {
        "id": "EyzmVqxso2ZW",
        "colab_type": "text"
      },
      "source": [
        "## Importing libraries"
      ]
    },
    {
      "cell_type": "code",
      "metadata": {
        "id": "RieCD1PGN85K",
        "colab_type": "code",
        "colab": {
          "base_uri": "https://localhost:8080/",
          "height": 51
        },
        "outputId": "ccfc16cf-7e4c-4903-d94b-8aa0578d9ea4"
      },
      "source": [
        "## import all needed Python libraries here\n",
        "import numpy as np\n",
        "import pandas as pd\n",
        "from scipy.stats import uniform\n",
        "from scipy.special import legendre,eval_legendre\n",
        "# from scipy.misc import derivative\n",
        "from scipy import integrate\n",
        "import matplotlib.pyplot as plt\n",
        "import seaborn as sns"
      ],
      "execution_count": 1,
      "outputs": [
        {
          "output_type": "stream",
          "text": [
            "/usr/local/lib/python3.6/dist-packages/statsmodels/tools/_testing.py:19: FutureWarning: pandas.util.testing is deprecated. Use the functions in the public API at pandas.testing instead.\n",
            "  import pandas.util.testing as tm\n"
          ],
          "name": "stderr"
        }
      ]
    },
    {
      "cell_type": "markdown",
      "metadata": {
        "id": "99rUgecEo6Ye",
        "colab_type": "text"
      },
      "source": [
        "## Functions to calculate exact and $n^{\\mathrm{th}}$-order Legendre polynomial approximation of $g(x)$"
      ]
    },
    {
      "cell_type": "code",
      "metadata": {
        "id": "Sx2HMWz5tFfJ",
        "colab_type": "code",
        "colab": {}
      },
      "source": [
        "def g_x_exact(x):\n",
        "    '''\n",
        "    Function to create the exact form of the random variable, g(x), \n",
        "    being approximated\n",
        "    Argument:\n",
        "        x: Random variable from uniform distribution U[a,b]\n",
        "    Return:\n",
        "        Exact form of the random variable, g(x), being approximated (Here, cos(x))\n",
        "    '''\n",
        "    return np.cos(x)\n",
        "\n",
        "def transform_z_to_x(z,a,b):\n",
        "    '''\n",
        "    Helper function to return x in terms of z (Eq. 9.16 of text)\n",
        "    Arguments:\n",
        "        z: Random variable from uniform distribution U[-1,1]\n",
        "        a: Lower limit of uniform random variable x\n",
        "        b: Upper limit of uniform random variable x\n",
        "    Returns:\n",
        "        x: Random variable from uniform distribution U[a,b] in terms of z\n",
        "    '''\n",
        "    return ((b-a)/2)*z + (a+b)/2\n",
        "\n",
        "def transform_x_to_z(x,a,b):\n",
        "    '''\n",
        "    Helper function to return z in terms of x (Eq. 9.17 of text)\n",
        "    Arguments:\n",
        "        x: Random variable from uniform distribution U[a,b]\n",
        "        a: Lower limit of uniform random variable x\n",
        "        b: Upper limit of uniform random variable x\n",
        "    Returns:\n",
        "        z: Random variable from uniform distribution U[-1,1] in terms of x\n",
        "    '''\n",
        "    return (a+b - 2*x)/(a-b)\n",
        "\n",
        "def coef_n(a,b,n):\n",
        "    '''\n",
        "    Function to generate the Legendre polynomial coefficient of order n\n",
        "    Argument:\n",
        "        a: Lower limit of uniform random variable x\n",
        "        b: Upper limit of uniform random variable x\n",
        "        n: Order of Legendre polynomial\n",
        "    Return:\n",
        "        n-th order Legendre polynomial coefficient (Eq. 9.22 of text)\n",
        "    ''' \n",
        "    # Create a lambda function to return the integrand in terms of z as shown in\n",
        "    # Eq. 9.22 of text.\n",
        "    # Here, scipy.special.eval_legendre() has been used to evaluate the n-th \n",
        "    # order Legendre polynomial\n",
        "    # https://docs.scipy.org/doc/scipy/reference/generated/scipy.special.eval_legendre.html\n",
        "    integrand_func = lambda z: g_x_exact(transform_z_to_x(z,a,b))* \\\n",
        "                               eval_legendre(n,z)\n",
        "    val,err = integrate.quad(integrand_func,-1,1)\n",
        "    return ((2*n + 1)/2)* val\n",
        "\n",
        "def g_x_approximation(x,a,b,n):\n",
        "    '''\n",
        "    Function to generate the n-th order Legendre polynomial expansion of the \n",
        "    random variable g(x), from Eq. 9.21 in text\n",
        "    Arguments:\n",
        "        x: Random variable from uniform distribution U[a,b]\n",
        "        a: Lower limit of uniform random variable x\n",
        "        b: Upper limit of uniform random variable x\n",
        "        n: Order of Legendre polynomial\n",
        "    Return:\n",
        "        n-th order Legendre polynomial expansion of g(x) (Eq. 9.21 of text)\n",
        "    '''\n",
        "    # calculating z in terms of x\n",
        "    z = transform_x_to_z(x,a,b)\n",
        "    # n-th order approximation of g(x)\n",
        "    expansion_sum = 0\n",
        "    # sum over 0 to n-th order Legendre polynomials following from Eq. 9.21 of text\n",
        "    for n_ in range(n+1):\n",
        "        expansion_sum += coef_n(a,b,n_) * eval_legendre(n_,z)\n",
        "    return expansion_sum"
      ],
      "execution_count": 2,
      "outputs": []
    },
    {
      "cell_type": "markdown",
      "metadata": {
        "id": "Ls776U73pO-5",
        "colab_type": "text"
      },
      "source": [
        "## Function to calculate $\\mathrm{Var}(g(x))$, $E[G]$, and $\\mathrm{Var}(G)$"
      ]
    },
    {
      "cell_type": "code",
      "metadata": {
        "id": "qG2eaRN6jUZW",
        "colab_type": "code",
        "colab": {}
      },
      "source": [
        "def var_G_inf(a,b):\n",
        "    '''\n",
        "    Function to calculate the infinite-order approximation of variance of g(x) \n",
        "    following Eq. 9.27 of text\n",
        "    Arguments:\n",
        "        a: Lower limit of uniform random variable x\n",
        "        b: Upper limit of uniform random variable x\n",
        "    Return:\n",
        "        Variance of g(x)\n",
        "    '''\n",
        "    # Var(g(x))\n",
        "    # lambda function to define integrand g(x)^2\n",
        "    integrand_func = lambda x: g_x_exact(x)**2\n",
        "    val, err = integrate.quad(integrand_func,a,b)\n",
        "    return (1/(b-a)) * val\n",
        "\n",
        "def mean_G(a,b):\n",
        "    '''\n",
        "    Function to calculate the mean of the Legendre polynomial expansion G of g(x) \n",
        "    following Eq. 9.23 of text\n",
        "    Arguments:\n",
        "        a: Lower limit of uniform random variable x\n",
        "        b: Upper limit of uniform random variable x\n",
        "    Return:\n",
        "        Variance of G\n",
        "    '''\n",
        "    # lambda function to define integrand g(x)\n",
        "    integrand_func = lambda x: g_x_exact(x)\n",
        "    val, err = integrate.quad(integrand_func,a,b)\n",
        "    return (1/(b-a)) * val\n",
        "\n",
        "# function to calculate variance of G ~ g(x)\n",
        "def var_G_approximation(a,b,n):\n",
        "    '''\n",
        "    Function to calculate the variance of the n-th order Legendre polynomial \n",
        "    expansion of g(x) following Eq. 9.24 of text\n",
        "    Arguments:\n",
        "        a: Lower limit of uniform random variable x\n",
        "        b: Upper limit of uniform random variable x\n",
        "        n: Highest order of Legendre polynomial used for the \n",
        "    Return:\n",
        "        Variance of n-th order Legendre polynomial expansion G of g(x)\n",
        "    '''\n",
        "    # Var(G(approx,n))\n",
        "    sum_sq_coef = 0\n",
        "    # sum of the squares coefficients with n  >= 1\n",
        "    for n_ in range(n+1):\n",
        "        if n_ == 0:\n",
        "            pass\n",
        "        else:\n",
        "            sum_sq_coef += (1/(2*n_ + 1))*coef_n(a,b,n_)**2\n",
        "    return sum_sq_coef"
      ],
      "execution_count": 3,
      "outputs": []
    },
    {
      "cell_type": "markdown",
      "metadata": {
        "id": "4H3zDMcZlX33",
        "colab_type": "text"
      },
      "source": [
        "## Generating samples from $\\mathcal{U}[0,2\\pi]$"
      ]
    },
    {
      "cell_type": "code",
      "metadata": {
        "id": "PvzdhfhMOb0O",
        "colab_type": "code",
        "colab": {}
      },
      "source": [
        "# Number of samples to dram from uniform distribution (1000 samples to reduce computation time)\n",
        "n_samples = 1000\n",
        "# Lower bound of interval for x~ U[0,2pi]\n",
        "a = 0\n",
        "# Upper bound of interval for x~ U[0,2pi]\n",
        "b = 2*np.pi\n",
        "# Orders of Legendre polynomials used for the approximation\n",
        "n_vals = [0,2,4,6,8]\n",
        "# n_samples number of samples drawn from U[0,1)\n",
        "uniform_samples = np.random.random_sample(n_samples)\n",
        "# Samples of x drawn from uniform distribution U[0,2pi)\n",
        "x_vals = [(b - a) * u_samp + a for u_samp in uniform_samples]"
      ],
      "execution_count": 4,
      "outputs": []
    },
    {
      "cell_type": "markdown",
      "metadata": {
        "id": "j103-v9ZqBq_",
        "colab_type": "text"
      },
      "source": [
        "## Convergence of variance for $g(x) = cos(x)$, where $ x \\sim \\mathcal{U} (0, 2\\pi )$"
      ]
    },
    {
      "cell_type": "code",
      "metadata": {
        "id": "6LrSVEdIPPq1",
        "colab_type": "code",
        "colab": {
          "base_uri": "https://localhost:8080/",
          "height": 235
        },
        "outputId": "295bb6ed-80f1-4b77-fde1-178cae971450"
      },
      "source": [
        "# List to store variance of Legendre polynomial approximations of g(x)\n",
        "var_G_list = []\n",
        "# List to store order of approximations of g(x) as strings\n",
        "n_val_list = []\n",
        "\n",
        "# Loop through the different order-cases which are used to approximate g(x)\n",
        "for n in n_vals:\n",
        "    # Calculate variance for n-order approximation of g(x)\n",
        "    var_G_approx_n = var_G_approximation(a,b,n)\n",
        "    # Store n-order approximation in variance list\n",
        "    var_G_list.append(var_G_approx_n)\n",
        "    # Store string format of order of approximation in order list\n",
        "    n_val_list.append(str(n))\n",
        "\n",
        "# Calculate infinite-order variance of g(x)\n",
        "var_G = var_G_inf(a,b)\n",
        "# Add infinite-order variance to variance list\n",
        "var_G_list.append(var_G)\n",
        "# Add order infinity to order list\n",
        "n_val_list.append('Infinity')\n",
        "\n",
        "# Create a pandas dataframe to display the converge of Var(G)\n",
        "variance_data = {'Order':n_val_list,'Variance':var_G_list}\n",
        "df_to_print = pd.DataFrame(variance_data,columns=['Order','Variance'])\n",
        "df_to_print"
      ],
      "execution_count": 5,
      "outputs": [
        {
          "output_type": "execute_result",
          "data": {
            "text/html": [
              "<div>\n",
              "<style scoped>\n",
              "    .dataframe tbody tr th:only-of-type {\n",
              "        vertical-align: middle;\n",
              "    }\n",
              "\n",
              "    .dataframe tbody tr th {\n",
              "        vertical-align: top;\n",
              "    }\n",
              "\n",
              "    .dataframe thead th {\n",
              "        text-align: right;\n",
              "    }\n",
              "</style>\n",
              "<table border=\"1\" class=\"dataframe\">\n",
              "  <thead>\n",
              "    <tr style=\"text-align: right;\">\n",
              "      <th></th>\n",
              "      <th>Order</th>\n",
              "      <th>Variance</th>\n",
              "    </tr>\n",
              "  </thead>\n",
              "  <tbody>\n",
              "    <tr>\n",
              "      <th>0</th>\n",
              "      <td>0</td>\n",
              "      <td>0.000000</td>\n",
              "    </tr>\n",
              "    <tr>\n",
              "      <th>1</th>\n",
              "      <td>2</td>\n",
              "      <td>0.461969</td>\n",
              "    </tr>\n",
              "    <tr>\n",
              "      <th>2</th>\n",
              "      <td>4</td>\n",
              "      <td>0.499663</td>\n",
              "    </tr>\n",
              "    <tr>\n",
              "      <th>3</th>\n",
              "      <td>6</td>\n",
              "      <td>0.499999</td>\n",
              "    </tr>\n",
              "    <tr>\n",
              "      <th>4</th>\n",
              "      <td>8</td>\n",
              "      <td>0.500000</td>\n",
              "    </tr>\n",
              "    <tr>\n",
              "      <th>5</th>\n",
              "      <td>Infinity</td>\n",
              "      <td>0.500000</td>\n",
              "    </tr>\n",
              "  </tbody>\n",
              "</table>\n",
              "</div>"
            ],
            "text/plain": [
              "      Order  Variance\n",
              "0         0  0.000000\n",
              "1         2  0.461969\n",
              "2         4  0.499663\n",
              "3         6  0.499999\n",
              "4         8  0.500000\n",
              "5  Infinity  0.500000"
            ]
          },
          "metadata": {
            "tags": []
          },
          "execution_count": 5
        }
      ]
    },
    {
      "cell_type": "markdown",
      "metadata": {
        "id": "NNfPufcHZU23",
        "colab_type": "text"
      },
      "source": [
        "## Approximate $g(x)$ using different orders of Legendre polynomials"
      ]
    },
    {
      "cell_type": "code",
      "metadata": {
        "id": "QnbmSyWtrtpT",
        "colab_type": "code",
        "colab": {}
      },
      "source": [
        "# Evaluate exact values (order = infinity) of g(x) for samples of x generated\n",
        "g_x_exact_vals = [g_x_exact(x) for x in x_vals]\n",
        "\n",
        "# Evaluate 2nd-order approximation of g(x) for samples of x generated\n",
        "g_x_approx_n_2 = [g_x_approximation(x,a,b,2) for x in x_vals]\n",
        "\n",
        "# Evaluate 4th-order approximation of g(x) for samples of x generated\n",
        "g_x_approx_n_4 = [g_x_approximation(x,a,b,4) for x in x_vals]\n",
        "\n",
        "# Evaluate 6th-order approximation of g(x) for samples of x generated\n",
        "g_x_approx_n_6 = [g_x_approximation(x,a,b,6) for x in x_vals]\n",
        "\n",
        "# Evaluate 8th-order approximation of g(x) for samples of x generated\n",
        "g_x_approx_n_8 = [g_x_approximation(x,a,b,8) for x in x_vals]"
      ],
      "execution_count": 6,
      "outputs": []
    },
    {
      "cell_type": "markdown",
      "metadata": {
        "id": "Ajp4j3a0ZjAW",
        "colab_type": "text"
      },
      "source": [
        "## Plot PDF of the random variable $g(x) = \\cos(x)$, where $x \\sim \\mathcal{U}(0, 2\\pi)$, and various approximations"
      ]
    },
    {
      "cell_type": "code",
      "metadata": {
        "id": "K3vRTO9lGAXa",
        "colab_type": "code",
        "colab": {
          "base_uri": "https://localhost:8080/",
          "height": 536
        },
        "outputId": "c5dda7a7-16aa-4d52-dc9b-0dc7faad995b"
      },
      "source": [
        "# Plot the distributions\n",
        "plt.figure(figsize=(8,6))\n",
        "# Exact values\n",
        "sns.distplot(g_x_exact(x_vals), hist = False,kde = True,\n",
        "                 kde_kws = {'linewidth': 2},label = 'Exact')\n",
        "# Order 2 approximation\n",
        "sns.distplot(g_x_approx_n_2, hist = False, kde = True,\n",
        "                 kde_kws = {'linewidth': 2,'linestyle':'dashed'},label = '2nd order')\n",
        "# Order 4 approximation\n",
        "sns.distplot(g_x_approx_n_4, hist = False, kde = True,\n",
        "                 kde_kws = {'linewidth': 2,'linestyle':'dashdot'},label = '4th order')\n",
        "# Order 6 approximation\n",
        "sns.distplot(g_x_approx_n_6, hist = False, kde = True,\n",
        "                 kde_kws = {'linewidth': 2,'linestyle':'dashed'},label = '6th order')\n",
        "# Order 8 approximation\n",
        "sns.distplot(g_x_approx_n_8, hist = False, kde = True,\n",
        "                 kde_kws = {'linewidth': 2,'linestyle':'dashdot'},label = '8th order')\n",
        "\n",
        "plt.xlim(-1.15,1.15)\n",
        "plt.xlabel('$g(x)$', fontsize = 17)\n",
        "plt.ylabel('density', fontsize = 17)\n",
        "plt.xticks([-1,-0.5,0,0.5,1], fontsize = 17)\n",
        "plt.title('PDF of various approximations of random variable $g(x) = \\cos(x)$ \\n $x \\sim \\mathcal{U}(0,2\\pi)$',fontsize = 17)\n",
        "plt.grid()\n",
        "plt.legend(loc='upper center',bbox_to_anchor=(0.5, -0.2),ncol=3,fontsize = 17)\n",
        "plt.show()"
      ],
      "execution_count": 7,
      "outputs": [
        {
          "output_type": "display_data",
          "data": {
            "image/png": "[encoded data removed]",
            "text/plain": [
              "<Figure size 576x432 with 1 Axes>"
            ]
          },
          "metadata": {
            "tags": [],
            "needs_background": "light"
          }
        }
      ]
    },
    {
      "cell_type": "code",
      "metadata": {
        "id": "s08OTanLfKC0",
        "colab_type": "code",
        "colab": {}
      },
      "source": [
        ""
      ],
      "execution_count": null,
      "outputs": []
    }
  ]
}