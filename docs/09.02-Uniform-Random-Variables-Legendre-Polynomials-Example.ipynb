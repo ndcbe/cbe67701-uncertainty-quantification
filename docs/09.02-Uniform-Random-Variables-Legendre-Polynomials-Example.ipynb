{
 "cells": [
  {
   "cell_type": "markdown",
   "metadata": {},
   "source": [
    "<!--NOTEBOOK_HEADER-->\n",
    "*This notebook contains material from [cbe67701-uncertainty-quantification](https://ndcbe.github.io/cbe67701-uncertainty-quantification);\n",
    "content is available [on Github](https://github.com/ndcbe/cbe67701-uncertainty-quantification.git).*"
   ]
  },
  {
   "cell_type": "markdown",
   "metadata": {},
   "source": [
    "<!--NAVIGATION-->\n",
    "< [9.1 Hermite Expansion for Normally Distributed Parameters](https://ndcbe.github.io/cbe67701-uncertainty-quantification/09.01-Contributed-Example.html) | [Contents](toc.html) | [10.0 Gaussian Process Emulators and Surrogate Models](https://ndcbe.github.io/cbe67701-uncertainty-quantification/10.00-Gaussian-Process-Emulators-and-Surrogate-Models.html)<p><a href=\"https://colab.research.google.com/github/ndcbe/cbe67701-uncertainty-quantification/blob/master/docs/09.02-Uniform-Random-Variables-Legendre-Polynomials-Example.ipynb\"> <img align=\"left\" src=\"https://colab.research.google.com/assets/colab-badge.svg\" alt=\"Open in Colab\" title=\"Open in Google Colaboratory\"></a><p><a href=\"https://ndcbe.github.io/cbe67701-uncertainty-quantification/09.02-Uniform-Random-Variables-Legendre-Polynomials-Example.ipynb\"> <img align=\"left\" src=\"https://img.shields.io/badge/Github-Download-blue.svg\" alt=\"Download\" title=\"Download Notebook\"></a>"
   ]
  },
  {
   "cell_type": "markdown",
   "metadata": {
    "colab_type": "text",
    "id": "VIKbplFmN85I",
    "nbpages": {
     "level": 1,
     "link": "[9.2 Uniform Random Variables: Legendre Polynomials](https://ndcbe.github.io/cbe67701-uncertainty-quantification/09.02-Uniform-Random-Variables-Legendre-Polynomials-Example.html#9.2-Uniform-Random-Variables:-Legendre-Polynomials)",
     "section": "9.2 Uniform Random Variables: Legendre Polynomials"
    }
   },
   "source": [
    "# 9.2 Uniform Random Variables: Legendre Polynomials"
   ]
  },
  {
   "cell_type": "markdown",
   "metadata": {
    "colab_type": "text",
    "id": "X6nqgZlNN85J",
    "nbpages": {
     "level": 1,
     "link": "[9.2 Uniform Random Variables: Legendre Polynomials](https://ndcbe.github.io/cbe67701-uncertainty-quantification/09.02-Uniform-Random-Variables-Legendre-Polynomials-Example.html#9.2-Uniform-Random-Variables:-Legendre-Polynomials)",
     "section": "9.2 Uniform Random Variables: Legendre Polynomials"
    }
   },
   "source": [
    "Created by Kanishka Ghosh (kghosh@nd.edu)\n",
    "\n",
    "The following text, example, and code have been adapted from:\n",
    "\n",
    "McClarren, Ryan G (2018). *Uncertainty Quantification and Predictive Computational Science: A Foundation for Physical Scientists and Engineers, Chapter 9: Stochastic Collocation and Projection*, Springer, [https://link.springer.com/chapter/10.1007/978-3-319-99525-0_9](https://link.springer.com/chapter/10.1007/978-3-319-99525-0_9)"
   ]
  },
  {
   "cell_type": "code",
   "execution_count": 1,
   "metadata": {
    "nbpages": {
     "level": 1,
     "link": "[9.2 Uniform Random Variables: Legendre Polynomials](https://ndcbe.github.io/cbe67701-uncertainty-quantification/09.02-Uniform-Random-Variables-Legendre-Polynomials-Example.html#9.2-Uniform-Random-Variables:-Legendre-Polynomials)",
     "section": "9.2 Uniform Random Variables: Legendre Polynomials"
    }
   },
   "outputs": [
    {
     "name": "stdout",
     "output_type": "stream",
     "text": [
      "Checking for figures/Fig-9.4_Table-9.7.png\n",
      "\tFile found!\n"
     ]
    }
   ],
   "source": [
    "# Download figures (if needed)\n",
    "import os, requests, urllib\n",
    "\n",
    "# GitHub pages url\n",
    "url = \"https://ndcbe.github.io/cbe67701-uncertainty-quantification/\"\n",
    "\n",
    "# relative file paths to download\n",
    "# this is the only line of code you need to change\n",
    "file_paths = ['figures/Fig-9.4_Table-9.7.png']\n",
    "\n",
    "# loop over all files to download\n",
    "for file_path in file_paths:\n",
    "    print(\"Checking for\",file_path)\n",
    "    # split each file_path into a folder and filename\n",
    "    stem, filename = os.path.split(file_path)\n",
    "    \n",
    "    # check if the folder name is not empty\n",
    "    if stem:\n",
    "        # check if the folder exists\n",
    "        if not os.path.exists(stem):\n",
    "            print(\"\\tCreating folder\",stem)\n",
    "            # if the folder does not exist, create it\n",
    "            os.mkdir(stem)\n",
    "    # if the file does not exist, create it by downloading from GitHub pages\n",
    "    if not os.path.isfile(file_path):\n",
    "        file_url = urllib.parse.urljoin(url,\n",
    "                urllib.request.pathname2url(file_path))\n",
    "        print(\"\\tDownloading\",file_url)\n",
    "        with open(file_path, 'wb') as f:\n",
    "            f.write(requests.get(file_url).content)\n",
    "    else:\n",
    "        print(\"\\tFile found!\")"
   ]
  },
  {
   "cell_type": "markdown",
   "metadata": {
    "colab_type": "text",
    "id": "PH3ltDE_-Qbu",
    "nbpages": {
     "level": 2,
     "link": "[9.2.1 Generalized Polynomial Chaos](https://ndcbe.github.io/cbe67701-uncertainty-quantification/09.02-Uniform-Random-Variables-Legendre-Polynomials-Example.html#9.2.1-Generalized-Polynomial-Chaos)",
     "section": "9.2.1 Generalized Polynomial Chaos"
    }
   },
   "source": [
    "## 9.2.1 Generalized Polynomial Chaos\n",
    "Approach to approximate the mapping from input parameter to output random variable using different polynomial expansions when the input parameter is not normally distributed.\n",
    "\n",
    "## Uniform Random Variables: Legendre Polynomials\n",
    "\n",
    "If we consider a random variable $x$ is uniformly distributed in the range $[a,b]$, then $x$ can be written as $x \\sim \\mathcal{U}[a,b]$ and the PDF of $x$ is given as:\n",
    "\n",
    "<br>\n",
    "\n",
    "\\begin{align*}\n",
    "f(x|a,b) = \\begin{cases}\n",
    "\\frac{1}{b-a} \\quad x \\in [a,b]\\\\\n",
    "0 \\quad \\quad \\mathrm{otherwise}\n",
    "\\end{cases}\n",
    "\\end{align*}\n",
    "\n",
    "<br>\n",
    "  \n",
    "To correspond with the support with the standard definition of Legendre polynomials, the interval $[a,b]$ is mapped to $[-1,1]$ by defining random variable $z$ such that $z \\sim \\mathcal{U}[-1,1]$. $x$ and $z$ are related as:\n",
    "\n",
    "<br>\n",
    "\n",
    "\\begin{align*}\n",
    "x = \\frac{b-a}{2}z + \\frac{a+b}{2} \\quad \\mathrm{and}, \\ z = \\frac{a+b-2x}{a-b}\n",
    "\\end{align*}\n",
    "\n",
    "<br>\n",
    "\n",
    "Then, the expectation of a uniform random variable $g(x)$ transforms to:\n",
    " \n",
    " <br>\n",
    "\n",
    "\\begin{align*}\n",
    "E[g(x)] = \\frac{1}{b-a} \\int\\limits_{a}^{b}g(x)dx = \\frac{1}{2} \\int\\limits_{-1}^{1}g \\left(\\frac{b-a}{2}z + \\frac{a+b}{2} \\right)dz\n",
    "\\end{align*}\n",
    "\n",
    "<br>\n",
    "\n",
    "For a function in range $[-1,1]$, the Legendre polynomials form an orthogonal basis and are defined as:\n",
    "\n",
    "<br>\n",
    "\n",
    "\\begin{align*}\n",
    "P_n(x) = \\frac{1}{2^n n!} \\frac{d^n}{dx^n} \\left[ (x^2 - 1)^n \\right]\n",
    "\\end{align*}\n",
    "\n",
    "<br>\n",
    "\n",
    "where $n$ is the order of the polynomial.\n",
    "\n",
    "<br>\n",
    "\n",
    "The expansion of a square-integrable function $g(x)$ on the interval $[a,b]$ in terms of Legrende polynomials is then given as:\n",
    "\n",
    "<br>\n",
    "\n",
    "\\begin{align*}\n",
    "g(x) = \\sum_{n=0}^{\\infty} c_n P_n \\left( \\frac{a+b-2x}{a-b}\\right), \\quad x \\in [a,b]\n",
    "\\end{align*}\n",
    "\n",
    "<br>\n",
    "\n",
    "where $c_n$ is defined by\n",
    "\n",
    "\\begin{align*}\n",
    "c_n = \\frac{2n+1}{2} \\int\\limits_{-1}^{1}g \\left( \\frac{b-a}{2}z + \\frac{a+b}{2} \\right)P_n(z)dz\n",
    "\\end{align*}\n",
    "\n",
    "<br>\n",
    "\n",
    "As $P_0(x) = 1$ (from Table 9.6 of text), $c_0$ gives the mean of the expansion $G \\sim g(x)$\n",
    "\n",
    "<br>\n",
    "\n",
    "\\begin{align*}\n",
    "c_0 = \\frac{1}{2}\\int\\limits_{-1}^{1}g \\left( \\frac{b-a}{2}z + \\frac{a+b}{2} \\right)dz = E[G]\n",
    "\\end{align*}\n",
    "\n",
    "<br>\n",
    "\n",
    "The variance of the expansion G is equivalent to the sum of the squares of the Legendre polynomial coefficients with $n \\geq 1$:\n",
    "\n",
    "<br>\n",
    "\n",
    "\\begin{align*}\n",
    "\\mathrm{Var}(G) = \\frac{1}{2}\\int\\limits_{-1}^{1} \\left( \\sum_{n=1}^{\\infty}c_n P_n (z) \\right)^2 dz - c_0^2 = \\sum_{n=1}^{\\infty}\\frac{c_n^2}{2n+1}\n",
    "\\end{align*}"
   ]
  },
  {
   "cell_type": "markdown",
   "metadata": {
    "colab_type": "text",
    "id": "yvU3ngtBPGeZ",
    "nbpages": {
     "level": 2,
     "link": "[9.2.2 Example: $G \\sim g(x) = cos(x)$ and $x \\sim \\mathcal{U}(0,2\\pi)$](https://ndcbe.github.io/cbe67701-uncertainty-quantification/09.02-Uniform-Random-Variables-Legendre-Polynomials-Example.html#9.2.2-Example:-$G-\\sim-g(x)-=-cos(x)$-and-$x-\\sim-\\mathcal{U}(0,2\\pi)$)",
     "section": "9.2.2 Example: $G \\sim g(x) = cos(x)$ and $x \\sim \\mathcal{U}(0,2\\pi)$"
    }
   },
   "source": [
    "## 9.2.2 Example: $G \\sim g(x) = cos(x)$ and $x \\sim \\mathcal{U}(0,2\\pi)$\n",
    "\n",
    "The Legendre polynomial coefficients are given as:\n",
    "\n",
    "<br>\n",
    "\n",
    "\\begin{align*}\n",
    "c_n = \\frac{2n+1}{2}\\int\\limits_{-1}^{1}\\cos(\\pi z+\\pi)P_n(z)dz\n",
    "\\end{align*}\n",
    "\n",
    "<br>\n",
    "\n",
    "The variance of this function is given as:\n",
    "\n",
    "<br>\n",
    "\n",
    "\\begin{align*}\n",
    "\\mathrm{Var}(G) = \\frac{1}{2\\pi}\\int\\limits_{0}^{2\\pi}\\cos^2(x)dx = \\frac{1}{2}\n",
    "\\end{align*}\n",
    "\n",
    "The $n^{\\mathrm{th}}$-order approximations for $G$ using Legendre polynomials can be represented by $G_{approx,n}$ and are calculated as:\n",
    "\n",
    "<br>\n",
    "\n",
    "\\begin{align*}\n",
    "G_{approx,n} = \\sum_{n=0}^{n} c_n P_n \\left( \\frac{a+b-2x}{a-b}\\right), \\quad x \\in [a,b]\n",
    "\\end{align*}\n",
    "\n",
    "<br>\n",
    "\n",
    "and the corresponding variance is given by:\n",
    "\n",
    "<br>\n",
    "\n",
    "\\begin{align*}\n",
    "\\mathrm{Var}(G_{approx,n}) = \\sum_{n=1}^{n}\\frac{c_n^2}{2n+1}\n",
    "\\end{align*}\n",
    "\n",
    "<br>\n",
    "\n",
    "## Results from Textbook\n",
    "\n",
    "Following is a screenshot of the results presented in the text:\n",
    "\n",
    "![Figure1](figures/Fig-9.4_Table-9.7.png)"
   ]
  },
  {
   "cell_type": "markdown",
   "metadata": {
    "colab_type": "text",
    "id": "KpN6w3UbW9fe",
    "nbpages": {
     "level": 2,
     "link": "[9.2.2 Example: $G \\sim g(x) = cos(x)$ and $x \\sim \\mathcal{U}(0,2\\pi)$](https://ndcbe.github.io/cbe67701-uncertainty-quantification/09.02-Uniform-Random-Variables-Legendre-Polynomials-Example.html#9.2.2-Example:-$G-\\sim-g(x)-=-cos(x)$-and-$x-\\sim-\\mathcal{U}(0,2\\pi)$)",
     "section": "9.2.2 Example: $G \\sim g(x) = cos(x)$ and $x \\sim \\mathcal{U}(0,2\\pi)$"
    }
   },
   "source": [
    "**Implementation Notes:**\n",
    "*  In this implementation, ```scipy.specials.eval_legendre()``` has been used evaluate the $n^{\\mathrm{th}}$-order Legendre polynomial\n",
    "[https://docs.scipy.org/doc/scipy/reference/generated/scipy.special.eval_legendre.html](https://docs.scipy.org/doc/scipy/reference/generated/scipy.special.eval_legendre.html)\n",
    "*   To reduce runtime, 1000 samples of $x \\sim \\mathcal{U}(0,2\\pi)$ have been used for the following calculations"
   ]
  },
  {
   "cell_type": "markdown",
   "metadata": {
    "colab_type": "text",
    "id": "EyzmVqxso2ZW",
    "nbpages": {
     "level": 2,
     "link": "[9.2.3 Importing libraries](https://ndcbe.github.io/cbe67701-uncertainty-quantification/09.02-Uniform-Random-Variables-Legendre-Polynomials-Example.html#9.2.3-Importing-libraries)",
     "section": "9.2.3 Importing libraries"
    }
   },
   "source": [
    "## 9.2.3 Importing libraries"
   ]
  },
  {
   "cell_type": "code",
   "execution_count": 2,
   "metadata": {
    "colab": {
     "base_uri": "https://localhost:8080/",
     "height": 51
    },
    "colab_type": "code",
    "id": "RieCD1PGN85K",
    "nbpages": {
     "level": 2,
     "link": "[9.2.3 Importing libraries](https://ndcbe.github.io/cbe67701-uncertainty-quantification/09.02-Uniform-Random-Variables-Legendre-Polynomials-Example.html#9.2.3-Importing-libraries)",
     "section": "9.2.3 Importing libraries"
    },
    "outputId": "ccfc16cf-7e4c-4903-d94b-8aa0578d9ea4"
   },
   "outputs": [],
   "source": [
    "## import all needed Python libraries here\n",
    "import numpy as np\n",
    "import pandas as pd\n",
    "from scipy.stats import uniform\n",
    "from scipy.special import legendre,eval_legendre\n",
    "# from scipy.misc import derivative\n",
    "from scipy import integrate\n",
    "import matplotlib.pyplot as plt\n",
    "import seaborn as sns"
   ]
  },
  {
   "cell_type": "markdown",
   "metadata": {
    "colab_type": "text",
    "id": "99rUgecEo6Ye",
    "nbpages": {
     "level": 2,
     "link": "[9.2.4 Functions to calculate exact and $n^{\\mathrm{th}}$-order Legendre polynomial approximation of $g(x)$](https://ndcbe.github.io/cbe67701-uncertainty-quantification/09.02-Uniform-Random-Variables-Legendre-Polynomials-Example.html#9.2.4-Functions-to-calculate-exact-and-$n^{\\mathrm{th}}$-order-Legendre-polynomial-approximation-of-$g(x)$)",
     "section": "9.2.4 Functions to calculate exact and $n^{\\mathrm{th}}$-order Legendre polynomial approximation of $g(x)$"
    }
   },
   "source": [
    "## 9.2.4 Functions to calculate exact and $n^{\\mathrm{th}}$-order Legendre polynomial approximation of $g(x)$"
   ]
  },
  {
   "cell_type": "code",
   "execution_count": 3,
   "metadata": {
    "colab": {},
    "colab_type": "code",
    "id": "Sx2HMWz5tFfJ",
    "nbpages": {
     "level": 2,
     "link": "[9.2.4 Functions to calculate exact and $n^{\\mathrm{th}}$-order Legendre polynomial approximation of $g(x)$](https://ndcbe.github.io/cbe67701-uncertainty-quantification/09.02-Uniform-Random-Variables-Legendre-Polynomials-Example.html#9.2.4-Functions-to-calculate-exact-and-$n^{\\mathrm{th}}$-order-Legendre-polynomial-approximation-of-$g(x)$)",
     "section": "9.2.4 Functions to calculate exact and $n^{\\mathrm{th}}$-order Legendre polynomial approximation of $g(x)$"
    }
   },
   "outputs": [],
   "source": [
    "def g_x_exact(x):\n",
    "    '''\n",
    "    Function to create the exact form of the random variable, g(x), \n",
    "    being approximated\n",
    "    Argument:\n",
    "        x: Random variable from uniform distribution U[a,b]\n",
    "    Return:\n",
    "        Exact form of the random variable, g(x), being approximated (Here, cos(x))\n",
    "    '''\n",
    "    return np.cos(x)\n",
    "\n",
    "def transform_z_to_x(z,a,b):\n",
    "    '''\n",
    "    Helper function to return x in terms of z (Eq. 9.16 of text)\n",
    "    Arguments:\n",
    "        z: Random variable from uniform distribution U[-1,1]\n",
    "        a: Lower limit of uniform random variable x\n",
    "        b: Upper limit of uniform random variable x\n",
    "    Returns:\n",
    "        x: Random variable from uniform distribution U[a,b] in terms of z\n",
    "    '''\n",
    "    return ((b-a)/2)*z + (a+b)/2\n",
    "\n",
    "def transform_x_to_z(x,a,b):\n",
    "    '''\n",
    "    Helper function to return z in terms of x (Eq. 9.17 of text)\n",
    "    Arguments:\n",
    "        x: Random variable from uniform distribution U[a,b]\n",
    "        a: Lower limit of uniform random variable x\n",
    "        b: Upper limit of uniform random variable x\n",
    "    Returns:\n",
    "        z: Random variable from uniform distribution U[-1,1] in terms of x\n",
    "    '''\n",
    "    return (a+b - 2*x)/(a-b)\n",
    "\n",
    "def coef_n(a,b,n):\n",
    "    '''\n",
    "    Function to generate the Legendre polynomial coefficient of order n\n",
    "    Argument:\n",
    "        a: Lower limit of uniform random variable x\n",
    "        b: Upper limit of uniform random variable x\n",
    "        n: Order of Legendre polynomial\n",
    "    Return:\n",
    "        n-th order Legendre polynomial coefficient (Eq. 9.22 of text)\n",
    "    ''' \n",
    "    # Create a lambda function to return the integrand in terms of z as shown in\n",
    "    # Eq. 9.22 of text.\n",
    "    # Here, scipy.special.eval_legendre() has been used to evaluate the n-th \n",
    "    # order Legendre polynomial\n",
    "    # https://docs.scipy.org/doc/scipy/reference/generated/scipy.special.eval_legendre.html\n",
    "    integrand_func = lambda z: g_x_exact(transform_z_to_x(z,a,b))* \\\n",
    "                               eval_legendre(n,z)\n",
    "    val,err = integrate.quad(integrand_func,-1,1)\n",
    "    return ((2*n + 1)/2)* val\n",
    "\n",
    "def g_x_approximation(x,a,b,n):\n",
    "    '''\n",
    "    Function to generate the n-th order Legendre polynomial expansion of the \n",
    "    random variable g(x), from Eq. 9.21 in text\n",
    "    Arguments:\n",
    "        x: Random variable from uniform distribution U[a,b]\n",
    "        a: Lower limit of uniform random variable x\n",
    "        b: Upper limit of uniform random variable x\n",
    "        n: Order of Legendre polynomial\n",
    "    Return:\n",
    "        n-th order Legendre polynomial expansion of g(x) (Eq. 9.21 of text)\n",
    "    '''\n",
    "    # calculating z in terms of x\n",
    "    z = transform_x_to_z(x,a,b)\n",
    "    # n-th order approximation of g(x)\n",
    "    expansion_sum = 0\n",
    "    # sum over 0 to n-th order Legendre polynomials following from Eq. 9.21 of text\n",
    "    for n_ in range(n+1):\n",
    "        expansion_sum += coef_n(a,b,n_) * eval_legendre(n_,z)\n",
    "    return expansion_sum"
   ]
  },
  {
   "cell_type": "markdown",
   "metadata": {
    "colab_type": "text",
    "id": "Ls776U73pO-5",
    "nbpages": {
     "level": 2,
     "link": "[9.2.5 Function to calculate $\\mathrm{Var}(g(x))$, $E[G]$, and $\\mathrm{Var}(G)$](https://ndcbe.github.io/cbe67701-uncertainty-quantification/09.02-Uniform-Random-Variables-Legendre-Polynomials-Example.html#9.2.5-Function-to-calculate-$\\mathrm{Var}(g(x))$,-$E[G]$,-and-$\\mathrm{Var}(G)$)",
     "section": "9.2.5 Function to calculate $\\mathrm{Var}(g(x))$, $E[G]$, and $\\mathrm{Var}(G)$"
    }
   },
   "source": [
    "## 9.2.5 Function to calculate $\\mathrm{Var}(g(x))$, $E[G]$, and $\\mathrm{Var}(G)$"
   ]
  },
  {
   "cell_type": "code",
   "execution_count": 4,
   "metadata": {
    "colab": {},
    "colab_type": "code",
    "id": "qG2eaRN6jUZW",
    "nbpages": {
     "level": 2,
     "link": "[9.2.5 Function to calculate $\\mathrm{Var}(g(x))$, $E[G]$, and $\\mathrm{Var}(G)$](https://ndcbe.github.io/cbe67701-uncertainty-quantification/09.02-Uniform-Random-Variables-Legendre-Polynomials-Example.html#9.2.5-Function-to-calculate-$\\mathrm{Var}(g(x))$,-$E[G]$,-and-$\\mathrm{Var}(G)$)",
     "section": "9.2.5 Function to calculate $\\mathrm{Var}(g(x))$, $E[G]$, and $\\mathrm{Var}(G)$"
    }
   },
   "outputs": [],
   "source": [
    "def var_G_inf(a,b):\n",
    "    '''\n",
    "    Function to calculate the infinite-order approximation of variance of g(x) \n",
    "    following Eq. 9.27 of text\n",
    "    Arguments:\n",
    "        a: Lower limit of uniform random variable x\n",
    "        b: Upper limit of uniform random variable x\n",
    "    Return:\n",
    "        Variance of g(x)\n",
    "    '''\n",
    "    # Var(g(x))\n",
    "    # lambda function to define integrand g(x)^2\n",
    "    integrand_func = lambda x: g_x_exact(x)**2\n",
    "    val, err = integrate.quad(integrand_func,a,b)\n",
    "    return (1/(b-a)) * val\n",
    "\n",
    "def mean_G(a,b):\n",
    "    '''\n",
    "    Function to calculate the mean of the Legendre polynomial expansion G of g(x) \n",
    "    following Eq. 9.23 of text\n",
    "    Arguments:\n",
    "        a: Lower limit of uniform random variable x\n",
    "        b: Upper limit of uniform random variable x\n",
    "    Return:\n",
    "        Variance of G\n",
    "    '''\n",
    "    # lambda function to define integrand g(x)\n",
    "    integrand_func = lambda x: g_x_exact(x)\n",
    "    val, err = integrate.quad(integrand_func,a,b)\n",
    "    return (1/(b-a)) * val\n",
    "\n",
    "# function to calculate variance of G ~ g(x)\n",
    "def var_G_approximation(a,b,n):\n",
    "    '''\n",
    "    Function to calculate the variance of the n-th order Legendre polynomial \n",
    "    expansion of g(x) following Eq. 9.24 of text\n",
    "    Arguments:\n",
    "        a: Lower limit of uniform random variable x\n",
    "        b: Upper limit of uniform random variable x\n",
    "        n: Highest order of Legendre polynomial used for the \n",
    "    Return:\n",
    "        Variance of n-th order Legendre polynomial expansion G of g(x)\n",
    "    '''\n",
    "    # Var(G(approx,n))\n",
    "    sum_sq_coef = 0\n",
    "    # sum of the squares coefficients with n  >= 1\n",
    "    for n_ in range(n+1):\n",
    "        if n_ == 0:\n",
    "            pass\n",
    "        else:\n",
    "            sum_sq_coef += (1/(2*n_ + 1))*coef_n(a,b,n_)**2\n",
    "    return sum_sq_coef"
   ]
  },
  {
   "cell_type": "markdown",
   "metadata": {
    "colab_type": "text",
    "id": "4H3zDMcZlX33",
    "nbpages": {
     "level": 2,
     "link": "[9.2.6 Generating samples from $\\mathcal{U}[0,2\\pi]$](https://ndcbe.github.io/cbe67701-uncertainty-quantification/09.02-Uniform-Random-Variables-Legendre-Polynomials-Example.html#9.2.6-Generating-samples-from-$\\mathcal{U}[0,2\\pi]$)",
     "section": "9.2.6 Generating samples from $\\mathcal{U}[0,2\\pi]$"
    }
   },
   "source": [
    "## 9.2.6 Generating samples from $\\mathcal{U}[0,2\\pi]$"
   ]
  },
  {
   "cell_type": "code",
   "execution_count": 5,
   "metadata": {
    "colab": {},
    "colab_type": "code",
    "id": "PvzdhfhMOb0O",
    "nbpages": {
     "level": 2,
     "link": "[9.2.6 Generating samples from $\\mathcal{U}[0,2\\pi]$](https://ndcbe.github.io/cbe67701-uncertainty-quantification/09.02-Uniform-Random-Variables-Legendre-Polynomials-Example.html#9.2.6-Generating-samples-from-$\\mathcal{U}[0,2\\pi]$)",
     "section": "9.2.6 Generating samples from $\\mathcal{U}[0,2\\pi]$"
    }
   },
   "outputs": [],
   "source": [
    "# Number of samples to dram from uniform distribution (1000 samples to reduce computation time)\n",
    "n_samples = 1000\n",
    "# Lower bound of interval for x~ U[0,2pi]\n",
    "a = 0\n",
    "# Upper bound of interval for x~ U[0,2pi]\n",
    "b = 2*np.pi\n",
    "# Orders of Legendre polynomials used for the approximation\n",
    "n_vals = [0,2,4,6,8]\n",
    "# n_samples number of samples drawn from U[0,1)\n",
    "uniform_samples = np.random.random_sample(n_samples)\n",
    "# Samples of x drawn from uniform distribution U[0,2pi)\n",
    "x_vals = [(b - a) * u_samp + a for u_samp in uniform_samples]"
   ]
  },
  {
   "cell_type": "markdown",
   "metadata": {
    "colab_type": "text",
    "id": "j103-v9ZqBq_",
    "nbpages": {
     "level": 2,
     "link": "[9.2.7 Convergence of variance for $g(x) = cos(x)$, where $ x \\sim \\mathcal{U} (0, 2\\pi )$](https://ndcbe.github.io/cbe67701-uncertainty-quantification/09.02-Uniform-Random-Variables-Legendre-Polynomials-Example.html#9.2.7-Convergence-of-variance-for-$g(x)-=-cos(x)$,-where-$-x-\\sim-\\mathcal{U}-(0,-2\\pi-)$)",
     "section": "9.2.7 Convergence of variance for $g(x) = cos(x)$, where $ x \\sim \\mathcal{U} (0, 2\\pi )$"
    }
   },
   "source": [
    "## 9.2.7 Convergence of variance for $g(x) = cos(x)$, where $ x \\sim \\mathcal{U} (0, 2\\pi )$"
   ]
  },
  {
   "cell_type": "code",
   "execution_count": 6,
   "metadata": {
    "colab": {
     "base_uri": "https://localhost:8080/",
     "height": 235
    },
    "colab_type": "code",
    "id": "6LrSVEdIPPq1",
    "nbpages": {
     "level": 2,
     "link": "[9.2.7 Convergence of variance for $g(x) = cos(x)$, where $ x \\sim \\mathcal{U} (0, 2\\pi )$](https://ndcbe.github.io/cbe67701-uncertainty-quantification/09.02-Uniform-Random-Variables-Legendre-Polynomials-Example.html#9.2.7-Convergence-of-variance-for-$g(x)-=-cos(x)$,-where-$-x-\\sim-\\mathcal{U}-(0,-2\\pi-)$)",
     "section": "9.2.7 Convergence of variance for $g(x) = cos(x)$, where $ x \\sim \\mathcal{U} (0, 2\\pi )$"
    },
    "outputId": "295bb6ed-80f1-4b77-fde1-178cae971450"
   },
   "outputs": [
    {
     "data": {
      "text/html": [
       "<div>\n",
       "<style scoped>\n",
       "    .dataframe tbody tr th:only-of-type {\n",
       "        vertical-align: middle;\n",
       "    }\n",
       "\n",
       "    .dataframe tbody tr th {\n",
       "        vertical-align: top;\n",
       "    }\n",
       "\n",
       "    .dataframe thead th {\n",
       "        text-align: right;\n",
       "    }\n",
       "</style>\n",
       "<table border=\"1\" class=\"dataframe\">\n",
       "  <thead>\n",
       "    <tr style=\"text-align: right;\">\n",
       "      <th></th>\n",
       "      <th>Order</th>\n",
       "      <th>Variance</th>\n",
       "    </tr>\n",
       "  </thead>\n",
       "  <tbody>\n",
       "    <tr>\n",
       "      <th>0</th>\n",
       "      <td>0</td>\n",
       "      <td>0.000000</td>\n",
       "    </tr>\n",
       "    <tr>\n",
       "      <th>1</th>\n",
       "      <td>2</td>\n",
       "      <td>0.461969</td>\n",
       "    </tr>\n",
       "    <tr>\n",
       "      <th>2</th>\n",
       "      <td>4</td>\n",
       "      <td>0.499663</td>\n",
       "    </tr>\n",
       "    <tr>\n",
       "      <th>3</th>\n",
       "      <td>6</td>\n",
       "      <td>0.499999</td>\n",
       "    </tr>\n",
       "    <tr>\n",
       "      <th>4</th>\n",
       "      <td>8</td>\n",
       "      <td>0.500000</td>\n",
       "    </tr>\n",
       "    <tr>\n",
       "      <th>5</th>\n",
       "      <td>Infinity</td>\n",
       "      <td>0.500000</td>\n",
       "    </tr>\n",
       "  </tbody>\n",
       "</table>\n",
       "</div>"
      ],
      "text/plain": [
       "      Order  Variance\n",
       "0         0  0.000000\n",
       "1         2  0.461969\n",
       "2         4  0.499663\n",
       "3         6  0.499999\n",
       "4         8  0.500000\n",
       "5  Infinity  0.500000"
      ]
     },
     "execution_count": 6,
     "metadata": {},
     "output_type": "execute_result"
    }
   ],
   "source": [
    "# List to store variance of Legendre polynomial approximations of g(x)\n",
    "var_G_list = []\n",
    "# List to store order of approximations of g(x) as strings\n",
    "n_val_list = []\n",
    "\n",
    "# Loop through the different order-cases which are used to approximate g(x)\n",
    "for n in n_vals:\n",
    "    # Calculate variance for n-order approximation of g(x)\n",
    "    var_G_approx_n = var_G_approximation(a,b,n)\n",
    "    # Store n-order approximation in variance list\n",
    "    var_G_list.append(var_G_approx_n)\n",
    "    # Store string format of order of approximation in order list\n",
    "    n_val_list.append(str(n))\n",
    "\n",
    "# Calculate infinite-order variance of g(x)\n",
    "var_G = var_G_inf(a,b)\n",
    "# Add infinite-order variance to variance list\n",
    "var_G_list.append(var_G)\n",
    "# Add order infinity to order list\n",
    "n_val_list.append('Infinity')\n",
    "\n",
    "# Create a pandas dataframe to display the converge of Var(G)\n",
    "variance_data = {'Order':n_val_list,'Variance':var_G_list}\n",
    "df_to_print = pd.DataFrame(variance_data,columns=['Order','Variance'])\n",
    "df_to_print"
   ]
  },
  {
   "cell_type": "markdown",
   "metadata": {
    "colab_type": "text",
    "id": "NNfPufcHZU23",
    "nbpages": {
     "level": 2,
     "link": "[9.2.8 Approximate $g(x)$ using different orders of Legendre polynomials](https://ndcbe.github.io/cbe67701-uncertainty-quantification/09.02-Uniform-Random-Variables-Legendre-Polynomials-Example.html#9.2.8-Approximate-$g(x)$-using-different-orders-of-Legendre-polynomials)",
     "section": "9.2.8 Approximate $g(x)$ using different orders of Legendre polynomials"
    }
   },
   "source": [
    "## 9.2.8 Approximate $g(x)$ using different orders of Legendre polynomials"
   ]
  },
  {
   "cell_type": "code",
   "execution_count": 7,
   "metadata": {
    "colab": {},
    "colab_type": "code",
    "id": "QnbmSyWtrtpT",
    "nbpages": {
     "level": 2,
     "link": "[9.2.8 Approximate $g(x)$ using different orders of Legendre polynomials](https://ndcbe.github.io/cbe67701-uncertainty-quantification/09.02-Uniform-Random-Variables-Legendre-Polynomials-Example.html#9.2.8-Approximate-$g(x)$-using-different-orders-of-Legendre-polynomials)",
     "section": "9.2.8 Approximate $g(x)$ using different orders of Legendre polynomials"
    }
   },
   "outputs": [],
   "source": [
    "# Evaluate exact values (order = infinity) of g(x) for samples of x generated\n",
    "g_x_exact_vals = [g_x_exact(x) for x in x_vals]\n",
    "\n",
    "# Evaluate 2nd-order approximation of g(x) for samples of x generated\n",
    "g_x_approx_n_2 = [g_x_approximation(x,a,b,2) for x in x_vals]\n",
    "\n",
    "# Evaluate 4th-order approximation of g(x) for samples of x generated\n",
    "g_x_approx_n_4 = [g_x_approximation(x,a,b,4) for x in x_vals]\n",
    "\n",
    "# Evaluate 6th-order approximation of g(x) for samples of x generated\n",
    "g_x_approx_n_6 = [g_x_approximation(x,a,b,6) for x in x_vals]\n",
    "\n",
    "# Evaluate 8th-order approximation of g(x) for samples of x generated\n",
    "g_x_approx_n_8 = [g_x_approximation(x,a,b,8) for x in x_vals]"
   ]
  },
  {
   "cell_type": "markdown",
   "metadata": {
    "colab_type": "text",
    "id": "Ajp4j3a0ZjAW",
    "nbpages": {
     "level": 2,
     "link": "[9.2.9 Plot PDF of the random variable $g(x) = \\cos(x)$, where $x \\sim \\mathcal{U}(0, 2\\pi)$, and various approximations](https://ndcbe.github.io/cbe67701-uncertainty-quantification/09.02-Uniform-Random-Variables-Legendre-Polynomials-Example.html#9.2.9-Plot-PDF-of-the-random-variable-$g(x)-=-\\cos(x)$,-where-$x-\\sim-\\mathcal{U}(0,-2\\pi)$,-and-various-approximations)",
     "section": "9.2.9 Plot PDF of the random variable $g(x) = \\cos(x)$, where $x \\sim \\mathcal{U}(0, 2\\pi)$, and various approximations"
    }
   },
   "source": [
    "## 9.2.9 Plot PDF of the random variable $g(x) = \\cos(x)$, where $x \\sim \\mathcal{U}(0, 2\\pi)$, and various approximations"
   ]
  },
  {
   "cell_type": "code",
   "execution_count": 8,
   "metadata": {
    "colab": {
     "base_uri": "https://localhost:8080/",
     "height": 536
    },
    "colab_type": "code",
    "id": "K3vRTO9lGAXa",
    "nbpages": {
     "level": 2,
     "link": "[9.2.9 Plot PDF of the random variable $g(x) = \\cos(x)$, where $x \\sim \\mathcal{U}(0, 2\\pi)$, and various approximations](https://ndcbe.github.io/cbe67701-uncertainty-quantification/09.02-Uniform-Random-Variables-Legendre-Polynomials-Example.html#9.2.9-Plot-PDF-of-the-random-variable-$g(x)-=-\\cos(x)$,-where-$x-\\sim-\\mathcal{U}(0,-2\\pi)$,-and-various-approximations)",
     "section": "9.2.9 Plot PDF of the random variable $g(x) = \\cos(x)$, where $x \\sim \\mathcal{U}(0, 2\\pi)$, and various approximations"
    },
    "outputId": "c5dda7a7-16aa-4d52-dc9b-0dc7faad995b"
   },
   "outputs": [
    {
     "data": {
      "image/png": "[encoded data removed]",
      "text/plain": [
       "<Figure size 576x432 with 1 Axes>"
      ]
     },
     "metadata": {
      "needs_background": "light"
     },
     "output_type": "display_data"
    }
   ],
   "source": [
    "# Plot the distributions\n",
    "plt.figure(figsize=(8,6))\n",
    "# Exact values\n",
    "sns.distplot(g_x_exact(x_vals), hist = False,kde = True,\n",
    "                 kde_kws = {'linewidth': 2},label = 'Exact')\n",
    "# Order 2 approximation\n",
    "sns.distplot(g_x_approx_n_2, hist = False, kde = True,\n",
    "                 kde_kws = {'linewidth': 2,'linestyle':'dashed'},label = '2nd order')\n",
    "# Order 4 approximation\n",
    "sns.distplot(g_x_approx_n_4, hist = False, kde = True,\n",
    "                 kde_kws = {'linewidth': 2,'linestyle':'dashdot'},label = '4th order')\n",
    "# Order 6 approximation\n",
    "sns.distplot(g_x_approx_n_6, hist = False, kde = True,\n",
    "                 kde_kws = {'linewidth': 2,'linestyle':'dashed'},label = '6th order')\n",
    "# Order 8 approximation\n",
    "sns.distplot(g_x_approx_n_8, hist = False, kde = True,\n",
    "                 kde_kws = {'linewidth': 2,'linestyle':'dashdot'},label = '8th order')\n",
    "\n",
    "plt.xlim(-1.15,1.15)\n",
    "plt.xlabel('$g(x)$', fontsize = 17)\n",
    "plt.ylabel('density', fontsize = 17)\n",
    "plt.xticks([-1,-0.5,0,0.5,1], fontsize = 17)\n",
    "plt.title('PDF of various approximations of random variable $g(x) = \\cos(x)$ \\n $x \\sim \\mathcal{U}(0,2\\pi)$',fontsize = 17)\n",
    "plt.grid()\n",
    "plt.legend(loc='upper center',bbox_to_anchor=(0.5, -0.2),ncol=3,fontsize = 17)\n",
    "plt.show()"
   ]
  },
  {
   "cell_type": "code",
   "execution_count": null,
   "metadata": {
    "colab": {},
    "colab_type": "code",
    "id": "s08OTanLfKC0",
    "nbpages": {
     "level": 2,
     "link": "[9.2.9 Plot PDF of the random variable $g(x) = \\cos(x)$, where $x \\sim \\mathcal{U}(0, 2\\pi)$, and various approximations](https://ndcbe.github.io/cbe67701-uncertainty-quantification/09.02-Uniform-Random-Variables-Legendre-Polynomials-Example.html#9.2.9-Plot-PDF-of-the-random-variable-$g(x)-=-\\cos(x)$,-where-$x-\\sim-\\mathcal{U}(0,-2\\pi)$,-and-various-approximations)",
     "section": "9.2.9 Plot PDF of the random variable $g(x) = \\cos(x)$, where $x \\sim \\mathcal{U}(0, 2\\pi)$, and various approximations"
    }
   },
   "outputs": [],
   "source": []
  },
  {
   "cell_type": "markdown",
   "metadata": {},
   "source": [
    "<!--NAVIGATION-->\n",
    "< [9.1 Hermite Expansion for Normally Distributed Parameters](https://ndcbe.github.io/cbe67701-uncertainty-quantification/09.01-Contributed-Example.html) | [Contents](toc.html) | [10.0 Gaussian Process Emulators and Surrogate Models](https://ndcbe.github.io/cbe67701-uncertainty-quantification/10.00-Gaussian-Process-Emulators-and-Surrogate-Models.html)<p><a href=\"https://colab.research.google.com/github/ndcbe/cbe67701-uncertainty-quantification/blob/master/docs/09.02-Uniform-Random-Variables-Legendre-Polynomials-Example.ipynb\"> <img align=\"left\" src=\"https://colab.research.google.com/assets/colab-badge.svg\" alt=\"Open in Colab\" title=\"Open in Google Colaboratory\"></a><p><a href=\"https://ndcbe.github.io/cbe67701-uncertainty-quantification/09.02-Uniform-Random-Variables-Legendre-Polynomials-Example.ipynb\"> <img align=\"left\" src=\"https://img.shields.io/badge/Github-Download-blue.svg\" alt=\"Download\" title=\"Download Notebook\"></a>"
   ]
  }
 ],
 "metadata": {
  "colab": {
   "collapsed_sections": [],
   "name": "09_02_Uniform_Random_Variables_Legendre_Polynomials_Example.ipynb",
   "provenance": []
  },
  "kernelspec": {
   "display_name": "Python 3",
   "language": "python",
   "name": "python3"
  },
  "language_info": {
   "codemirror_mode": {
    "name": "ipython",
    "version": 3
   },
   "file_extension": ".py",
   "mimetype": "text/x-python",
   "name": "python",
   "nbconvert_exporter": "python",
   "pygments_lexer": "ipython3",
   "version": "3.7.3"
  }
 },
 "nbformat": 4,
 "nbformat_minor": 1
}
