{
 "cells": [
  {
   "cell_type": "markdown",
   "metadata": {},
   "source": [
    "<!--NOTEBOOK_HEADER-->\n",
    "*This notebook contains material from [cbe67701-uncertainty-quantification](https://ndcbe.github.io/cbe67701-uncertainty-quantification);\n",
    "content is available [on Github](https://github.com/ndcbe/cbe67701-uncertainty-quantification.git).*"
   ]
  },
  {
   "cell_type": "markdown",
   "metadata": {},
   "source": [
    "<!--NAVIGATION-->\n",
    "< [8.0 Reliability Methods for Estimating the Probability of Failure](https://ndcbe.github.io/cbe67701-uncertainty-quantification/08.00-Reliability-Methods-for-Estimating-the-Probability-of-Failure.html) | [Contents](toc.html) | [8.2 Meaningful Title Goes Here](https://ndcbe.github.io/cbe67701-uncertainty-quantification/08.02-Contributed-Example.html)<p><a href=\"https://colab.research.google.com/github/ndcbe/cbe67701-uncertainty-quantification/blob/master/docs/08.01-First-Order-Second-Moment-Method.ipynb\"> <img align=\"left\" src=\"https://colab.research.google.com/assets/colab-badge.svg\" alt=\"Open in Colab\" title=\"Open in Google Colaboratory\"></a><p><a href=\"https://ndcbe.github.io/cbe67701-uncertainty-quantification/08.01-First-Order-Second-Moment-Method.ipynb\"> <img align=\"left\" src=\"https://img.shields.io/badge/Github-Download-blue.svg\" alt=\"Download\" title=\"Download Notebook\"></a>"
   ]
  },
  {
   "cell_type": "markdown",
   "metadata": {
    "nbpages": {
     "level": 1,
     "link": "[8.1 First-Order Second-Moment (FOSM) Method Example](https://ndcbe.github.io/cbe67701-uncertainty-quantification/08.01-First-Order-Second-Moment-Method.html#8.1-First-Order-Second-Moment-(FOSM)-Method-Example)",
     "section": "8.1 First-Order Second-Moment (FOSM) Method Example"
    }
   },
   "source": [
    "# 8.1 First-Order Second-Moment (FOSM) Method Example\n",
    "Zihan (Zora) Huang (zhuang2@nd.edu) \n",
    "July 6th, 2020\n",
    "\n",
    "The follow text, example, and code were adapted from:\n",
    "\n",
    "McClarren, Ryan G (2018). Uncertainty Quantification and Predictive Computational Science: A Foundation for Physical Scientists and Engineers, Chapter 8: Reliability Methods for Estimating the Probability of Failure, Springer, https://doi.org/10.1007/978-3-319-99525-0_8"
   ]
  },
  {
   "cell_type": "markdown",
   "metadata": {
    "nbpages": {
     "level": 2,
     "link": "[8.1.1 Summary: Reliability Methods for Estimating the Probability of Failure](https://ndcbe.github.io/cbe67701-uncertainty-quantification/08.01-First-Order-Second-Moment-Method.html#8.1.1-Summary:-Reliability-Methods-for-Estimating-the-Probability-of-Failure)",
     "section": "8.1.1 Summary: Reliability Methods for Estimating the Probability of Failure"
    }
   },
   "source": [
    "## 8.1.1 Summary: Reliability Methods for Estimating the Probability of Failure\n",
    "- Reliability methods are a class of techniques that seek to answer the question of with what probability a QoI will cross some threshold value.<br/><br/>\n",
    "\n",
    "- Reliability methods will try to characterize the safety of the system using a single number, $\\beta$ (reliability of index), expressed as the number of standard deviations above the mean performance where the failure point of the system is. <br/><br/>\n",
    "\n",
    "- Reliability methods try to estimate the system performance using a minimal number of QoI evaluations to infer system behavior, and endeavir that necessarily requires extrapolation from a few data points to an entire distrition. <br/><br/>\n",
    "\n",
    "- Contrast to previous chapters about sampling, where actual samples from the distribution of the QoI was needed to make statements about a distribution, at a cost of requiring many evaluations of QoI. Fewer evaluations are required in reliability analysis, therefore faster.<br/><br/>\n",
    "\n",
    "- Simplifications made reliability method less robust, therefore assumptions and approximations in such calculations needs to be clarified."
   ]
  },
  {
   "cell_type": "markdown",
   "metadata": {
    "nbpages": {
     "level": 2,
     "link": "[8.1.2 First-Order Second-Moment (FOSM)](https://ndcbe.github.io/cbe67701-uncertainty-quantification/08.01-First-Order-Second-Moment-Method.html#8.1.2-First-Order-Second-Moment-(FOSM))",
     "section": "8.1.2 First-Order Second-Moment (FOSM)"
    }
   },
   "source": [
    "## 8.1.2 First-Order Second-Moment (FOSM)\n",
    "\n",
    "The simplest and least expensive type of reliability method involves extending the sensitivity analysis we have already completed to make statments about the values of the distribution. <br/><br/>\n",
    "\n",
    "The first-order second-moment (FOSM) uses first-order sensitivities to estimate the variance. Using the assumption that the value of QoI at the mean of the inputs is the mean of the QoI: <br/><br/>\n",
    "![Fig-8.1.1](figures/Fig-8.1.1.png)<br/><br/>\n",
    "An additional assumption is that the QoI is normal with a known mean and variance.\n",
    "\n",
    "Using the covariance matrix of the inputs, along with the sensitivities,\n",
    "$ \\frac{dQ}{dx_i}$, to estimate the variance: <br/><br/>\n",
    "![Fig-8.1.2](figures/Fig-8.1.2.png)<br/><br/>\n",
    "Q is normally distributed as: <br/><br/>\n",
    "![Fig-8.1.3](figures/Fig-8.1.3.png)<br/><br/>\n",
    "\n",
    "Reliability analysis typically rescales the QoI so that the point we are interested in, the so-called failure point, experessed in quantity, $Z$, such that failure occurs when $Z$ < 0. To use the failure value of QoI, $Q_fail$, to define $Z$: <br/><br/>\n",
    "![Fig-8.1.4](figures/Fig-8.1.4.png)<br/><br/>\n",
    "\n",
    "The probability of failure is: <br/><br/>\n",
    "![Fig-8.1.5](figures/Fig-8.1.5.png)<br/><br/>\n",
    "where $\\phi(x)$ is the standard nomral CDF. \n",
    "\n",
    "The probability of failure leads toi the defination of the reliability index for the system. The reliability index, $\\beta$, is defined as:<br/><br/>\n",
    "\n",
    "![Fig-8.1.6](figures/Fig-8.1.6.png)<br/><br/>"
   ]
  },
  {
   "cell_type": "markdown",
   "metadata": {
    "nbpages": {
     "level": 2,
     "link": "[8.1.3 First-Order Second-Moment (FOSM) Exmaple](https://ndcbe.github.io/cbe67701-uncertainty-quantification/08.01-First-Order-Second-Moment-Method.html#8.1.3-First-Order-Second-Moment-(FOSM)-Exmaple)",
     "section": "8.1.3 First-Order Second-Moment (FOSM) Exmaple"
    }
   },
   "source": [
    "## 8.1.3 First-Order Second-Moment (FOSM) Exmaple\n",
    "\n",
    "\n",
    "This example is from McClarren (2018):\n",
    "\n",
    "![Fig-8.1.7](figures/Fig-8.1.7.png)"
   ]
  },
  {
   "cell_type": "markdown",
   "metadata": {
    "nbpages": {
     "level": 2,
     "link": "[8.1.3 First-Order Second-Moment (FOSM) Exmaple](https://ndcbe.github.io/cbe67701-uncertainty-quantification/08.01-First-Order-Second-Moment-Method.html#8.1.3-First-Order-Second-Moment-(FOSM)-Exmaple)",
     "section": "8.1.3 First-Order Second-Moment (FOSM) Exmaple"
    }
   },
   "source": [
    "**Import Libraries and Download Figures**"
   ]
  },
  {
   "cell_type": "code",
   "execution_count": 1,
   "metadata": {
    "nbpages": {
     "level": 2,
     "link": "[8.1.3 First-Order Second-Moment (FOSM) Exmaple](https://ndcbe.github.io/cbe67701-uncertainty-quantification/08.01-First-Order-Second-Moment-Method.html#8.1.3-First-Order-Second-Moment-(FOSM)-Exmaple)",
     "section": "8.1.3 First-Order Second-Moment (FOSM) Exmaple"
    }
   },
   "outputs": [],
   "source": [
    "import matplotlib.pyplot as plt\n",
    "from scipy.stats import norm\n",
    "import numpy as np\n",
    "import matplotlib.pyplot as plt\n",
    "import scipy.stats as stats\n",
    "%matplotlib inline"
   ]
  },
  {
   "cell_type": "code",
   "execution_count": 2,
   "metadata": {
    "nbpages": {
     "level": 2,
     "link": "[8.1.3 First-Order Second-Moment (FOSM) Exmaple](https://ndcbe.github.io/cbe67701-uncertainty-quantification/08.01-First-Order-Second-Moment-Method.html#8.1.3-First-Order-Second-Moment-(FOSM)-Exmaple)",
     "section": "8.1.3 First-Order Second-Moment (FOSM) Exmaple"
    }
   },
   "outputs": [
    {
     "name": "stdout",
     "output_type": "stream",
     "text": [
      "Checking for figures/Fig-8.1.7.png\n",
      "\tFile found!\n"
     ]
    }
   ],
   "source": [
    "# Download figures (if needed)\n",
    "import os, requests, urllib\n",
    "\n",
    "# GitHub pages url\n",
    "url = \"https://ndcbe.github.io/cbe67701-uncertainty-quantification/\"\n",
    "\n",
    "# relative file paths to download\n",
    "# this is the only line of code you need to change\n",
    "file_paths = ['figures/Fig-8.1.7.png']\n",
    "\n",
    "# loop over all files to download\n",
    "for file_path in file_paths:\n",
    "    print(\"Checking for\",file_path)\n",
    "    # split each file_path into a folder and filename\n",
    "    stem, filename = os.path.split(file_path)\n",
    "    \n",
    "    # check if the folder name is not empty\n",
    "    if stem:\n",
    "        # check if the folder exists\n",
    "        if not os.path.exists(stem):\n",
    "            print(\"\\tCreating folder\",stem)\n",
    "            # if the folder does not exist, create it\n",
    "            os.mkdir(stem)\n",
    "    # if the file does not exist, create it by downloading from GitHub pages\n",
    "    if not os.path.isfile(file_path):\n",
    "        file_url = urllib.parse.urljoin(url,\n",
    "                urllib.request.pathname2url(file_path))\n",
    "        print(\"\\tDownloading\",file_url)\n",
    "        with open(file_path, 'wb') as f:\n",
    "            f.write(requests.get(file_url).content)\n",
    "    else:\n",
    "        print(\"\\tFile found!\")"
   ]
  },
  {
   "cell_type": "code",
   "execution_count": 3,
   "metadata": {
    "nbpages": {
     "level": 2,
     "link": "[8.1.3 First-Order Second-Moment (FOSM) Exmaple](https://ndcbe.github.io/cbe67701-uncertainty-quantification/08.01-First-Order-Second-Moment-Method.html#8.1.3-First-Order-Second-Moment-(FOSM)-Exmaple)",
     "section": "8.1.3 First-Order Second-Moment (FOSM) Exmaple"
    },
    "scrolled": true
   },
   "outputs": [
    {
     "data": {
      "image/png": "[encoded data removed]",
      "text/plain": [
       "<Figure size 432x288 with 1 Axes>"
      ]
     },
     "metadata": {
      "needs_background": "light"
     },
     "output_type": "display_data"
    },
    {
     "name": "stdout",
     "output_type": "stream",
     "text": [
      "> QoI will be normally distributed with mean 11.5 and standard deviation of 4.031128874149275\n",
      "> Failure point, Q_fail, is 16.5\n",
      "> Probability of failure, p_fail, is 0.10742347370282446\n",
      "> Reliability index, β, is 1.2403473458920846\n"
     ]
    }
   ],
   "source": [
    "# Example 8.1: Fig.8.1 FOSM example of linear combination of independent normal random variables\n",
    "\n",
    "x = np.linspace (-2,10,100)\n",
    "mean_x = 5\n",
    "sigma_x = 2\n",
    "y = x\n",
    "mean_y = 3\n",
    "sigma_y = 1\n",
    "\n",
    "# estimation of mean using EQN. 8.1\n",
    "\n",
    "Q_xy_mean = 2 * mean_x + 0.5 * mean_y\n",
    "\n",
    "# estimation of variance using EQN. 4.11\n",
    "\n",
    "dQdx = 2\n",
    "dQdy = 0.5\n",
    "Q_xy_sigma = ((dQdx * sigma_x) ** 2 + (dQdy * sigma_y) ** 2) ** 0.5\n",
    "Q_xy = 2 * x + 0.5 * y\n",
    "\n",
    "### plot the QoI PDF\n",
    "\n",
    "fig, ax = plt.subplots(1, 1)\n",
    "ax.plot(Q_xy,norm.pdf(Q_xy, loc = Q_xy_mean, scale = Q_xy_sigma),'k')\n",
    "plt.xlabel(\"Q (x,y)\")\n",
    "plt.ylabel('Probability Density')\n",
    "\n",
    "# set up a Q_fail value\n",
    "\n",
    "Q_fail = 16.5\n",
    "\n",
    "### plot line of Q_fail\n",
    "\n",
    "y_lim = np.linspace (0,0.1,100)\n",
    "ax.plot(Q_fail + 0*y_lim,y_lim + 0*Q_fail, '--')\n",
    "plt.text(17,0.08, 'Q_fail') # add text\n",
    "\n",
    "### Plot the shaded area between Q_fail and the PDF\n",
    "\n",
    "x_overlaplim = np.linspace (Q_fail,25,100)\n",
    "ax.fill_between(x_overlaplim, 0, norm.pdf(x_overlaplim, loc = Q_xy_mean, scale = Q_xy_sigma) ,\n",
    "                 facecolor=\"orange\", # The fill color\n",
    "                 color='orange',       # The outline color\n",
    "                 alpha=0.2)  \n",
    "plt.show()\n",
    "\n",
    "# probability of failure\n",
    "\n",
    "p_fail = 1 - stats.norm.cdf(Q_fail, loc = Q_xy_mean, scale = Q_xy_sigma)\n",
    "\n",
    "# reliability index \n",
    "\n",
    "beta = (Q_fail - Q_xy_mean)/Q_xy_sigma\n",
    "\n",
    "\n",
    "print('> QoI will be normally distributed with mean',Q_xy_mean, 'and standard deviation of', Q_xy_sigma)\n",
    "print('> Failure point, Q_fail, is', Q_fail)\n",
    "print('> Probability of failure, p_fail, is', p_fail)\n",
    "print('> Reliability index, β, is', beta)"
   ]
  },
  {
   "cell_type": "markdown",
   "metadata": {},
   "source": [
    "<!--NAVIGATION-->\n",
    "< [8.0 Reliability Methods for Estimating the Probability of Failure](https://ndcbe.github.io/cbe67701-uncertainty-quantification/08.00-Reliability-Methods-for-Estimating-the-Probability-of-Failure.html) | [Contents](toc.html) | [8.2 Meaningful Title Goes Here](https://ndcbe.github.io/cbe67701-uncertainty-quantification/08.02-Contributed-Example.html)<p><a href=\"https://colab.research.google.com/github/ndcbe/cbe67701-uncertainty-quantification/blob/master/docs/08.01-First-Order-Second-Moment-Method.ipynb\"> <img align=\"left\" src=\"https://colab.research.google.com/assets/colab-badge.svg\" alt=\"Open in Colab\" title=\"Open in Google Colaboratory\"></a><p><a href=\"https://ndcbe.github.io/cbe67701-uncertainty-quantification/08.01-First-Order-Second-Moment-Method.ipynb\"> <img align=\"left\" src=\"https://img.shields.io/badge/Github-Download-blue.svg\" alt=\"Download\" title=\"Download Notebook\"></a>"
   ]
  }
 ],
 "metadata": {
  "kernelspec": {
   "display_name": "Python 3",
   "language": "python",
   "name": "python3"
  },
  "language_info": {
   "codemirror_mode": {
    "name": "ipython",
    "version": 3
   },
   "file_extension": ".py",
   "mimetype": "text/x-python",
   "name": "python",
   "nbconvert_exporter": "python",
   "pygments_lexer": "ipython3",
   "version": "3.7.3"
  }
 },
 "nbformat": 4,
 "nbformat_minor": 2
}
