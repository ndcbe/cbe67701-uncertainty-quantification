{
 "cells": [
  {
   "cell_type": "markdown",
   "metadata": {},
   "source": [
    "<!--NOTEBOOK_HEADER-->\n",
    "*This notebook contains material from [cbe67701-uncertainty-quantification](https://ndcbe.github.io/cbe67701-uncertainty-quantification);\n",
    "content is available [on Github](git@github.com:ndcbe/cbe67701-uncertainty-quantification.git).*"
   ]
  },
  {
   "cell_type": "markdown",
   "metadata": {},
   "source": [
    "<!--NAVIGATION-->\n",
    "< [4.1 Local sensitivity analysis and difference approximation](https://ndcbe.github.io/cbe67701-uncertainty-quantification/04.01-Local-sensitivity-analysis.html) | [Contents](toc.html) | [5.0 Regression Approximations to Estimate Sensitivities](https://ndcbe.github.io/cbe67701-uncertainty-quantification/05.00-Regression-Approximations-to-Estimate-Sensitivities.html)<p><a href=\"https://colab.research.google.com/github/ndcbe/cbe67701-uncertainty-quantification/blob/master/docs/04.02-Simple-ADR-Example.ipynb\"> <img align=\"left\" src=\"https://colab.research.google.com/assets/colab-badge.svg\" alt=\"Open in Colab\" title=\"Open in Google Colaboratory\"></a><p><a href=\"https://ndcbe.github.io/cbe67701-uncertainty-quantification/04.02-Simple-ADR-Example.ipynb\"> <img align=\"left\" src=\"https://img.shields.io/badge/Github-Download-blue.svg\" alt=\"Download\" title=\"Download Notebook\"></a>"
   ]
  },
  {
   "cell_type": "markdown",
   "metadata": {
    "colab_type": "text",
    "id": "RUPnOS_kKsBa",
    "nbpages": {
     "level": 1,
     "link": "[4.2 Advection-Diffusion-Reaction (ADR) Example](https://ndcbe.github.io/cbe67701-uncertainty-quantification/04.02-Simple-ADR-Example.html#4.2-Advection-Diffusion-Reaction-(ADR)-Example)",
     "section": "4.2 Advection-Diffusion-Reaction (ADR) Example"
    }
   },
   "source": [
    "# 4.2 Advection-Diffusion-Reaction (ADR) Example\n",
    "Noah Wamble (nwamble@nd.edu) \n",
    "June 22nd, 2020"
   ]
  },
  {
   "cell_type": "markdown",
   "metadata": {
    "nbpages": {
     "level": 1,
     "link": "[4.2 Advection-Diffusion-Reaction (ADR) Example](https://ndcbe.github.io/cbe67701-uncertainty-quantification/04.02-Simple-ADR-Example.html#4.2-Advection-Diffusion-Reaction-(ADR)-Example)",
     "section": "4.2 Advection-Diffusion-Reaction (ADR) Example"
    }
   },
   "source": [
    "This example was adapted from code from:\n",
    "\n",
    "McClarren, Ryan G (2018). *Uncertainty Quantification and Predictive Computational Science: A Foundation for Physical Scientists and Engineers*, *Chapter 4: Local Sensitivity Analysis Based on Derivative Approximations*, Springer, https://doi.org/10.1007/978-3-319-99525-0_4"
   ]
  },
  {
   "cell_type": "markdown",
   "metadata": {
    "colab_type": "text",
    "id": "pm6095qCKz8I",
    "nbpages": {
     "level": 3,
     "link": "[4.2.1 **What do we want to know?** ](https://ndcbe.github.io/cbe67701-uncertainty-quantification/04.02-Simple-ADR-Example.html#4.2.1-**What-do-we-want-to-know?**)",
     "section": "4.2.1 **What do we want to know?** "
    }
   },
   "source": [
    "### 4.2.1 **What do we want to know?** \n",
    "\n",
    "* How would the QoIs vary for small, expected perturbations in the inputs if given knowledge of the QoI at a particular value? To accomplish this, we are interested in the derivative of the QoI at a nominal input value (95)."
   ]
  },
  {
   "cell_type": "markdown",
   "metadata": {
    "colab_type": "text",
    "id": "AUwChLScLAYK",
    "nbpages": {
     "level": 3,
     "link": "[4.2.2 **Why do we want to know that?**](https://ndcbe.github.io/cbe67701-uncertainty-quantification/04.02-Simple-ADR-Example.html#4.2.2-**Why-do-we-want-to-know-that?**)",
     "section": "4.2.2 **Why do we want to know that?**"
    }
   },
   "source": [
    "### 4.2.2 **Why do we want to know that?**\n",
    "\n",
    "\n",
    "* This information will allow us **to see which parameters have a larger effect** on the QoI. \n",
    "\n",
    "* Knowing the sensitivities allows the researcher **to narrow the focus** to a smaller number of parameters and then apply more rigorous techniques to only these parameters. \n",
    "\n",
    "* If the variabilities in these distributions are small, it may be possible to **quantify the uncertainty** in the QoI to these parameters using only local information (95).\n"
   ]
  },
  {
   "cell_type": "markdown",
   "metadata": {
    "colab_type": "text",
    "id": "GAePL8DTL-Vb",
    "nbpages": {
     "level": 3,
     "link": "[4.2.3 **4.3.1 Simple ADR Example** ](https://ndcbe.github.io/cbe67701-uncertainty-quantification/04.02-Simple-ADR-Example.html#4.2.3-**4.3.1-Simple-ADR-Example**)",
     "section": "4.2.3 **4.3.1 Simple ADR Example** "
    }
   },
   "source": [
    "### 4.2.3 **4.3.1 Simple ADR Example** \n",
    "We will study the steady advection-diffusion-reaction equation  in one-spatial dimension with a spatially constant, but uncertain, diffusion coefficient, a linear reaction term, and a prescribed uncertain source.\n",
    "\n",
    "$$\n",
    "\\nu \\frac{du}{dx} - \\omega \\frac{d^2u}{dx^2} + \\kappa(x)u = S(x)\n",
    "$$\n",
    "With initial condition: \n",
    "$$\n",
    " u(0)=u(10)=0\n",
    "$$\n",
    "Where:\n",
    "$$\n",
    "\\kappa(x) =     \\begin{cases}\n",
    "      \\kappa_l & x \\: \\epsilon \\: (5,7.5)\\\\\n",
    "      \\kappa_h & \\text{otherwise}\\\\\n",
    "    \\end{cases} \n",
    "$$\n",
    "$$\n",
    "$$\n",
    "$$ \n",
    "S(x)= qx(10-x)\n",
    "$$\n",
    "\n",
    "With $\\mu_v =10$, $\\mu_\\omega= 20$, Var$(\\mu_v)=0.0723493$, Var$(\\omega)= 0.3195214$\n",
    "\n",
    "\n",
    "\n",
    " $\\mu_{\\kappa_h} = 2$, Var$( \\kappa_h ) = 0.002778142$ , and $\\mu_{k_l} = 0.1$, Var$( \\kappa_l )= 8.511570 \\times 10^{-6}$, $\\mu_q = 1,$ Var$(q)= 7.062353 \\times 10^{-4}$ \n",
    "\n",
    "We also prescribe that the parameters ordered as $(\\nu,\\omega,\\kappa_l,\\kappa_u,q)$ have the following correlation matrix: \n",
    "\n",
    "$$\n",
    "R= \n",
    "\\begin{pmatrix}\n",
    "1.00 & 0.10 & -0.05 & 0.00 & 0.00\\\\\n",
    "0.10 & 1.00 & -0.40 & 0.30 & 0.50 \\\\\n",
    "0.00 & 0.30 & 0.20 & 1.00 & -0.10 \\\\\n",
    "0.00 & 0.50 & 0.00 & -0.10 & 1.00 \\\\\n",
    "\\end{pmatrix}\n",
    "$$\n",
    "The QoI is total reaction rate: \n",
    "$$\n",
    "Q= \\int^{10}_{0} \\kappa(x_ u) u(x)dx\n",
    "$$\n"
   ]
  },
  {
   "cell_type": "markdown",
   "metadata": {
    "colab_type": "text",
    "id": "dwRcQkuIQozE",
    "nbpages": {
     "level": 3,
     "link": "[4.2.3 **4.3.1 Simple ADR Example** ](https://ndcbe.github.io/cbe67701-uncertainty-quantification/04.02-Simple-ADR-Example.html#4.2.3-**4.3.1-Simple-ADR-Example**)",
     "section": "4.2.3 **4.3.1 Simple ADR Example** "
    }
   },
   "source": [
    "**Import Libraries**\n",
    "\n"
   ]
  },
  {
   "cell_type": "code",
   "execution_count": 1,
   "metadata": {
    "colab": {},
    "colab_type": "code",
    "id": "uGpgzLB_PCOh",
    "nbpages": {
     "level": 3,
     "link": "[4.2.3 **4.3.1 Simple ADR Example** ](https://ndcbe.github.io/cbe67701-uncertainty-quantification/04.02-Simple-ADR-Example.html#4.2.3-**4.3.1-Simple-ADR-Example**)",
     "section": "4.2.3 **4.3.1 Simple ADR Example** "
    }
   },
   "outputs": [],
   "source": [
    "import matplotlib.pyplot as plt\n",
    "import numpy as np\n",
    "import scipy.sparse as sparse\n",
    "import scipy.sparse.linalg as linalg\n",
    "import scipy.integrate as integrate\n",
    "import math"
   ]
  },
  {
   "cell_type": "markdown",
   "metadata": {
    "colab_type": "text",
    "id": "ms4kt8rRWl9p",
    "nbpages": {
     "level": 3,
     "link": "[4.2.3 **4.3.1 Simple ADR Example** ](https://ndcbe.github.io/cbe67701-uncertainty-quantification/04.02-Simple-ADR-Example.html#4.2.3-**4.3.1-Simple-ADR-Example**)",
     "section": "4.2.3 **4.3.1 Simple ADR Example** "
    }
   },
   "source": [
    "**Numerical Method to Solve ADR Equation** "
   ]
  },
  {
   "cell_type": "code",
   "execution_count": 2,
   "metadata": {
    "colab": {},
    "colab_type": "code",
    "id": "TLf2mdKkKy_z",
    "nbpages": {
     "level": 3,
     "link": "[4.2.3 **4.3.1 Simple ADR Example** ](https://ndcbe.github.io/cbe67701-uncertainty-quantification/04.02-Simple-ADR-Example.html#4.2.3-**4.3.1-Simple-ADR-Example**)",
     "section": "4.2.3 **4.3.1 Simple ADR Example** "
    }
   },
   "outputs": [],
   "source": [
    "def ADRSource(Lx, Nx, Source, omega, v, kappa):\n",
    "    \"\"\"\n",
    "    This function solves the diffusion equation with a generalized source. \n",
    "    \n",
    "    Inputs \n",
    "    Lx, Nx: Used to make the size of the dx term \n",
    "    Source: Source function\n",
    "    omega: diffusion coefficient \n",
    "    v: velocity field  \n",
    "    kappa: reaction coefficient equation \n",
    "\n",
    "\n",
    "    Outputs:\n",
    "    Solution: u(x) values \n",
    "    Q: Total reaction rate \n",
    "    \n",
    "    \"\"\"\n",
    "    \n",
    "    #Initialize A matrix that will be solved \n",
    "    A = sparse.dia_matrix((Nx,Nx),dtype=\"complex\")\n",
    "    #Initialize size of dx step \n",
    "    dx = Lx/Nx\n",
    "    i2dx2 = 1.0/(dx*dx)\n",
    "    #fill diagonal of A\n",
    "    A.setdiag(2*i2dx2*omega + np.sign(v)*v/dx + kappa)\n",
    "    #fill off diagonals of A\n",
    "    A.setdiag(-i2dx2*omega[1:Nx] +\n",
    "              0.5*(1-np.sign(v[1:Nx]))*v[1:Nx]/dx,1)\n",
    "    A.setdiag(-i2dx2*omega[0:(Nx-1)] -\n",
    "              0.5*(np.sign(v[0:(Nx-1)])+1)*v[0:(Nx-1)]/dx,-1)\n",
    "    \n",
    "    #solving equation A x = Source\n",
    "    Solution = linalg.spsolve(A,Source)\n",
    "    #Use trapezoidal integrater to find integral\n",
    "    Q = integrate.trapz(Solution*kappa,dx=dx)\n",
    "\n",
    "    return Solution, Q"
   ]
  },
  {
   "cell_type": "markdown",
   "metadata": {
    "colab_type": "text",
    "id": "kCjKFR0FYHQx",
    "nbpages": {
     "level": 3,
     "link": "[4.2.3 **4.3.1 Simple ADR Example** ](https://ndcbe.github.io/cbe67701-uncertainty-quantification/04.02-Simple-ADR-Example.html#4.2.3-**4.3.1-Simple-ADR-Example**)",
     "section": "4.2.3 **4.3.1 Simple ADR Example** "
    }
   },
   "source": [
    "**Define Parameters**"
   ]
  },
  {
   "cell_type": "code",
   "execution_count": 3,
   "metadata": {
    "colab": {
     "base_uri": "https://localhost:8080/",
     "height": 385
    },
    "colab_type": "code",
    "id": "SKObIHN3KRhC",
    "nbpages": {
     "level": 3,
     "link": "[4.2.3 **4.3.1 Simple ADR Example** ](https://ndcbe.github.io/cbe67701-uncertainty-quantification/04.02-Simple-ADR-Example.html#4.2.3-**4.3.1-Simple-ADR-Example**)",
     "section": "4.2.3 **4.3.1 Simple ADR Example** "
    },
    "outputId": "c075e88b-3977-4adf-b684-a568bc0002dd"
   },
   "outputs": [
    {
     "name": "stderr",
     "output_type": "stream",
     "text": [
      "/anaconda3/lib/python3.7/site-packages/scipy/sparse/linalg/dsolve/linsolve.py:133: SparseEfficiencyWarning: spsolve requires A be CSC or CSR matrix format\n",
      "  SparseEfficiencyWarning)\n",
      "/anaconda3/lib/python3.7/site-packages/numpy/core/numeric.py:538: ComplexWarning: Casting complex values to real discards the imaginary part\n",
      "  return array(a, dtype, copy=False, order=order)\n"
     ]
    },
    {
     "data": {
      "image/png": "[encoded data removed]",
      "text/plain": [
       "<Figure size 432x288 with 1 Axes>"
      ]
     },
     "metadata": {
      "needs_background": "light"
     },
     "output_type": "display_data"
    }
   ],
   "source": [
    "#Define desired spatial map and step\n",
    "Lx = 10\n",
    "Nx = 2000\n",
    "dx = Lx/Nx\n",
    "\n",
    "#Define functions that will be used by numerical solver \n",
    "#source function \n",
    "Source_func = lambda x, q:  q*x*(10-x)\n",
    "#reaction constants \n",
    "kappa_func = lambda x, kappal, kappah: kappah + (kappal-kappah)*(x>5)*(x<7.5)\n",
    "#Initialize these to the correct size \n",
    "v_func = lambda x,v: v*np.ones(x.size)\n",
    "omega_func = lambda x,omega: omega*np.ones(x.size)\n",
    "\n",
    "#Define array for plotting purposes \n",
    "xs = np.linspace(dx/2,Lx-dx/2,Nx)\n",
    "\n",
    "# evaluate source and kappa\n",
    "source = Source_func(xs, 1)\n",
    "kappa = kappa_func(xs, 0.1, 2)\n",
    "\n",
    "#nominal values and given variances \n",
    "omega_nom = 20\n",
    "omega_var = 0.3195214\n",
    "v_nom = 10\n",
    "v_var = 0.0723493\n",
    "kappal_nom = 0.1\n",
    "kappal_var = 8.511570e-6\n",
    "kappah_nom = 2\n",
    "kappah_var = 0.002778142\n",
    "q_nom = 1\n",
    "q_var = 7.062353e-4\n",
    "vs = v_func(xs, v_nom)\n",
    "# print(vs)\n",
    "\n",
    "#Call Numerical Function above to solve equation \n",
    "sol,Q = ADRSource(Lx, Nx, source, omega_func(xs, omega_nom), vs, kappa)\n",
    "# print(Q)\n",
    "\n",
    "#Plot solution \n",
    "plt.plot(xs,sol)\n",
    "plt.xlabel('x')\n",
    "plt.ylabel('u(x)')\n",
    "plt.title('The solution u(x) evaluated at mean value of uncertain parameters ')\n",
    "plt.show()\n"
   ]
  },
  {
   "cell_type": "markdown",
   "metadata": {
    "colab_type": "text",
    "id": "T6ugw9X1ZF4z",
    "nbpages": {
     "level": 3,
     "link": "[4.2.3 **4.3.1 Simple ADR Example** ](https://ndcbe.github.io/cbe67701-uncertainty-quantification/04.02-Simple-ADR-Example.html#4.2.3-**4.3.1-Simple-ADR-Example**)",
     "section": "4.2.3 **4.3.1 Simple ADR Example** "
    }
   },
   "source": [
    "**Sensitivity Analysis** "
   ]
  },
  {
   "cell_type": "markdown",
   "metadata": {
    "colab_type": "text",
    "id": "2M96vCvlfyQ4",
    "nbpages": {
     "level": 3,
     "link": "[4.2.3 **4.3.1 Simple ADR Example** ](https://ndcbe.github.io/cbe67701-uncertainty-quantification/04.02-Simple-ADR-Example.html#4.2.3-**4.3.1-Simple-ADR-Example**)",
     "section": "4.2.3 **4.3.1 Simple ADR Example** "
    }
   },
   "source": [
    "Sensitivity using Forward Difference Derivative Approximation: \n",
    "\n",
    "$$\n",
    "\\frac{\\partial Q}{\\partial x_i} \\bigg|_{\\overline{x}} \\approx \\frac{Q(\\overline{x} + \\delta_i\\hat{e_i}) - Q(\\overline{x})}{\\delta_i}\n",
    "$$\n",
    "Scaled Sensitivity Coefficient: \n",
    "\n",
    "$$\n",
    "\\overline{x_i}\\frac{\\delta Q}{\\delta x_i}\\bigg|_\\overline{x}\n",
    "$$\n",
    "\n",
    "Sensitivity Index:\n",
    "$$\n",
    "\\sigma_i\\frac{\\delta Q}{\\delta x_i}\\bigg|_\\overline{x}\n",
    "$$"
   ]
  },
  {
   "cell_type": "code",
   "execution_count": 4,
   "metadata": {
    "colab": {
     "base_uri": "https://localhost:8080/",
     "height": 530
    },
    "colab_type": "code",
    "id": "Gkfvtj6rZEiI",
    "nbpages": {
     "level": 3,
     "link": "[4.2.3 **4.3.1 Simple ADR Example** ](https://ndcbe.github.io/cbe67701-uncertainty-quantification/04.02-Simple-ADR-Example.html#4.2.3-**4.3.1-Simple-ADR-Example**)",
     "section": "4.2.3 **4.3.1 Simple ADR Example** "
    },
    "outputId": "2249e1f4-ad01-40ce-8fa0-3023e8a82a30"
   },
   "outputs": [
    {
     "name": "stdout",
     "output_type": "stream",
     "text": [
      "######################### Sensitivity Analysis #################\n",
      "v sensitivity:  (-1.7406387549101512+0j)\n",
      "v scaled sensitivity:  (-17.406387549101513+0j)\n",
      "v Sensitivity index:  (-0.46819396950072134+0j)\n",
      "\n",
      "\n",
      "omega sensitivity:  (-0.970203846506479+0j)\n",
      "omega scaled sensitivity:  (-19.40407693012958+0j)\n",
      "omega sensitivity index:  (-0.5484195995587706+0j)\n",
      "\n",
      "\n",
      "Kappa_l sensitivity:  (12.867971008745371+0j)\n",
      "Kappa_l scaled sensitivity:  (1.2867971008745371+0j)\n",
      "Kappa_l sensitivity index:  (0.0375417844104318+0j)\n",
      "\n",
      "\n",
      "Kappa_h sensitivity:  (17.761271102756382+0j)\n",
      "Kappa_h scaled sensitivity:  (35.522542205512764+0j)\n",
      "Kappa_h sensitivity index:  (0.9361625491891298+0j)\n",
      "\n",
      "\n",
      "q sensitivity:  (52.39025306025269+0j)\n",
      "q scaled sensitivity:  (52.39025306025269+0j)\n",
      "q sensitivity index:  (1.3922755832423062+0j)\n",
      "\n",
      "\n"
     ]
    }
   ],
   "source": [
    "\n",
    "#v sensitivity\n",
    "#finite difference step amount \n",
    "delta = 1e-6\n",
    "vs_pert = v_func(xs, v_nom*(1+delta))\n",
    "#Calculate second point for finite difference\n",
    "sol,Q_new = ADRSource(Lx, Nx, source, omega_func(xs, omega_nom), vs_pert, kappa)\n",
    "#finite difference Sensitivity Calculation \n",
    "sens_v = (Q_new - Q)/(v_nom*delta)\n",
    "#Scaled Sensitivity \n",
    "scaled_v = sens_v*v_nom\n",
    "#Sensitivity Index \n",
    "index_v = math.sqrt(v_var)*sens_v\n",
    "#Print Commands \n",
    "print('######################### Sensitivity Analysis #################')\n",
    "print(\"v sensitivity: \", sens_v)\n",
    "print(\"v scaled sensitivity: \", scaled_v)\n",
    "print(\"v Sensitivity index: \", index_v)\n",
    "print('\\n')\n",
    "\n",
    "#omega sensitivity\n",
    "#Calculate second point for finite difference \n",
    "sol,Q_new = ADRSource(Lx, Nx, source, omega_func(xs, omega_nom*(1+delta)), vs, kappa)\n",
    "#Sensitivity calculation using finite difference \n",
    "sens_omega = (Q_new - Q)/(omega_nom*delta)\n",
    "#Scaled sensitivity Calc\n",
    "scaled_v = sens_omega*omega_nom\n",
    "#Sensitivity Index Calc\n",
    "index_v = math.sqrt(omega_var)*sens_omega\n",
    "#Print Commands \n",
    "print(\"omega sensitivity: \", sens_omega)\n",
    "print(\"omega scaled sensitivity: \", scaled_v)\n",
    "print(\"omega sensitivity index: \", index_v)\n",
    "print('\\n')\n",
    "\n",
    "#kappal sensitivity\n",
    "#Calculate second point value for finite difference \n",
    "sol,Q_new = ADRSource(Lx, Nx, source, omega_func(xs, omega_nom), vs, kappa_func(xs, kappal_nom*(1+delta), 2))\n",
    "#Sensitivity Calculation using finite difference \n",
    "sens_kappal = (Q_new - Q)/(kappal_nom*delta)\n",
    "#Scaled Sensitivity Calc \n",
    "scaled_v = sens_kappal*kappal_nom\n",
    "#Sensitivity Index Calc\n",
    "index_v = math.sqrt(kappal_var)*sens_kappal\n",
    "#Print Commands \n",
    "print(\"Kappa_l sensitivity: \", sens_kappal)\n",
    "print(\"Kappa_l scaled sensitivity: \", scaled_v)\n",
    "print(\"Kappa_l sensitivity index: \", index_v)\n",
    "print('\\n')\n",
    "\n",
    "#kappah sensitivity\n",
    "#Calculate second point value for finite difference \n",
    "sol,Q_new = ADRSource(Lx, Nx, source, omega_func(xs, omega_nom), vs, kappa_func(xs, kappal_nom, kappah_nom*(1+delta)))\n",
    "#Sensitivity Calculation using finite difference \n",
    "sens_kappah = (Q_new - Q)/(kappah_nom*delta)\n",
    "#Scaled Sensitivity Calc\n",
    "scaled_v = sens_kappah*kappah_nom\n",
    "#Sensitivity Index Calc\n",
    "index_v = math.sqrt(kappah_var)*sens_kappah\n",
    "#Print Commands \n",
    "print(\"Kappa_h sensitivity: \", sens_kappah)\n",
    "print(\"Kappa_h scaled sensitivity: \", scaled_v)\n",
    "print(\"Kappa_h sensitivity index: \", index_v)\n",
    "print('\\n')\n",
    "\n",
    "#q sensitivity\n",
    "#Calculate second point value for finite difference \n",
    "sol,Q_new = ADRSource(Lx, Nx, Source_func(xs, q_nom*(1+delta)), omega_func(xs, omega_nom), vs,kappa_func(xs, kappal_nom, kappah_nom))\n",
    "sens_q = (Q_new - Q)/(q_nom*delta)\n",
    "#Scaled Sensitivity Calc\n",
    "scaled_v = sens_q*q_nom\n",
    "#Sensitivity Index Calc\n",
    "index_v = math.sqrt(q_var)*sens_q\n",
    "#print commands\n",
    "print(\"q sensitivity: \", sens_q)\n",
    "print(\"q scaled sensitivity: \", scaled_v)\n",
    "print(\"q sensitivity index: \", index_v)\n",
    "print('\\n')"
   ]
  },
  {
   "cell_type": "markdown",
   "metadata": {},
   "source": [
    "<!--NAVIGATION-->\n",
    "< [4.1 Local sensitivity analysis and difference approximation](https://ndcbe.github.io/cbe67701-uncertainty-quantification/04.01-Local-sensitivity-analysis.html) | [Contents](toc.html) | [5.0 Regression Approximations to Estimate Sensitivities](https://ndcbe.github.io/cbe67701-uncertainty-quantification/05.00-Regression-Approximations-to-Estimate-Sensitivities.html)<p><a href=\"https://colab.research.google.com/github/ndcbe/cbe67701-uncertainty-quantification/blob/master/docs/04.02-Simple-ADR-Example.ipynb\"> <img align=\"left\" src=\"https://colab.research.google.com/assets/colab-badge.svg\" alt=\"Open in Colab\" title=\"Open in Google Colaboratory\"></a><p><a href=\"https://ndcbe.github.io/cbe67701-uncertainty-quantification/04.02-Simple-ADR-Example.ipynb\"> <img align=\"left\" src=\"https://img.shields.io/badge/Github-Download-blue.svg\" alt=\"Download\" title=\"Download Notebook\"></a>"
   ]
  }
 ],
 "metadata": {
  "colab": {
   "collapsed_sections": [],
   "name": "04.02.Simple ADR Example.ipynb",
   "provenance": []
  },
  "kernelspec": {
   "display_name": "Python 3",
   "language": "python",
   "name": "python3"
  },
  "language_info": {
   "codemirror_mode": {
    "name": "ipython",
    "version": 3
   },
   "file_extension": ".py",
   "mimetype": "text/x-python",
   "name": "python",
   "nbconvert_exporter": "python",
   "pygments_lexer": "ipython3",
   "version": "3.7.3"
  }
 },
 "nbformat": 4,
 "nbformat_minor": 1
}
