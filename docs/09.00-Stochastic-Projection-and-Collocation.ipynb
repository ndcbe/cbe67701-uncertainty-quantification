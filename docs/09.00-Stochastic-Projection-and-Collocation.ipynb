{
 "cells": [
  {
   "cell_type": "markdown",
   "metadata": {},
   "source": [
    "<!--NOTEBOOK_HEADER-->\n",
    "*This notebook contains material from [cbe67701-uncertainty-quantification](https://ndcbe.github.io/cbe67701-uncertainty-quantification);\n",
    "content is available [on Github](git@github.com:ndcbe/cbe67701-uncertainty-quantification.git).*"
   ]
  },
  {
   "cell_type": "markdown",
   "metadata": {},
   "source": [
    "<!--NAVIGATION-->\n",
    "< [8.3 Meaningful Title Goes Here](https://ndcbe.github.io/cbe67701-uncertainty-quantification/08.03-Contributed-Example.html) | [Contents](toc.html) | [9.1 Meaningful Title Goes Here](https://ndcbe.github.io/cbe67701-uncertainty-quantification/09.01-Contributed-Example.html)<p><a href=\"https://colab.research.google.com/github/ndcbe/cbe67701-uncertainty-quantification/blob/master/docs/09.00-Stochastic-Projection-and-Collocation.ipynb\"> <img align=\"left\" src=\"https://colab.research.google.com/assets/colab-badge.svg\" alt=\"Open in Colab\" title=\"Open in Google Colaboratory\"></a><p><a href=\"https://ndcbe.github.io/cbe67701-uncertainty-quantification/09.00-Stochastic-Projection-and-Collocation.ipynb\"> <img align=\"left\" src=\"https://img.shields.io/badge/Github-Download-blue.svg\" alt=\"Download\" title=\"Download Notebook\"></a>"
   ]
  },
  {
   "cell_type": "markdown",
   "metadata": {
    "nbpages": {
     "level": 1,
     "link": "[9.0 Stochastic Projection and Collocation](https://ndcbe.github.io/cbe67701-uncertainty-quantification/09.00-Stochastic-Projection-and-Collocation.html#9.0-Stochastic-Projection-and-Collocation)",
     "section": "9.0 Stochastic Projection and Collocation"
    }
   },
   "source": [
    "# 9.0 Stochastic Projection and Collocation"
   ]
  },
  {
   "cell_type": "code",
   "execution_count": null,
   "metadata": {
    "nbpages": {
     "level": 1,
     "link": "[9.0 Stochastic Projection and Collocation](https://ndcbe.github.io/cbe67701-uncertainty-quantification/09.00-Stochastic-Projection-and-Collocation.html#9.0-Stochastic-Projection-and-Collocation)",
     "section": "9.0 Stochastic Projection and Collocation"
    }
   },
   "outputs": [],
   "source": []
  },
  {
   "cell_type": "markdown",
   "metadata": {},
   "source": [
    "<!--NAVIGATION-->\n",
    "< [8.3 Meaningful Title Goes Here](https://ndcbe.github.io/cbe67701-uncertainty-quantification/08.03-Contributed-Example.html) | [Contents](toc.html) | [9.1 Meaningful Title Goes Here](https://ndcbe.github.io/cbe67701-uncertainty-quantification/09.01-Contributed-Example.html)<p><a href=\"https://colab.research.google.com/github/ndcbe/cbe67701-uncertainty-quantification/blob/master/docs/09.00-Stochastic-Projection-and-Collocation.ipynb\"> <img align=\"left\" src=\"https://colab.research.google.com/assets/colab-badge.svg\" alt=\"Open in Colab\" title=\"Open in Google Colaboratory\"></a><p><a href=\"https://ndcbe.github.io/cbe67701-uncertainty-quantification/09.00-Stochastic-Projection-and-Collocation.ipynb\"> <img align=\"left\" src=\"https://img.shields.io/badge/Github-Download-blue.svg\" alt=\"Download\" title=\"Download Notebook\"></a>"
   ]
  }
 ],
 "metadata": {
  "kernelspec": {
   "display_name": "Python 3",
   "language": "python",
   "name": "python3"
  },
  "language_info": {
   "codemirror_mode": {
    "name": "ipython",
    "version": 3
   },
   "file_extension": ".py",
   "mimetype": "text/x-python",
   "name": "python",
   "nbconvert_exporter": "python",
   "pygments_lexer": "ipython3",
   "version": "3.7.3"
  }
 },
 "nbformat": 4,
 "nbformat_minor": 2
}
